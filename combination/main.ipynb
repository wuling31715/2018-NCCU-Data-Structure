{
 "cells": [
  {
   "cell_type": "code",
   "execution_count": 1,
   "metadata": {
    "collapsed": true
   },
   "outputs": [],
   "source": [
    "def main(a, b):\n",
    "        x = 1\n",
    "        y = 1\n",
    "        d = a - b\n",
    "        if d > b:\n",
    "            for i in range(d + 1, a + 1):\n",
    "                x = x * i\n",
    "            for i in range(1, b + 1):\n",
    "                y = y * i\n",
    "        else:\n",
    "            for i in range(b + 1, a + 1):\n",
    "                x = x * i\n",
    "            for i in range(1, d + 1):\n",
    "                y = y * i\n",
    "        c = int(x / y)\n",
    "        return c"
   ]
  },
  {
   "cell_type": "code",
   "execution_count": 2,
   "metadata": {
    "collapsed": false
   },
   "outputs": [
    {
     "name": "stdout",
     "output_type": "stream",
     "text": [
      "C\n",
      "42\n",
      "6\n",
      "combination: 5245786\n"
     ]
    }
   ],
   "source": [
    "A = int(input('C\\n'))\n",
    "B = int(input())\n",
    "print('combination: %d' % (main(A, B)))"
   ]
  }
 ],
 "metadata": {
  "kernelspec": {
   "display_name": "Python 3",
   "language": "python",
   "name": "python3"
  },
  "language_info": {
   "codemirror_mode": {
    "name": "ipython",
    "version": 3
   },
   "file_extension": ".py",
   "mimetype": "text/x-python",
   "name": "python",
   "nbconvert_exporter": "python",
   "pygments_lexer": "ipython3",
   "version": "3.6.0"
  }
 },
 "nbformat": 4,
 "nbformat_minor": 2
}
