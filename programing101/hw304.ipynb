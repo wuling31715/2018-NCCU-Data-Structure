{
 "cells": [
  {
   "cell_type": "code",
   "execution_count": 10,
   "metadata": {
    "collapsed": false
   },
   "outputs": [
    {
     "name": "stdout",
     "output_type": "stream",
     "text": [
      "3\n",
      "Adam 29:46.532374 2:46.538374 9:46.535374\n",
      "bAdam 2:46.532374 2:46.538374 9:46.535374\n",
      "cAdam 29:46.532374 2:46.538374 9:46.545374\n",
      "rank name   time\n",
      "1    cAdam  1786.53,586.54,166.53\n",
      "2    Adam   1786.53,586.53,166.53\n",
      "3    bAdam  586.53,166.53,166.53\n",
      "\n",
      "cAdam\n"
     ]
    }
   ],
   "source": [
    "input_list = list()\n",
    "player_list = list()\n",
    "rank_list = list()\n",
    "\n",
    "def print_score(rank, name, time):\n",
    "    while len(rank) <= 4:\n",
    "        rank += ' '\n",
    "    while len(name) <= 6:\n",
    "        name += ' '\n",
    "    print(rank + name + time)\n",
    "\n",
    "def get_time_str(input_list):\n",
    "    output_str = ''\n",
    "    for i in input_list:\n",
    "        i = str(i)\n",
    "        dot_index = i.index('.')\n",
    "        if len(i[dot_index+1:]) < 2:\n",
    "            i += '0'\n",
    "        output_str = output_str + i + ','\n",
    "    return output_str[:-1]\n",
    "        \n",
    "\n",
    "def rank_player():\n",
    "    while len(player_list) > 0:\n",
    "        top_score = 0\n",
    "        top_player = list()\n",
    "        for i in player_list:\n",
    "            if i[-1] > top_score:\n",
    "                top_score = i[-1]\n",
    "                top_player = i                \n",
    "        rank_list.append(top_player)\n",
    "        player_list.remove(top_player)\n",
    "\n",
    "def average_score(input_list):\n",
    "    total = 0.0\n",
    "    for i in input_list:\n",
    "        total += float(i)\n",
    "    return total / len(input_list)\n",
    "\n",
    "def sort_score(input_list):\n",
    "    output_list = list()\n",
    "    output_list.append(input_list[0])\n",
    "    sort_list = sorted(input_list[1:])\n",
    "    sort_list = sort_list[::-1]    \n",
    "    output_list += sort_list\n",
    "    return output_list\n",
    "\n",
    "def minute_to_second(input_str):\n",
    "    i = input_str.index(':')\n",
    "    minute  = int(input_str[:i])\n",
    "    second = int(input_str[i+1:i+3])\n",
    "    total_second = (minute * 60) + second\n",
    "    j = input_str.index('.')\n",
    "    small_second = input_str[j+1:j+3]\n",
    "#     small_second = float(input_str[j-1:])\n",
    "#     small_second = str(round(small_second, 2))\n",
    "#     small_second = small_second[2:]\n",
    "    output = float(str(total_second) + '.' + small_second)\n",
    "    return output    \n",
    "\n",
    "N = int(input())\n",
    "for i in range(N):\n",
    "    input_list.append(input().split())\n",
    "for i, j in enumerate(input_list):\n",
    "    for k, l in enumerate(j[1:]):\n",
    "        input_list[i][k+1] = minute_to_second(l)\n",
    "for i in input_list:\n",
    "    player_list.append(sort_score(i))\n",
    "for i, j in enumerate(player_list):\n",
    "    player_list[i].append(average_score(j[1:]))\n",
    "rank_player()\n",
    "winner = ''\n",
    "# print(rank_list)\n",
    "print('{:<4s} {:<6s} {:<s}'.format('rank', 'name', 'time'))\n",
    "for i, j in enumerate(rank_list):\n",
    "    if i == 0:\n",
    "        rank = str(1)\n",
    "        name = str(j[0])\n",
    "        time = get_time_str(j[1:-1])\n",
    "        print_score(rank, name, time)\n",
    "        rank_list[i].append(rank)\n",
    "    else:\n",
    "        rank = 0\n",
    "        if rank_list[i][-1] == rank_list[i-1][-2]:\n",
    "            rank = rank_list[i-1][-1]\n",
    "        else:\n",
    "            rank = str(i + 1)\n",
    "        name = str(j[0])\n",
    "        time = get_time_str(j[1:-1])\n",
    "        print_score(rank, name, time)\n",
    "        rank_list[i].append(rank)\n",
    "    if rank == '1':\n",
    "        winner = winner + ',' + name\n",
    "        \n",
    "print()\n",
    "print(winner[1:])"
   ]
  },
  {
   "cell_type": "code",
   "execution_count": null,
   "metadata": {
    "collapsed": true
   },
   "outputs": [],
   "source": [
    "Adam 29:46.532374 2:46.538374 9:46.535374"
   ]
  }
 ],
 "metadata": {
  "kernelspec": {
   "display_name": "Python 3",
   "language": "python",
   "name": "python3"
  },
  "language_info": {
   "codemirror_mode": {
    "name": "ipython",
    "version": 3
   },
   "file_extension": ".py",
   "mimetype": "text/x-python",
   "name": "python",
   "nbconvert_exporter": "python",
   "pygments_lexer": "ipython3",
   "version": "3.5.4"
  }
 },
 "nbformat": 4,
 "nbformat_minor": 2
}
