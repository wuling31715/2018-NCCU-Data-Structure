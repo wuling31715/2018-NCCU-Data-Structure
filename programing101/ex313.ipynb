{
 "cells": [
  {
   "cell_type": "code",
   "execution_count": 33,
   "metadata": {
    "collapsed": false
   },
   "outputs": [
    {
     "name": "stdout",
     "output_type": "stream",
     "text": [
      "55\n",
      "['Klay Thompson', 'JaVale McGee', 'Kevin Durant', 'Damian Jones', 'Draymond Green']\n",
      "勇士亡朝\n"
     ]
    }
   ],
   "source": [
    "import random\n",
    "\n",
    "players=['Jordan Bell','Klay Thompson','Kevin Durant','JaVale McGee','Draymond Green','Andre Iguodala','David West',\\\n",
    "'Shaun Livingston','Quinn Cook','Kevon Looney','Nick Young','Damian Jones','Stephen Curry','Patrick McCaw',\\\n",
    "'Zaza Pachulia']\n",
    "\n",
    "def count_star(player_list):\n",
    "    output = 0\n",
    "    for i in player_list:\n",
    "        if i == 'Klay Thompson':\n",
    "            output += 1\n",
    "        elif i == 'Kevin Durant':\n",
    "            output += 1\n",
    "        elif i == 'Draymond Green':\n",
    "            output += 1\n",
    "        elif i == 'Stephen Curry':\n",
    "            output += 1\n",
    "    return output\n",
    "\n",
    "def count_win(x):\n",
    "    if x == 4:\n",
    "        return '勇士王朝'\n",
    "    elif x == 3:\n",
    "        return '勇士亡朝'\n",
    "    elif x == 2:\n",
    "        return '止步西決'\n",
    "    elif x == 1:\n",
    "        return '提早放假'\n",
    "    elif x == 0:\n",
    "        return '一輪遊'\n",
    "    \n",
    "def is_one_round(player_list):\n",
    "    for i in player_list:\n",
    "        if i == 'Patrick McCaw':\n",
    "            return True\n",
    "        else:\n",
    "            return False\n",
    "        \n",
    "            \n",
    "N = int(input())\n",
    "random.seed(N)\n",
    "sample_list = random.sample(players, 5)\n",
    "print(sample_list)\n",
    "one_round = is_one_round(sample_list)\n",
    "if one_round:\n",
    "    print('一輪遊')\n",
    "else:\n",
    "    print(count_win(count_star(sample_list)))"
   ]
  },
  {
   "cell_type": "code",
   "execution_count": null,
   "metadata": {
    "collapsed": true
   },
   "outputs": [],
   "source": []
  }
 ],
 "metadata": {
  "kernelspec": {
   "display_name": "Python 3",
   "language": "python",
   "name": "python3"
  },
  "language_info": {
   "codemirror_mode": {
    "name": "ipython",
    "version": 3
   },
   "file_extension": ".py",
   "mimetype": "text/x-python",
   "name": "python",
   "nbconvert_exporter": "python",
   "pygments_lexer": "ipython3",
   "version": "3.5.4"
  }
 },
 "nbformat": 4,
 "nbformat_minor": 2
}
