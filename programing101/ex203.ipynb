{
 "cells": [
  {
   "cell_type": "code",
   "execution_count": 15,
   "metadata": {},
   "outputs": [
    {
     "name": "stdout",
     "output_type": "stream",
     "text": [
      "===\n"
     ]
    }
   ],
   "source": [
    "input_list = list()\n",
    "\n",
    "while True:\n",
    "    input_str = input()\n",
    "    if input_str == '===':\n",
    "        break\n",
    "    else:\n",
    "        input_list.append(input_str)\n",
    "\n",
    "word_list = list()\n",
    "\n",
    "for i in input_list:\n",
    "    j = i.split()\n",
    "    for k in j:\n",
    "        word_list.append(k)\n",
    "        \n",
    "output_list = [['a', 0]]\n",
    "\n",
    "for i in word_list:\n",
    "    is_in = False\n",
    "    for j in output_list:\n",
    "        if i == j[0]:\n",
    "            is_in = True\n",
    "    if is_in:\n",
    "        for j in output_list:\n",
    "            if i == j[0]:\n",
    "                j[1] += 1\n",
    "    else:\n",
    "        output_list.append([i, 1])\n",
    "        \n",
    "for i in output_list[1:]:\n",
    "    print(i[0], i[1])"
   ]
  },
  {
   "cell_type": "code",
   "execution_count": null,
   "metadata": {
    "collapsed": true
   },
   "outputs": [],
   "source": []
  }
 ],
 "metadata": {
  "kernelspec": {
   "display_name": "Python 3",
   "language": "python",
   "name": "python3"
  },
  "language_info": {
   "codemirror_mode": {
    "name": "ipython",
    "version": 3
   },
   "file_extension": ".py",
   "mimetype": "text/x-python",
   "name": "python",
   "nbconvert_exporter": "python",
   "pygments_lexer": "ipython3",
   "version": "3.5.4"
  }
 },
 "nbformat": 4,
 "nbformat_minor": 2
}
