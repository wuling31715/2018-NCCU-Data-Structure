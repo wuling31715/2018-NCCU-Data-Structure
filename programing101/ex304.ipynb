{
 "cells": [
  {
   "cell_type": "code",
   "execution_count": 1,
   "metadata": {
    "collapsed": false
   },
   "outputs": [
    {
     "name": "stdout",
     "output_type": "stream",
     "text": [
      "20000101\n",
      "20101231\n",
      "2\n"
     ]
    }
   ],
   "source": [
    "import datetime as t\n",
    "import calendar as c\n",
    "\n",
    "def format_input(input_str):\n",
    "    year = int(input_str[:4])\n",
    "    month = int(input_str[4:6])\n",
    "    date = int(input_str[6:])\n",
    "    return year, month, date\n",
    "    \n",
    "def symmetric(x):\n",
    "    for i, j in enumerate(x):\n",
    "        if x[i] != x[-(i+1)]:\n",
    "            return False\n",
    "    return True\n",
    "\n",
    "def decimal(x):\n",
    "    if x > 0 and x < 10:\n",
    "        return '0' + str(x)\n",
    "    elif x >= 10:\n",
    "        return str(x)\n",
    "\n",
    "def get_year_list(year1, year2):\n",
    "    year_list = list()\n",
    "    for i in range(year1, year2+1):\n",
    "        month_list = list()\n",
    "        for j in range(1, 13):\n",
    "            date_list = list()\n",
    "            month = c.monthcalendar(i, j)\n",
    "            for k in month:\n",
    "                for l in k:\n",
    "                    if l > 0:\n",
    "                        year = decimal(i)\n",
    "                        month = decimal(j)\n",
    "                        date = decimal(l)\n",
    "                        year_month_date = year + month + date\n",
    "                        date_list.append(year_month_date)\n",
    "            month_list.append(date_list)\n",
    "        year_list.append(month_list)\n",
    "    return year_list\n",
    "\n",
    "def main():\n",
    "    input_str1 = input()\n",
    "    input_str2 = input()    \n",
    "    year1, month1, date1 = format_input(input_str1)\n",
    "    year2, month2, date2 = format_input(input_str2)\n",
    "    start_date_index, end_date_index = 0, 0\n",
    "    year_list = get_year_list(year1, year2)\n",
    "    date_list = list()\n",
    "\n",
    "    for year in year_list:\n",
    "        for month in year:\n",
    "            for date in month:\n",
    "                date_list.append(date)      \n",
    "\n",
    "    for i, j in enumerate(date_list):\n",
    "        if j == input_str1:\n",
    "            start_date_index = i\n",
    "        if j == input_str2:\n",
    "            end_date_index = i\n",
    "\n",
    "    output = 0\n",
    "    for i in date_list[start_date_index:end_date_index+1]:\n",
    "        if symmetric(i):\n",
    "            output += 1\n",
    "    return output\n",
    "\n",
    "while True:\n",
    "    try:\n",
    "        print(main())\n",
    "        input()\n",
    "    except:\n",
    "        break\n",
    "\n",
    "        "
   ]
  },
  {
   "cell_type": "code",
   "execution_count": null,
   "metadata": {
    "collapsed": true
   },
   "outputs": [],
   "source": []
  }
 ],
 "metadata": {
  "kernelspec": {
   "display_name": "Python 3",
   "language": "python",
   "name": "python3"
  },
  "language_info": {
   "codemirror_mode": {
    "name": "ipython",
    "version": 3
   },
   "file_extension": ".py",
   "mimetype": "text/x-python",
   "name": "python",
   "nbconvert_exporter": "python",
   "pygments_lexer": "ipython3",
   "version": "3.5.4"
  }
 },
 "nbformat": 4,
 "nbformat_minor": 2
}
