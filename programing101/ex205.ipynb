{
 "cells": [
  {
   "cell_type": "code",
   "execution_count": 35,
   "metadata": {
    "collapsed": false
   },
   "outputs": [
    {
     "name": "stdout",
     "output_type": "stream",
     "text": [
      "...-...-.---..- -.---..-\n",
      "THIS IS\n",
      "---.-.-. .-----.-..---..-.\n",
      "AN EASY\n",
      "--...-.-.---.---....----..--..---\n",
      "PROBLEM\n",
      "--..-.--.-.-... .-..----.-.-. -------.- -.--...\n",
      "YOU CAN DO IT\n"
     ]
    }
   ],
   "source": [
    "code_book = {\"---.\":\"A\",\"--....\":\"B\",\".-..-\":\"C\",\"-----\":\"D\",\\\n",
    "\".--\":\"E\",\"..-.-\":\"F\",\"--..--\":\"G\",\"-...\":\"H\",\"-.--\":\"I\",\\\n",
    "\"..-..-.--\":\"J\",\"..-..--\":\"K\",\"----.\":\"L\",\"..---\":\"M\",\\\n",
    "\"-.-.\":\"N\",\"--.-\":\"O\",\"--...-\":\"P\",\"..-..-..-\":\"Q\",\".-.-\":\"R\",\\\n",
    "\"-..-\":\"S\",\"...\":\"T\",\".-...\":\"U\",\"..-...\":\"V\",\"..--.\":\"W\",\\\n",
    "\"..-..-.-.\":\"X\",\"--..-.\":\"Y\",\"..-..-...\":\"Z\"}\n",
    "\n",
    "def transform(code):\n",
    "    output = ''\n",
    "    while len(code) > 0:\n",
    "        for i in code_book:\n",
    "            if code[:len(i)] == i:\n",
    "                output += code_book[i]\n",
    "                code = code[len(i):]\n",
    "                break\n",
    "    return output\n",
    "\n",
    "def main(input_str):\n",
    "    output = ''\n",
    "    input_list = input_str.split()\n",
    "    for i in input_list:\n",
    "        output = output + transform(i) + ' '\n",
    "    return output[:-1]\n",
    "\n",
    "while True:\n",
    "    try:\n",
    "        print(main(input()))\n",
    "    except:\n",
    "        break"
   ]
  },
  {
   "cell_type": "code",
   "execution_count": null,
   "metadata": {
    "collapsed": true
   },
   "outputs": [],
   "source": []
  }
 ],
 "metadata": {
  "kernelspec": {
   "display_name": "Python 3",
   "language": "python",
   "name": "python3"
  },
  "language_info": {
   "codemirror_mode": {
    "name": "ipython",
    "version": 3
   },
   "file_extension": ".py",
   "mimetype": "text/x-python",
   "name": "python",
   "nbconvert_exporter": "python",
   "pygments_lexer": "ipython3",
   "version": "3.5.4"
  }
 },
 "nbformat": 4,
 "nbformat_minor": 2
}
