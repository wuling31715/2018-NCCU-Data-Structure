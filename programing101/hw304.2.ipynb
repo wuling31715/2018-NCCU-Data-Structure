{
 "cells": [
  {
   "cell_type": "code",
   "execution_count": 1,
   "metadata": {
    "collapsed": false
   },
   "outputs": [
    {
     "name": "stdout",
     "output_type": "stream",
     "text": [
      "2\n",
      "Betty 20:20.000000 24:33.000000\n",
      "Aloha 24:33.000000 20:18.000000\n",
      "rank name   time\n",
      "1    Betty  1473.00,1220.00\n",
      "2    Aloha  1473.00,1218.00\n",
      "\n",
      "Betty\n"
     ]
    }
   ],
   "source": [
    "from collections import OrderedDict\n",
    "n = int(input())\n",
    "pts = OrderedDict()\n",
    "while n != 0:\n",
    "   a = input().split()\n",
    "   n -= 1\n",
    "   pts[a[0]] = []\n",
    "   for i in range(1, len(a)):\n",
    "       x = a[i].split(':')\n",
    "       time = int(x[0]) * 60 + float(x[1])\n",
    "       pts[a[0]].append(time)\n",
    "print(\"%-5s%-7s%s\" % ('rank', 'name', 'time'))\n",
    "hashh = OrderedDict()\n",
    "for elem in pts:\n",
    "   hashh[elem] = sum(pts[elem]) / len(pts[elem])\n",
    "order = 0\n",
    "same = 0\n",
    "winner = []\n",
    "last = 0\n",
    "for i in range(len(hashh)):\n",
    "   x = max(hashh.items(), key=lambda x: x[1])\n",
    "   del hashh[x[0]]\n",
    "   if x[1] == last:\n",
    "       same += 1\n",
    "   else:\n",
    "       order += same + 1\n",
    "       same = 0\n",
    "   last = x[1]\n",
    "   if order == 1:\n",
    "       winner.append(x[0])\n",
    "   print(\"%-5d%-7s\" % (order, x[0]), end='')\n",
    "   for ii in range(len(pts[x[0]])):\n",
    "       yi = max(pts[x[0]])\n",
    "       pts[x[0]].remove(yi)\n",
    "       print(\"%.2f\" % yi, end='')\n",
    "       if len(pts[x[0]]) == 0:\n",
    "           print('')\n",
    "       else:\n",
    "           print(',', end='')\n",
    "print('')\n",
    "for i in range(len(winner)):\n",
    "   print(winner[i], end='')\n",
    "   if i == len(winner)-1:\n",
    "       print('')\n",
    "   else:\n",
    "       print(',', end='')"
   ]
  },
  {
   "cell_type": "code",
   "execution_count": null,
   "metadata": {
    "collapsed": true
   },
   "outputs": [],
   "source": []
  }
 ],
 "metadata": {
  "kernelspec": {
   "display_name": "Python 3",
   "language": "python",
   "name": "python3"
  },
  "language_info": {
   "codemirror_mode": {
    "name": "ipython",
    "version": 3
   },
   "file_extension": ".py",
   "mimetype": "text/x-python",
   "name": "python",
   "nbconvert_exporter": "python",
   "pygments_lexer": "ipython3",
   "version": "3.5.4"
  }
 },
 "nbformat": 4,
 "nbformat_minor": 2
}
