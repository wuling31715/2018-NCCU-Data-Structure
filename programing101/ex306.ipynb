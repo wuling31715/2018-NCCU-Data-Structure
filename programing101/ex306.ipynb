{
 "cells": [
  {
   "cell_type": "code",
   "execution_count": 1,
   "metadata": {},
   "outputs": [
    {
     "name": "stdout",
     "output_type": "stream",
     "text": [
      "55\n",
      "a b c\n",
      "[System]a's turn: 0 - 100.\n",
      "a guesses 65.\n",
      "[System]Failed! Guess smaller.\n",
      "[System]b's turn: 0 - 64.\n",
      "b guesses 22.\n",
      "[System]Failed! Guess larger.\n",
      "[System]c's turn: 23 - 64.\n",
      "c guesses 47.\n",
      "[System]Failed! Guess larger.\n",
      "[System]a's turn: 48 - 64.\n",
      "a guesses 64.\n",
      "[System]Failed! Guess smaller.\n",
      "[System]b's turn: 48 - 63.\n",
      "b guesses 52.\n",
      "[System]Failed! Guess larger.\n",
      "[System]c's turn: 53 - 63.\n",
      "c guesses 59.\n",
      "[System]Failed! Guess smaller.\n",
      "[System]a's turn: 53 - 58.\n",
      "a guesses 53.\n",
      "[System]Failed! Guess larger.\n",
      "[System]b's turn: 54 - 58.\n",
      "b guesses 56.\n",
      "[System]Failed! Guess smaller.\n",
      "[System]c's turn: 54 - 55.\n",
      "c guesses 54.\n",
      "[System]Failed! Guess larger.\n",
      "[System]a's turn: 55 - 55.\n",
      "a guesses 55.\n",
      "[System]Bingo! The answer is 55.\n"
     ]
    }
   ],
   "source": [
    "import random\n",
    "output = True\n",
    "up = 100\n",
    "down = 0\n",
    "i = 0\n",
    "A = int(input())\n",
    "name_list = input().split()\n",
    "def get_name(i, name_list):\n",
    "    length = len(name_list)\n",
    "    turn = i % length\n",
    "    return name_list[turn]\n",
    "    \n",
    "while output:\n",
    "    name = get_name(i, name_list)\n",
    "    print(\"[System]%s's turn: %d - %d.\" % (name, down, up))\n",
    "    G = random.randrange(down, up + 1)\n",
    "    print(\"%s guesses %d.\" % (name, G))\n",
    "    if A > G:\n",
    "        print(\"[System]Failed! Guess larger.\")\n",
    "        down = G + 1\n",
    "    elif A < G:\n",
    "        print(\"[System]Failed! Guess smaller.\")\n",
    "        up = G - 1\n",
    "    else:\n",
    "        print('[System]Bingo! The answer is %d.' % (G))\n",
    "        output = False\n",
    "    i += 1"
   ]
  },
  {
   "cell_type": "code",
   "execution_count": 42,
   "metadata": {
    "collapsed": true
   },
   "outputs": [],
   "source": []
  },
  {
   "cell_type": "code",
   "execution_count": 41,
   "metadata": {},
   "outputs": [
    {
     "name": "stdout",
     "output_type": "stream",
     "text": [
      "0\n"
     ]
    }
   ],
   "source": []
  },
  {
   "cell_type": "code",
   "execution_count": 43,
   "metadata": {},
   "outputs": [
    {
     "name": "stdout",
     "output_type": "stream",
     "text": [
      "1 101\n"
     ]
    }
   ],
   "source": []
  },
  {
   "cell_type": "code",
   "execution_count": null,
   "metadata": {
    "collapsed": true
   },
   "outputs": [],
   "source": []
  }
 ],
 "metadata": {
  "kernelspec": {
   "display_name": "Python 3",
   "language": "python",
   "name": "python3"
  },
  "language_info": {
   "codemirror_mode": {
    "name": "ipython",
    "version": 3
   },
   "file_extension": ".py",
   "mimetype": "text/x-python",
   "name": "python",
   "nbconvert_exporter": "python",
   "pygments_lexer": "ipython3",
   "version": "3.5.4"
  }
 },
 "nbformat": 4,
 "nbformat_minor": 2
}
