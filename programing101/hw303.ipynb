{
 "cells": [
  {
   "cell_type": "code",
   "execution_count": 61,
   "metadata": {
    "collapsed": false
   },
   "outputs": [
    {
     "name": "stdout",
     "output_type": "stream",
     "text": [
      "B\n",
      "X 100\n",
      "Y 200\n",
      "U 100\n",
      "D 30\n",
      "R 5\n",
      "L 110\n",
      "E\n",
      "X -5\n",
      "Y 270\n",
      "T 126.194\n"
     ]
    }
   ],
   "source": [
    "input_list = list()\n",
    "start_list = [0, 0]\n",
    "position_list = [0, 0]\n",
    "\n",
    "def check_order(order_list):\n",
    "    output_list = list()\n",
    "    for i, j in enumerate(order_list):\n",
    "        try:\n",
    "            if j[0].isdigit():\n",
    "                left = j[1]\n",
    "                right = int(j[0])\n",
    "            else:\n",
    "                left = j[0]\n",
    "                right = int(j[1])\n",
    "            if left == 'B' or right < 0:\n",
    "                pass\n",
    "            else:\n",
    "                output_list.append([left, right])\n",
    "        except:\n",
    "            if j[0] == 'B':\n",
    "                output_list.append(j[0])\n",
    "    return output_list\n",
    "\n",
    "def get_distance():\n",
    "    x = position_list[0] - start_list[0]\n",
    "    y = position_list[1] - start_list[1]\n",
    "    return ((x ** 2) + (y ** 2)) ** 0.5\n",
    "\n",
    "def move(order_list):\n",
    "    for i in order_list:\n",
    "        if i[0] == 'U':\n",
    "            position_list[1] += int(i[1])\n",
    "        elif i[0] == 'D':\n",
    "            position_list[1] -= int(i[1])\n",
    "        elif i[0] == 'R':\n",
    "            position_list[0] += int(i[1])\n",
    "        elif i[0] == 'L':\n",
    "            position_list[0] -= int(i[1])\n",
    "\n",
    "def init(order_list):\n",
    "    for i in order_list:\n",
    "        if i[0] == 'X':\n",
    "            start_list[0] = int(i[1])\n",
    "        if i[0] == 'Y':\n",
    "            start_list[1] = int(i[1])\n",
    "    position_list[0], position_list[1] = start_list[0], start_list[1]\n",
    "\n",
    "def cut_order_list(order_list):\n",
    "    start_index = 0\n",
    "    for i, j in enumerate(order_list):\n",
    "        if j[0] == 'B':\n",
    "            start_index = i + 1\n",
    "    return order_list[start_index:]                \n",
    "\n",
    "def split_list(input_list):\n",
    "    order_list = list()\n",
    "    for i, j in enumerate(input_list):\n",
    "        order_list.append(input_list[i].split())\n",
    "    return order_list\n",
    "\n",
    "while True:\n",
    "    input_str = input()\n",
    "    if input_str == 'E':\n",
    "        break\n",
    "    elif input_str == '':\n",
    "        continue\n",
    "    else:\n",
    "        input_list.append(input_str)\n",
    "\n",
    "order_list = split_list(input_list)\n",
    "order_list = check_order(order_list)\n",
    "order_list = cut_order_list(order_list)\n",
    "init(order_list)\n",
    "move(order_list)\n",
    "distance = get_distance()\n",
    "print('X %d' % position_list[0])\n",
    "print('Y %d' % position_list[1])\n",
    "print(\"T %.3f\" % distance)"
   ]
  },
  {
   "cell_type": "code",
   "execution_count": null,
   "metadata": {
    "collapsed": true
   },
   "outputs": [],
   "source": []
  }
 ],
 "metadata": {
  "kernelspec": {
   "display_name": "Python 3",
   "language": "python",
   "name": "python3"
  },
  "language_info": {
   "codemirror_mode": {
    "name": "ipython",
    "version": 3
   },
   "file_extension": ".py",
   "mimetype": "text/x-python",
   "name": "python",
   "nbconvert_exporter": "python",
   "pygments_lexer": "ipython3",
   "version": "3.5.4"
  }
 },
 "nbformat": 4,
 "nbformat_minor": 2
}
