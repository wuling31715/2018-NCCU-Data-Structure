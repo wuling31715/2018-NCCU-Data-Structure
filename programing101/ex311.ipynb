{
 "cells": [
  {
   "cell_type": "code",
   "execution_count": 25,
   "metadata": {
    "collapsed": false
   },
   "outputs": [
    {
     "name": "stdout",
     "output_type": "stream",
     "text": [
      "----- <html> ----- <html> <head>     <title>Hello</title> </head> <body>Hello World.</body> </html>\n",
      " <head>     <title>Hello</title> </head> <body>Hello World.</body> \n"
     ]
    }
   ],
   "source": [
    "import sys\n",
    "sys_str = ''\n",
    "\n",
    "for line in sys.stdin:\n",
    "    sys_str += line\n",
    "    \n",
    "# for i in range(1):\n",
    "#     sys_str += input()\n",
    "    \n",
    "tag_left_index = sys_str.index('-----')\n",
    "tag_right_index = sys_str[tag_left_index+len('-----'):].index('-----') + len('-----')\n",
    "tag_left = sys_str[tag_left_index+len('-----'):tag_right_index]\n",
    "tag_left = tag_left[1:-1]\n",
    "tag_right = '</' + tag_left[1:-1] + '>' \n",
    "output_begin = sys_str[tag_right_index+len('-----'):].index(tag_left) + tag_right_index + len('-----') + len(tag_left)\n",
    "output_end = sys_str[tag_right_index+len('-----'):].index(tag_right) + tag_right_index + len('-----')\n",
    "output = sys_str[output_begin:output_end]\n",
    "print(output)"
   ]
  },
  {
   "cell_type": "code",
   "execution_count": null,
   "metadata": {
    "collapsed": true
   },
   "outputs": [],
   "source": []
  }
 ],
 "metadata": {
  "kernelspec": {
   "display_name": "Python 3",
   "language": "python",
   "name": "python3"
  },
  "language_info": {
   "codemirror_mode": {
    "name": "ipython",
    "version": 3
   },
   "file_extension": ".py",
   "mimetype": "text/x-python",
   "name": "python",
   "nbconvert_exporter": "python",
   "pygments_lexer": "ipython3",
   "version": "3.5.4"
  }
 },
 "nbformat": 4,
 "nbformat_minor": 2
}
