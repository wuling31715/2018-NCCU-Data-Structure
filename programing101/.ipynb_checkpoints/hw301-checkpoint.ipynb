{
 "cells": [
  {
   "cell_type": "code",
   "execution_count": 20,
   "metadata": {
    "collapsed": false
   },
   "outputs": [
    {
     "name": "stdout",
     "output_type": "stream",
     "text": [
      "1\n",
      "britts_54@codeta.mlwqe\n",
      "Invalid\n"
     ]
    }
   ],
   "source": [
    "import string\n",
    "\n",
    "def check_username(input_str):\n",
    "    contain_list = list()\n",
    "    for i in string.ascii_lowercase:\n",
    "        contain_list.append(i)\n",
    "    for i in range(10):\n",
    "        contain_list.append(str(i))\n",
    "    contain_list.append('-')\n",
    "    contain_list.append('_')\n",
    "    for i in input_str:\n",
    "        if i not in contain_list:\n",
    "            return False        \n",
    "    return True\n",
    "\n",
    "def check_websitename(input_str):\n",
    "    contain_list = list()\n",
    "    for i in string.ascii_lowercase:\n",
    "        contain_list.append(i)\n",
    "    for i in range(10):\n",
    "        contain_list.append(str(i))\n",
    "    for i in input_str:\n",
    "        if i not in contain_list:\n",
    "            return False            \n",
    "    return True\n",
    "\n",
    "def check_extension(input_str):\n",
    "    if len(input_str) > 3:\n",
    "        return False\n",
    "    return True\n",
    "\n",
    "def main(input_str):\n",
    "    input_list = input_str.split('@')\n",
    "    username = input_list[0]\n",
    "    if check_username(username) == False:\n",
    "        return False\n",
    "    input_list2 = input_list[1].split('.')\n",
    "    websitename = input_list2[0]\n",
    "    if check_websitename(websitename) == False:\n",
    "        return False    \n",
    "    extension = input_list2[1]\n",
    "    if check_extension(extension) == False:\n",
    "        return False\n",
    "    return True\n",
    "\n",
    "N = int(input())\n",
    "for i in range(N):\n",
    "    if main(input()):\n",
    "        print('Valid')\n",
    "    else:\n",
    "        print('Invalid')"
   ]
  },
  {
   "cell_type": "code",
   "execution_count": 5,
   "metadata": {
    "collapsed": false
   },
   "outputs": [
    {
     "data": {
      "text/plain": [
       "False"
      ]
     },
     "execution_count": 5,
     "metadata": {},
     "output_type": "execute_result"
    }
   ],
   "source": [
    "a = 'aaE'\n",
    "a.islower()"
   ]
  },
  {
   "cell_type": "code",
   "execution_count": 7,
   "metadata": {
    "collapsed": false
   },
   "outputs": [
    {
     "name": "stdout",
     "output_type": "stream",
     "text": [
      "a\n",
      "b\n",
      "c\n",
      "d\n",
      "e\n",
      "f\n",
      "g\n",
      "h\n",
      "i\n",
      "j\n",
      "k\n",
      "l\n",
      "m\n",
      "n\n",
      "o\n",
      "p\n",
      "q\n",
      "r\n",
      "s\n",
      "t\n",
      "u\n",
      "v\n",
      "w\n",
      "x\n",
      "y\n",
      "z\n"
     ]
    }
   ],
   "source": [
    "import string\n",
    "for i in string.ascii_lowercase:\n",
    "    print(i)"
   ]
  },
  {
   "cell_type": "code",
   "execution_count": null,
   "metadata": {
    "collapsed": true
   },
   "outputs": [],
   "source": []
  }
 ],
 "metadata": {
  "kernelspec": {
   "display_name": "Python 3",
   "language": "python",
   "name": "python3"
  },
  "language_info": {
   "codemirror_mode": {
    "name": "ipython",
    "version": 3
   },
   "file_extension": ".py",
   "mimetype": "text/x-python",
   "name": "python",
   "nbconvert_exporter": "python",
   "pygments_lexer": "ipython3",
   "version": "3.5.4"
  }
 },
 "nbformat": 4,
 "nbformat_minor": 2
}
