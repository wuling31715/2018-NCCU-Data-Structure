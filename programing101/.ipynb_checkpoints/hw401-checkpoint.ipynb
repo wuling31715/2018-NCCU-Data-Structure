{
 "cells": [
  {
   "cell_type": "code",
   "execution_count": 7,
   "metadata": {},
   "outputs": [
    {
     "name": "stdout",
     "output_type": "stream",
     "text": [
      "2018/03/23 JPY 1000\n",
      "2018/03/26 JPY 600\n",
      "2018/04/25 EUR 120\n",
      "2018/04/26 EUR 32\n",
      "2018/05/02 USD 650\n",
      "2018/05/03 USD 200\n",
      "1000 0.2797\n",
      "600 0.2793\n",
      "120 36.35\n",
      "32 36.33\n",
      "650 29.785\n",
      "200 29.775\n",
      "31288\n"
     ]
    }
   ],
   "source": [
    "import requests\n",
    "from bs4 import BeautifulSoup\n",
    "\n",
    "def get_html(date):\n",
    "    url = 'http://rate.bot.com.tw/xrt/all/' + date\n",
    "    html = requests.get(url).text\n",
    "    return html\n",
    "\n",
    "def get_rate(html, code):\n",
    "    soup = BeautifulSoup(html, 'html.parser')\n",
    "    for i in soup.findAll(\"tr\")[2:]:\n",
    "        j = str(i)\n",
    "        try:\n",
    "            j.index(code)        \n",
    "            rate = i.findAll('td', {'class': 'phone-small-font text-right rate-content-sight print_table-cell'})[1].text\n",
    "            return float(rate)\n",
    "        except:\n",
    "            pass\n",
    "        \n",
    "def date_format(x):\n",
    "    y = x.replace('/', '-')\n",
    "    return y\n",
    "\n",
    "def main(input_str):\n",
    "    str_list = input_str.split()\n",
    "    date = date_format(str_list[0])\n",
    "    code = str_list[1]\n",
    "    money = int(str_list[2])\n",
    "    html = get_html(date)\n",
    "    rate = get_rate(html, code)\n",
    "#     print(money, rate)\n",
    "    return int(round(money * rate, 0))\n",
    "\n",
    "total = 0\n",
    "input_list = list()\n",
    "# for i in range(6):\n",
    "#     input_list.append(input())\n",
    "while True:\n",
    "    try:\n",
    "        input_list.append(input())\n",
    "    except:\n",
    "        break\n",
    "for i in input_list:\n",
    "    total += main(i)\n",
    "print(total)"
   ]
  },
  {
   "cell_type": "code",
   "execution_count": null,
   "metadata": {},
   "outputs": [],
   "source": []
  }
 ],
 "metadata": {
  "kernelspec": {
   "display_name": "Python 3",
   "language": "python",
   "name": "python3"
  },
  "language_info": {
   "codemirror_mode": {
    "name": "ipython",
    "version": 3
   },
   "file_extension": ".py",
   "mimetype": "text/x-python",
   "name": "python",
   "nbconvert_exporter": "python",
   "pygments_lexer": "ipython3",
   "version": "3.5.4"
  }
 },
 "nbformat": 4,
 "nbformat_minor": 2
}
