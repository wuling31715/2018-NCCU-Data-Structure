{
 "cells": [
  {
   "cell_type": "code",
   "execution_count": 62,
   "metadata": {
    "collapsed": false
   },
   "outputs": [
    {
     "name": "stdout",
     "output_type": "stream",
     "text": [
      "2034\n",
      "2034-01-01\n",
      "2034-01-08\n",
      "2034-01-15\n",
      "2034-01-22\n",
      "2034-01-29\n",
      "2034-02-05\n",
      "2034-02-12\n",
      "2034-02-19\n",
      "2034-02-26\n",
      "2034-03-05\n",
      "2034-03-12\n",
      "2034-03-19\n",
      "2034-03-26\n",
      "2034-04-02\n",
      "2034-04-09\n",
      "2034-04-16\n",
      "2034-04-23\n",
      "2034-04-30\n",
      "2034-05-07\n",
      "2034-05-14\n",
      "2034-05-21\n",
      "2034-05-28\n",
      "2034-06-04\n",
      "2034-06-11\n",
      "2034-06-18\n",
      "2034-06-25\n",
      "2034-07-02\n",
      "2034-07-09\n",
      "2034-07-16\n",
      "2034-07-23\n",
      "2034-07-30\n",
      "2034-08-06\n",
      "2034-08-13\n",
      "2034-08-20\n",
      "2034-08-27\n",
      "2034-09-03\n",
      "2034-09-10\n",
      "2034-09-17\n",
      "2034-09-24\n",
      "2034-10-01\n",
      "2034-10-08\n",
      "2034-10-15\n",
      "2034-10-22\n",
      "2034-10-29\n",
      "2034-11-05\n",
      "2034-11-12\n",
      "2034-11-19\n",
      "2034-11-26\n",
      "2034-12-03\n",
      "2034-12-10\n",
      "2034-12-17\n",
      "2034-12-24\n",
      "2034-12-31\n"
     ]
    }
   ],
   "source": [
    "import datetime as d\n",
    "import calendar as c\n",
    "\n",
    "def get_date(year):\n",
    "    date_list = list()\n",
    "    for i in range(1, 13):\n",
    "        date = c.monthcalendar(year, i)\n",
    "        date_list.append(date)\n",
    "    return date_list\n",
    "\n",
    "def date_format(N):\n",
    "    year = get_date(N)\n",
    "    date_list = list()\n",
    "    for i, j in enumerate(year):\n",
    "        for k in j:\n",
    "            for l in k:\n",
    "                if l > 0:\n",
    "                    date_list.append([N, i+1, l])\n",
    "    return date_list\n",
    "\n",
    "def get_sunday(date_list):\n",
    "    sunday_list = list()\n",
    "    for i in date_list:\n",
    "        if d.date(i[0], i[1], i[2]).weekday() == 6:\n",
    "            sunday_list.append(i)\n",
    "    return sunday_list\n",
    "\n",
    "def print_format(list):\n",
    "    for i, j in enumerate(list):\n",
    "        if j < 10:\n",
    "            list[i] = '0' + str(j)\n",
    "        else:\n",
    "            list[i] = str(j)\n",
    "    return list\n",
    "        \n",
    "N = int(input())\n",
    "date_list = date_format(N)\n",
    "sunday_list = get_sunday(date_list)\n",
    "for i in sunday_list:\n",
    "    j = print_format(i)\n",
    "    print('%s-%s-%s' % (j[0], j[1], j[2]))"
   ]
  },
  {
   "cell_type": "code",
   "execution_count": 52,
   "metadata": {
    "collapsed": false
   },
   "outputs": [
    {
     "name": "stdout",
     "output_type": "stream",
     "text": [
      "0\n"
     ]
    }
   ],
   "source": [
    "print(d.date(2018, 4, 16).weekday())"
   ]
  },
  {
   "cell_type": "code",
   "execution_count": null,
   "metadata": {
    "collapsed": true
   },
   "outputs": [],
   "source": []
  }
 ],
 "metadata": {
  "kernelspec": {
   "display_name": "Python 3",
   "language": "python",
   "name": "python3"
  },
  "language_info": {
   "codemirror_mode": {
    "name": "ipython",
    "version": 3
   },
   "file_extension": ".py",
   "mimetype": "text/x-python",
   "name": "python",
   "nbconvert_exporter": "python",
   "pygments_lexer": "ipython3",
   "version": "3.5.4"
  }
 },
 "nbformat": 4,
 "nbformat_minor": 2
}
