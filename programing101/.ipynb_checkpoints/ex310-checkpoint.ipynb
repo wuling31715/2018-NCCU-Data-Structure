{
 "cells": [
  {
   "cell_type": "code",
   "execution_count": 10,
   "metadata": {
    "collapsed": false
   },
   "outputs": [
    {
     "name": "stdout",
     "output_type": "stream",
     "text": [
      "Sindy 13\n",
      "Sindy 13\n",
      "15 White\n",
      "Failed to convert string to integer while reading White's input.\n",
      "Name\tAge\n",
      "Sindy\t13\n",
      "Sindy\t13\n",
      "White\t15\n"
     ]
    }
   ],
   "source": [
    "import sys\n",
    "\n",
    "def main(input_list):\n",
    "    output_list = list()\n",
    "    output_list.append(\"Name\\tAge\")\n",
    "    for i in input_list:\n",
    "        try:\n",
    "            name = i[0]\n",
    "            number = str(int(i[1]))\n",
    "            output = name + '\\t' + number\n",
    "            output_list.append(output)\n",
    "        except: \n",
    "            name = i[1]\n",
    "            number = str(int(i[0]))\n",
    "            output = name + '\\t' + number\n",
    "            output_list.append(output)\n",
    "            print(\"Failed to convert string to integer while reading %s's input.\" % (name))\n",
    "    return output_list\n",
    "\n",
    "sys_list = list()\n",
    "for line in sys.stdin:\n",
    "    input_list = line.split()\n",
    "    sys_list.append(input_list)\n",
    "\n",
    "# for i in range(3):\n",
    "#     input_list = input().split()\n",
    "#     sys_list.append(input_list)\n",
    "    \n",
    "output_list = main(sys_list)\n",
    "    \n",
    "for i in output_list:\n",
    "    print(i)"
   ]
  },
  {
   "cell_type": "code",
   "execution_count": 1,
   "metadata": {
    "collapsed": false
   },
   "outputs": [
    {
     "ename": "ValueError",
     "evalue": "invalid literal for int() with base 10: 'sad'",
     "output_type": "error",
     "traceback": [
      "\u001b[0;31m--------------------------------------------------\u001b[0m",
      "\u001b[0;31mValueError\u001b[0m       Traceback (most recent call last)",
      "\u001b[0;32m<ipython-input-1-ecbe369c65a6>\u001b[0m in \u001b[0;36m<module>\u001b[0;34m()\u001b[0m\n\u001b[0;32m----> 1\u001b[0;31m \u001b[0mint\u001b[0m\u001b[0;34m(\u001b[0m\u001b[0;34m'sad'\u001b[0m\u001b[0;34m)\u001b[0m\u001b[0;34m\u001b[0m\u001b[0m\n\u001b[0m",
      "\u001b[0;31mValueError\u001b[0m: invalid literal for int() with base 10: 'sad'"
     ]
    }
   ],
   "source": [
    "int('sad')"
   ]
  },
  {
   "cell_type": "code",
   "execution_count": null,
   "metadata": {
    "collapsed": true
   },
   "outputs": [],
   "source": []
  }
 ],
 "metadata": {
  "kernelspec": {
   "display_name": "Python 3",
   "language": "python",
   "name": "python3"
  },
  "language_info": {
   "codemirror_mode": {
    "name": "ipython",
    "version": 3
   },
   "file_extension": ".py",
   "mimetype": "text/x-python",
   "name": "python",
   "nbconvert_exporter": "python",
   "pygments_lexer": "ipython3",
   "version": "3.5.4"
  }
 },
 "nbformat": 4,
 "nbformat_minor": 2
}
