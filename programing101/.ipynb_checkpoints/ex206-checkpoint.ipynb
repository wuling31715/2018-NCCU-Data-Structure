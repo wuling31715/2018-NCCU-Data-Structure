{
 "cells": [
  {
   "cell_type": "code",
   "execution_count": 12,
   "metadata": {
    "collapsed": false
   },
   "outputs": [
    {
     "name": "stdout",
     "output_type": "stream",
     "text": [
      "SUCCEED BOOK 7A,Eric Hsu,Taoyuan,Miaoli\n",
      "SUCCEED BOOK 7A,Eric Hsu,Taipei,Taoyuan\n",
      "SUCCEED BOOK 7A,Eric Hsu,Taoyuan,Zuoying\n"
     ]
    }
   ],
   "source": [
    "station_list = ['Nangang', 'Taipei', 'Banqiao', 'Taoyuan', 'Hsinchu', 'Miaoli', 'Taichung', 'Changhua', 'Yunlin', 'Chiayi', 'Tainan', 'Zuoying']\n",
    "ticket_list = list()\n",
    "\n",
    "def check_station(start, end):\n",
    "    output = True\n",
    "    start_index, end_index = 0, 0\n",
    "    if (start not in station_list) or (end not in station_list):\n",
    "        output = False\n",
    "    for i, j in enumerate(station_list):\n",
    "        if start == j:\n",
    "            start_index = i\n",
    "        elif end == j:\n",
    "            end_index = i             \n",
    "    if start_index >= end_index:\n",
    "        output = False\n",
    "    return output\n",
    "    \n",
    "def check_seat(seat):\n",
    "    output = True\n",
    "    number = ''\n",
    "    alpha = ''\n",
    "    if (seat[0].isalpha()) or (seat[-1].isdigit()):\n",
    "        output = False\n",
    "    for i in seat:\n",
    "        if i.isdigit():\n",
    "            number += i\n",
    "        else:\n",
    "            alpha += i\n",
    "    number = int(number)\n",
    "    if (number < 7) or (number > 17):\n",
    "        output = False\n",
    "    if alpha not in 'ABCDE':\n",
    "        output = False\n",
    "    return output\n",
    "    \n",
    "\n",
    "def check(order_pass_list, ticket_pass_list):\n",
    "    output = True\n",
    "    for i in order_pass_list:\n",
    "        if i in ticket_pass_list[1:-1]:\n",
    "            output = False\n",
    "    return output\n",
    "            \n",
    "def get_pass(start, end):\n",
    "    start_index, end_index = 0, 0\n",
    "    for i, j in enumerate(station_list):\n",
    "        if start == j:\n",
    "            start_index = i\n",
    "        elif end == j:\n",
    "            end_index = i\n",
    "    return station_list[start_index:end_index + 1]\n",
    "\n",
    "def create(order_list):\n",
    "    output = True\n",
    "    order_pass_list = get_pass(order_list[2], order_list[3])\n",
    "    output = check_station(order_list[2], order_list[3])\n",
    "    for i in ticket_list:\n",
    "        if i[0] == order_list[0]:\n",
    "            ticket_pass_list = get_pass(i[2], i[3])\n",
    "            output = check(order_pass_list, ticket_pass_list)\n",
    "            for i in ticket_list:\n",
    "                if order_list[1:] == i[1:]:\n",
    "                    output = False\n",
    "    if output:\n",
    "        ticket_list.append(order_list)\n",
    "    return output\n",
    "\n",
    "def delete(order_list):\n",
    "    output = False\n",
    "    for i in ticket_list:\n",
    "        if i == order_list:\n",
    "            ticket_list.remove(order_list)\n",
    "            output = True\n",
    "    return output\n",
    "\n",
    "def main(order):\n",
    "    output = ''\n",
    "    order_list = order.split(',')\n",
    "    order_type = order_list[0]\n",
    "    seat = order_list[1]\n",
    "    order_list = order_list[1:]\n",
    "    is_seat = check_seat(seat)\n",
    "    if order_type == 'CREATE':\n",
    "        if is_seat == False:\n",
    "            output += 'FAILED BOOK '\n",
    "            for i in order_list:\n",
    "                output = output + i + ','\n",
    "            output = output[:-1]\n",
    "            return output        \n",
    "        check = create(order_list)\n",
    "        if check:\n",
    "            output += 'SUCCEED BOOK '\n",
    "            for i in order_list:\n",
    "                output = output + i + ','\n",
    "            output = output[:-1]\n",
    "            return output\n",
    "        else:\n",
    "            output += 'FAILED BOOK '\n",
    "            for i in order_list:\n",
    "                output = output + i + ','\n",
    "            output = output[:-1]\n",
    "            return output\n",
    "    elif order_type == 'DELETE':\n",
    "        if is_seat == False:\n",
    "            output += 'FAILED CANCEL BOOK '\n",
    "            for i in order_list:\n",
    "                output = output + i + ','\n",
    "            output = output[:-1]\n",
    "            return output                \n",
    "        check = delete(order_list)\n",
    "        if check:\n",
    "            output += 'SUCCEED CANCEL BOOK '\n",
    "            for i in order_list:\n",
    "                output = output + i + ','\n",
    "            output = output[:-1]\n",
    "            return output\n",
    "        else:\n",
    "            output += 'FAILED CANCEL BOOK '\n",
    "            for i in order_list:\n",
    "                output = output + i + ','\n",
    "            output = output[:-1]\n",
    "            return output\n",
    "            \n",
    "import sys\n",
    "sys_list = list()\n",
    "for i in range(3):\n",
    "    sys_list.append(input())\n",
    "for line in sys.stdin:\n",
    "    sys_list.append(line)\n",
    "for i in sys_list:\n",
    "    print(main(i))"
   ]
  },
  {
   "cell_type": "code",
   "execution_count": 44,
   "metadata": {
    "collapsed": false
   },
   "outputs": [
    {
     "name": "stdout",
     "output_type": "stream",
     "text": [
      "True\n"
     ]
    }
   ],
   "source": [
    "a = \"SUCCEED BOOK 7A,Alex Lin,Nangang,TaipeiSUCCEED BOOK 7A,Noah Bao,Taipei,BanqiaoSUCCEED BOOK 7A,Peter Bao,Banqiao,TaoyuanSUCCEED BOOK 7A,Eric Hsu,Taoyuan,MiaoliSUCCEED BOOK 7A,Peter Bao,Miaoli,ChiayiSUCCEED BOOK 7A,Jeff Lin,Chiayi,TainanSUCCEED BOOK 7A,Greg Wang,Tainan,ZuoyingFAILED BOOK 18A,Alex Lin,Nangang,TaipeiFAILED CANCEL BOOK 8A,Alex Lin,Taipei,Zuoying\"\n",
    "b = 'SUCCEED BOOK 7A,Alex Lin,Nangang,TaipeiSUCCEED BOOK 7A,Noah Bao,Taipei,BanqiaoSUCCEED BOOK 7A,Peter Bao,Banqiao,TaoyuanSUCCEED BOOK 7A,Eric Hsu,Taoyuan,MiaoliSUCCEED BOOK 7A,Peter Bao,Miaoli,ChiayiSUCCEED BOOK 7A,Jeff Lin,Chiayi,TainanSUCCEED BOOK 7A,Greg Wang,Tainan,ZuoyingFAILED BOOK 18A,Alex Lin,Nangang,TaipeiFAILED CANCEL BOOK 8A,Alex Lin,Taipei,Zuoying'\n",
    "if a == b:\n",
    "    print(True)"
   ]
  },
  {
   "cell_type": "code",
   "execution_count": 31,
   "metadata": {
    "collapsed": false
   },
   "outputs": [
    {
     "name": "stdout",
     "output_type": "stream",
     "text": [
      "True\n"
     ]
    }
   ],
   "source": [
    "a = [1, 2, 3]\n",
    "b = [0, 2, 3]\n",
    "if a[1:] == b[1:]:\n",
    "    print(True)"
   ]
  },
  {
   "cell_type": "code",
   "execution_count": null,
   "metadata": {
    "collapsed": true
   },
   "outputs": [],
   "source": []
  }
 ],
 "metadata": {
  "kernelspec": {
   "display_name": "Python 3",
   "language": "python",
   "name": "python3"
  },
  "language_info": {
   "codemirror_mode": {
    "name": "ipython",
    "version": 3
   },
   "file_extension": ".py",
   "mimetype": "text/x-python",
   "name": "python",
   "nbconvert_exporter": "python",
   "pygments_lexer": "ipython3",
   "version": "3.5.4"
  }
 },
 "nbformat": 4,
 "nbformat_minor": 2
}
