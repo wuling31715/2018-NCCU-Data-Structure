{
 "cells": [
  {
   "cell_type": "code",
   "execution_count": 5,
   "metadata": {
    "collapsed": false
   },
   "outputs": [
    {
     "name": "stdout",
     "output_type": "stream",
     "text": [
      "((((1,1),2),4),8)\n",
      "Yes\n",
      "((1,1),(1,1))\n",
      "Yes\n",
      "(3,2)\n",
      "No\n"
     ]
    }
   ],
   "source": [
    "def replace(input_str):\n",
    "    try:\n",
    "        right_index = input_str.index(')')\n",
    "        input_str_sub = input_str[:right_index]\n",
    "        input_str_sub_inverse = input_str_sub[::-1]\n",
    "        right_index = input_str_sub_inverse.index('(')\n",
    "        input_str_sub_inverse = input_str_sub_inverse[:right_index]\n",
    "        input_str_sub = input_str_sub_inverse[::-1]\n",
    "        number_list = input_str_sub.split(',')\n",
    "        if number_list[0] != number_list[1]:\n",
    "            return False\n",
    "        else:\n",
    "            sum_str = str(2 * int(number_list[0]))                \n",
    "        input_str_sub = '(' + input_str_sub + ')'\n",
    "        input_str = input_str.replace(input_str_sub, sum_str, 1)\n",
    "        return input_str\n",
    "    except:\n",
    "        return True\n",
    "    \n",
    "def main(input_str):\n",
    "    new_str = replace(input_str)\n",
    "    while True:\n",
    "        if new_str == True:\n",
    "            return True\n",
    "        elif new_str == False:\n",
    "            return False\n",
    "        else:\n",
    "            new_str = replace(new_str)\n",
    "        \n",
    "while True:\n",
    "    try:        \n",
    "        if main(input()):\n",
    "            print('Yes')\n",
    "        else:\n",
    "            print('No')\n",
    "    except:\n",
    "        break"
   ]
  },
  {
   "cell_type": "code",
   "execution_count": null,
   "metadata": {
    "collapsed": true
   },
   "outputs": [],
   "source": []
  }
 ],
 "metadata": {
  "kernelspec": {
   "display_name": "Python 3",
   "language": "python",
   "name": "python3"
  }
 },
 "nbformat": 4,
 "nbformat_minor": 2
}
