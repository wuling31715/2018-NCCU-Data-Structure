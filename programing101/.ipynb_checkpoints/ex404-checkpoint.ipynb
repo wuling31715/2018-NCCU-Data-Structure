{
 "cells": [
  {
   "cell_type": "code",
   "execution_count": 1,
   "metadata": {
    "collapsed": false
   },
   "outputs": [
    {
     "name": "stdout",
     "output_type": "stream",
     "text": [
      "Harry Potter\n",
      "Harry Potter and the Sorcerer's Stone (2001) 2h 32min\n",
      "[Chris Columbus]\n",
      "https://www.imdb.com/title/tt0241527\n",
      "Harry Potter and the Deathly Hallows: Part 2 (2011) 2h 10min\n",
      "[David Yates]\n",
      "https://www.imdb.com/title/tt1201607\n",
      "Harry Potter and the Goblet of Fire (2005) 2h 37min\n",
      "[Mike Newell]\n",
      "https://www.imdb.com/title/tt0330373\n",
      "Harry Potter and the Chamber of Secrets (2002) 2h 30min\n",
      "[Chris Columbus]\n",
      "https://www.imdb.com/title/tt0295297\n",
      "Harry Potter and the Prisoner of Azkaban (2004) 2h 22min\n",
      "[Alfonso Cuarón]\n",
      "https://www.imdb.com/title/tt0304141\n"
     ]
    }
   ],
   "source": [
    "import requests\n",
    "from bs4 import BeautifulSoup\n",
    "\n",
    "def get_movie_list(movie_name):\n",
    "    movie_name_list = movie_name.split()\n",
    "    movie_name_str = ''\n",
    "    for i in movie_name_list:\n",
    "        j = i.replace('+', '%2B')\n",
    "        movie_name_str = movie_name_str + j + '+'\n",
    "    movie_name_str = movie_name_str[:-1]\n",
    "    url = 'https://www.imdb.com/find?ref_=nv_sr_fn&q=' + movie_name_str + '&s=tt'\n",
    "    html = requests.get(url).text\n",
    "    soup = BeautifulSoup(html, \"lxml\")\n",
    "    result_list = list()\n",
    "    for i in soup.find_all(class_='result_text'):\n",
    "        try:\n",
    "            i.text.index('TV')\n",
    "        except:\n",
    "            title = i.find('a').text\n",
    "            link = i.find('a')['href'][:16]\n",
    "            link = 'https://www.imdb.com' + link\n",
    "            result_list.append([title, link])\n",
    "            if len(result_list) == 5:\n",
    "                break\n",
    "    return result_list\n",
    "    \n",
    "def get_movie(movie):\n",
    "    url = movie[1]\n",
    "    html = requests.get(url).text\n",
    "    soup = BeautifulSoup(html, \"lxml\")\n",
    "    for i in soup.find_all(id='titleYear'):\n",
    "        year = ' ' + i.text\n",
    "        movie[0] += year\n",
    "    for i in soup.find_all(itemprop=\"duration\"):\n",
    "        time_list = (i.text).split()\n",
    "        time = ''\n",
    "        for j in time_list:\n",
    "            time = time + ' ' + j\n",
    "        movie[0] += time\n",
    "        break\n",
    "    for i in soup.find_all(class_='credit_summary_item'):\n",
    "        title = i.find('h4').text\n",
    "        if title == 'Director:':\n",
    "            name = i.find(class_='itemprop').text\n",
    "            movie.append(name)\n",
    "            return movie\n",
    "        else:\n",
    "            movie.append('')\n",
    "            return movie\n",
    "\n",
    "movie_list = get_movie_list(input())\n",
    "# movie_list = get_movie_list('The Great Buddha+')\n",
    "for i in movie_list:\n",
    "    output_list = get_movie(i)\n",
    "    print(output_list[0])\n",
    "    print('[%s]' % output_list[2])\n",
    "    print(output_list[1])"
   ]
  },
  {
   "cell_type": "code",
   "execution_count": null,
   "metadata": {
    "collapsed": true
   },
   "outputs": [],
   "source": []
  }
 ],
 "metadata": {
  "kernelspec": {
   "display_name": "Python 3",
   "language": "python",
   "name": "python3"
  },
  "language_info": {
   "codemirror_mode": {
    "name": "ipython",
    "version": 3
   },
   "file_extension": ".py",
   "mimetype": "text/x-python",
   "name": "python",
   "nbconvert_exporter": "python",
   "pygments_lexer": "ipython3",
   "version": "3.5.4"
  }
 },
 "nbformat": 4,
 "nbformat_minor": 2
}
