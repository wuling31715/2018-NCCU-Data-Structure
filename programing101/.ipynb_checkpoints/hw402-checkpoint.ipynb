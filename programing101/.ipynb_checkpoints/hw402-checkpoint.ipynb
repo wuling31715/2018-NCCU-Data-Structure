{
 "cells": [
  {
   "cell_type": "code",
   "execution_count": 2,
   "metadata": {},
   "outputs": [
    {
     "name": "stdout",
     "output_type": "stream",
     "text": [
      "016 Pidgey v.s. 006 Charizard\n",
      "Pidgey Attack Charizard 7 Points.\n",
      "Name: Pidgey, HP: 80/80\n",
      "Name: Charizard, HP: 149/156\n",
      "Charizard Attack Pidgey 91 Points.\n",
      "Name: Pidgey, HP: 0/80\n",
      "Name: Charizard, HP: 149/156\n",
      "Charizard Win, Pidgey Lose.\n"
     ]
    }
   ],
   "source": [
    "import requests\n",
    "from bs4 import BeautifulSoup\n",
    "\n",
    "def get_pokemon(code):\n",
    "    url = 'http://www.otaku-hk.com/pkmgo/en/pokemon/' + code\n",
    "    html = requests.get(url).text\n",
    "    soup = BeautifulSoup(html, 'html.parser')\n",
    "    feature_list = soup.findAll('tt')\n",
    "    HP = feature_list[18].text\n",
    "    attack = feature_list[20].text\n",
    "    defense = feature_list[22].text\n",
    "    return HP, attack, defense\n",
    "\n",
    "def get_attack(attack, HP):\n",
    "    if HP - attack < 0:\n",
    "        return 0\n",
    "    else:\n",
    "        return HP - attack\n",
    "\n",
    "input_str = input()\n",
    "input_str = input_str.replace('v.s.', '')\n",
    "input_list = input_str.split()\n",
    "A = get_pokemon(input_list[0])\n",
    "A_name = input_list[1]\n",
    "A_HP = int(A[0])\n",
    "A_attack = int(A[1])\n",
    "A_defense = int(A[2])\n",
    "B = get_pokemon(input_list[2])\n",
    "B_name = input_list[3]\n",
    "B_HP = int(B[0])\n",
    "B_attack = int(B[1])\n",
    "B_defense = int(B[2])\n",
    "A_attack_B = int(A_attack / B_defense * A_HP / 5)\n",
    "B_attack_A = int(B_attack / A_defense * B_HP / 5)\n",
    "A_current_HP = A_HP\n",
    "B_current_HP = B_HP\n",
    "turn = 1\n",
    "while (A_current_HP > 0) and (B_current_HP > 0):\n",
    "    if turn == 1:\n",
    "        B_current_HP = get_attack(A_attack_B, B_current_HP)\n",
    "        print('%s Attack %s %d Points.' % (A_name, B_name, A_attack_B))\n",
    "        print('Name: %s, HP: %d/%d' % (A_name, A_current_HP, A_HP))\n",
    "        print('Name: %s, HP: %d/%d' % (B_name, B_current_HP, B_HP))\n",
    "        turn *= -1        \n",
    "    else:\n",
    "        A_current_HP = get_attack(B_attack_A, A_current_HP)\n",
    "        print('%s Attack %s %d Points.' % (B_name, A_name, B_attack_A))\n",
    "        print('Name: %s, HP: %d/%d' % (A_name, A_current_HP, A_HP))\n",
    "        print('Name: %s, HP: %d/%d' % (B_name, B_current_HP, B_HP))\n",
    "        turn *= -1        \n",
    "if A_current_HP == 0:\n",
    "    print('%s Win, %s Lose.' % (B_name, A_name))\n",
    "else:\n",
    "    print('%s Win, %s Lose.' % (A_name, B_name))"
   ]
  },
  {
   "cell_type": "code",
   "execution_count": null,
   "metadata": {},
   "outputs": [],
   "source": []
  }
 ],
 "metadata": {
  "kernelspec": {
   "display_name": "Python 3",
   "language": "python",
   "name": "python3"
  },
  "language_info": {
   "codemirror_mode": {
    "name": "ipython",
    "version": 3
   },
   "file_extension": ".py",
   "mimetype": "text/x-python",
   "name": "python",
   "nbconvert_exporter": "python",
   "pygments_lexer": "ipython3",
   "version": "3.5.4"
  }
 },
 "nbformat": 4,
 "nbformat_minor": 2
}
