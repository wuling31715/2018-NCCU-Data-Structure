{
 "cells": [
  {
   "cell_type": "code",
   "execution_count": null,
   "metadata": {},
   "outputs": [],
   "source": [
    "import requests\n",
    "from bs4 import BeautifulSoup\n",
    "\n",
    "def get_rating(text):\n",
    "    key_index = text.index('data-rating')\n",
    "    return text[key_index+13:key_index+14]\n",
    "\n",
    "def space_append(s, n):\n",
    "    while len(s) < n:\n",
    "        s += ' '\n",
    "    return s    \n",
    "\n",
    "def get_item(url):\n",
    "    html = requests.get(url).text\n",
    "    soup = BeautifulSoup(html, \"lxml\")\n",
    "    item_list = list()\n",
    "    for i in soup.find_all(class_='thumbnail'):\n",
    "        title = space_append(i.find(class_='title').text, 20)\n",
    "        price = space_append(i.find(class_='price').text, 10)\n",
    "        stars = space_append(get_rating(str(i)), 7)\n",
    "        review = space_append(i.find('p', {'class': 'pull-right'}).text[:2], 6)\n",
    "        item = [title, price, stars, review]\n",
    "        item_list.append(item)\n",
    "    return item_list\n",
    "\n",
    "def main(url):\n",
    "    url_home = url\n",
    "    item_all_list = list()\n",
    "    title = space_append('Name', 20)\n",
    "    price = space_append('Price', 10)\n",
    "    stars = space_append('Stars', 7)\n",
    "    reviews = space_append('Reviews', 6)\n",
    "    head = [title, price, stars, reviews]\n",
    "    item_all_list.append(head)\n",
    "    keyword_list =  ['/computers/laptops', '/computers/tablets', '/phones/touch']\n",
    "    for i in keyword_list:\n",
    "        url_item = url_home + i\n",
    "        item_list = get_item(url_item)\n",
    "        for j in item_list:\n",
    "            item_all_list.append(j)\n",
    "    for i in item_all_list:\n",
    "        output_str = ''\n",
    "        for j in i:\n",
    "            output_str += j\n",
    "        print(output_str)\n",
    "\n",
    "main(input())"
   ]
  }
 ],
 "metadata": {
  "kernelspec": {
   "display_name": "Python 3",
   "language": "python",
   "name": "python3"
  },
  "language_info": {
   "codemirror_mode": {
    "name": "ipython",
    "version": 3
   },
   "file_extension": ".py",
   "mimetype": "text/x-python",
   "name": "python",
   "nbconvert_exporter": "python",
   "pygments_lexer": "ipython3",
   "version": "3.5.4"
  }
 },
 "nbformat": 4,
 "nbformat_minor": 2
}
