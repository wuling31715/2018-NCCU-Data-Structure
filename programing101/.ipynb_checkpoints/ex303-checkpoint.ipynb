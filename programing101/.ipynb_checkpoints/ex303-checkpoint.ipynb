{
 "cells": [
  {
   "cell_type": "code",
   "execution_count": null,
   "metadata": {
    "collapsed": false
   },
   "outputs": [
    {
     "name": "stdout",
     "output_type": "stream",
     "text": [
      "bCD56<bCD56<\n",
      "bCD56<bCD56<\n",
      "Circular password is not allowed.\n"
     ]
    }
   ],
   "source": [
    "def no_same(input1, input2):\n",
    "    if input1 != input2:\n",
    "        return True\n",
    "    else:\n",
    "        return False\n",
    "\n",
    "def lenth(input1):\n",
    "    if len(input1) < 8 or len(input1) > 12:\n",
    "        return True\n",
    "    else:\n",
    "        return False\n",
    "    \n",
    "def no_upper(input1):\n",
    "    check = True\n",
    "    for i in input1:\n",
    "        if i.isupper():\n",
    "            check = False\n",
    "    return check\n",
    "\n",
    "def no_upper(input1):\n",
    "    check = True\n",
    "    for i in input1:\n",
    "        if i.isupper():\n",
    "            check = False\n",
    "    return check\n",
    "\n",
    "def no_lower(input1):\n",
    "    check = True\n",
    "    for i in input1:\n",
    "        if i.islower():\n",
    "            check = False\n",
    "    return check\n",
    "\n",
    "def no_num(input1):\n",
    "    check = True\n",
    "    for i in input1:\n",
    "        if i.isnumeric():\n",
    "            check = False\n",
    "    return check\n",
    "    \n",
    "def no_special(input1):\n",
    "    check = True\n",
    "    special = '~!@#$%^&*()_+|`-={}[]:”;’<>?,./ '\n",
    "    for i in input1:\n",
    "        if i in special:\n",
    "            check = False\n",
    "    return check\n",
    "    \n",
    "def is_sym(input1):\n",
    "    check = True\n",
    "    input2 = input1[::-1]\n",
    "    for i, j in zip(input1, input2):\n",
    "        if i != j:\n",
    "            check = False\n",
    "    return check\n",
    "\n",
    "def is_cir(input1):\n",
    "    check = False\n",
    "    for i, j in enumerate(input1[:-3]):\n",
    "        if input1[i:i+3] in input1[i+3:]:\n",
    "            check = True\n",
    "    for i, j in enumerate(input1[:-4]):\n",
    "        if input1[i:i+4] in input1[i+4:]:\n",
    "            check = True\n",
    "    for i, j in enumerate(input1[:-5]):\n",
    "        if input1[i:i+5] in input1[i+5:]:\n",
    "            check = True\n",
    "    return check\n",
    "\n",
    "def check(input1, input2):\n",
    "    if no_same(input1, input2):\n",
    "        print('Password settings are not consistent.')\n",
    "    elif lenth(input1):\n",
    "        print('Password should contain 8 to 12 characters.')\n",
    "    elif no_upper(input1):\n",
    "        print('Password should contain at least one upper-case alphabetical character.')\n",
    "    elif no_lower(input1):\n",
    "        print('Password should contain at least one lower-case alphabetical character.')\n",
    "    elif no_num(input1):\n",
    "        print('Password should contain at least one number.')\n",
    "    elif no_special(input1):\n",
    "        print('Password should contain at least one special character.')\n",
    "    elif is_sym(input1):\n",
    "        print('Symmetric password is not allowed.')\n",
    "    elif is_cir(input1):\n",
    "        print('Circular password is not allowed.')\n",
    "    else:\n",
    "        print('Password is valid.')\n",
    "            \n",
    "while True:\n",
    "    input1 = input()\n",
    "    input2 = input()\n",
    "    if input1 == 'END' and input2 == 'END':\n",
    "        break\n",
    "    else:\n",
    "        check(input1, input2)"
   ]
  },
  {
   "cell_type": "code",
   "execution_count": 3,
   "metadata": {
    "collapsed": false
   },
   "outputs": [
    {
     "name": "stdout",
     "output_type": "stream",
     "text": [
      "32\n"
     ]
    }
   ],
   "source": [
    "special = '~!@#$%^&*()_+|`-={}[]:”;’<>?,./ '\n",
    "print(len(special))"
   ]
  },
  {
   "cell_type": "code",
   "execution_count": 4,
   "metadata": {
    "collapsed": false
   },
   "outputs": [
    {
     "name": "stdout",
     "output_type": "stream",
     "text": [
      "~\n",
      "!\n",
      "@\n",
      "#\n",
      "$\n",
      "%\n",
      "^\n",
      "&\n",
      "*\n",
      "(\n",
      ")\n",
      "_\n",
      "+\n",
      "|\n",
      "`\n",
      "-\n",
      "=\n",
      "{\n",
      "}\n",
      "[\n",
      "]\n",
      ":\n",
      "”\n",
      ";\n",
      "’\n",
      "<\n",
      ">\n",
      "?\n",
      ",\n",
      ".\n",
      "/\n",
      " \n"
     ]
    }
   ],
   "source": [
    "for i in special:\n",
    "    print(i)"
   ]
  },
  {
   "cell_type": "code",
   "execution_count": null,
   "metadata": {
    "collapsed": true
   },
   "outputs": [],
   "source": []
  }
 ],
 "metadata": {
  "kernelspec": {
   "display_name": "Python 3",
   "language": "python",
   "name": "python3"
  },
  "language_info": {
   "codemirror_mode": {
    "name": "ipython",
    "version": 3
   },
   "file_extension": ".py",
   "mimetype": "text/x-python",
   "name": "python",
   "nbconvert_exporter": "python",
   "pygments_lexer": "ipython3",
   "version": "3.5.4"
  }
 },
 "nbformat": 4,
 "nbformat_minor": 2
}
