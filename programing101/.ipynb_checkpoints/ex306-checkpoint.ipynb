{
 "cells": [
  {
   "cell_type": "code",
   "execution_count": 66,
   "metadata": {
    "collapsed": false
   },
   "outputs": [
    {
     "name": "stdout",
     "output_type": "stream",
     "text": [
      "50\n",
      "Amber Bob Josh\n",
      "[System]Amber's turn: 0 - 100.\n",
      "Amber guesses 48.\n",
      "[System]Failed! Guess larger.\n",
      "[System]Bob's turn: 49 - 100.\n",
      "Bob guesses 55.\n",
      "[System]Failed! Guess smaller.\n",
      "[System]Josh's turn: 49 - 54.\n",
      "Josh guesses 54.\n",
      "[System]Failed! Guess smaller.\n",
      "[System]Amber's turn: 49 - 53.\n",
      "Amber guesses 53.\n",
      "[System]Failed! Guess smaller.\n",
      "[System]Bob's turn: 49 - 52.\n",
      "Bob guesses 51.\n",
      "[System]Failed! Guess smaller.\n",
      "[System]Josh's turn: 49 - 50.\n",
      "Josh guesses 50.\n",
      "[System]Bingo! The answer is 50.\n"
     ]
    }
   ],
   "source": [
    "import random\n",
    "output = True\n",
    "up = 100\n",
    "down = 0\n",
    "i = 0\n",
    "A = int(input())\n",
    "name_list = input().split()\n",
    "def get_name(i, name_list):\n",
    "    length = len(name_list)\n",
    "    turn = i % length\n",
    "    return name_list[turn]\n",
    "    \n",
    "while output:\n",
    "    name = get_name(i, name_list)\n",
    "    print(\"[System]%s's turn: %d - %d.\" % (name, down, up))\n",
    "    G = random.randrange(down, up + 1)\n",
    "    print(\"%s guesses %d.\" % (name, G))\n",
    "    if A > G:\n",
    "        print(\"[System]Failed! Guess larger.\")\n",
    "        down = G + 1\n",
    "    elif A < G:\n",
    "        print(\"[System]Failed! Guess smaller.\")\n",
    "        up = G - 1\n",
    "    else:\n",
    "        print('[System]Bingo! The answer is %d.' % (G))\n",
    "        output = False\n",
    "    i += 1"
   ]
  },
  {
   "cell_type": "code",
   "execution_count": 42,
   "metadata": {
    "collapsed": true
   },
   "outputs": [],
   "source": []
  },
  {
   "cell_type": "code",
   "execution_count": 41,
   "metadata": {
    "collapsed": false
   },
   "outputs": [
    {
     "name": "stdout",
     "output_type": "stream",
     "text": [
      "0\n"
     ]
    }
   ],
   "source": []
  },
  {
   "cell_type": "code",
   "execution_count": 43,
   "metadata": {
    "collapsed": false
   },
   "outputs": [
    {
     "name": "stdout",
     "output_type": "stream",
     "text": [
      "1 101\n"
     ]
    }
   ],
   "source": []
  },
  {
   "cell_type": "code",
   "execution_count": null,
   "metadata": {
    "collapsed": true
   },
   "outputs": [],
   "source": []
  }
 ],
 "metadata": {
  "kernelspec": {
   "display_name": "Python 3",
   "language": "python",
   "name": "python3"
  },
  "language_info": {
   "codemirror_mode": {
    "name": "ipython",
    "version": 3
   },
   "file_extension": ".py",
   "mimetype": "text/x-python",
   "name": "python",
   "nbconvert_exporter": "python",
   "pygments_lexer": "ipython3",
   "version": "3.5.4"
  }
 },
 "nbformat": 4,
 "nbformat_minor": 2
}
