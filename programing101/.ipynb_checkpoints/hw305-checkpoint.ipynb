{
 "cells": [
  {
   "cell_type": "code",
   "execution_count": 41,
   "metadata": {
    "collapsed": false
   },
   "outputs": [
    {
     "name": "stdout",
     "output_type": "stream",
     "text": [
      "猴子 2 樹上\n",
      "蛇 2 地上\n",
      "烏龜 4 水裡\n",
      "熊 1 樹上\n",
      "猴子 1 地上\n",
      "蛇 3 樹上\n",
      "猴子 3 樹上\n",
      "樹上:猴子 5,蛇 3,熊 1\n",
      "地上:蛇 2,猴子 1\n",
      "水裡:烏龜 4\n"
     ]
    }
   ],
   "source": [
    "big_list = [['place', ['animal', 0]]]\n",
    "\n",
    "def sort_animal(place_list):\n",
    "    animal_list = place_list[1:]\n",
    "    output_list = list()\n",
    "    while len(animal_list) > 0:\n",
    "        big_animal = ['', 0]\n",
    "        for i in animal_list:\n",
    "            if i[1] > big_animal[1]:\n",
    "                big_animal = i\n",
    "        output_list.append(big_animal)\n",
    "        animal_list.remove(big_animal)\n",
    "    return output_list\n",
    "        \n",
    "def append_animal(place, animal, animal_number):\n",
    "    is_in = False\n",
    "    for i in big_list:\n",
    "        if i[0] == place:\n",
    "            for j in i:\n",
    "                if j[0] == animal:\n",
    "                    is_in = True\n",
    "    if is_in:\n",
    "        append_animal_number(place, animal, animal_number)\n",
    "    else:\n",
    "        for i in big_list:\n",
    "            if i[0] == place:\n",
    "                i.append([animal, animal_number])\n",
    "    \n",
    "\n",
    "def append_animal_number(place, animal, animal_number):\n",
    "    for i in big_list:\n",
    "        if i[0] == place:\n",
    "            for j in i:\n",
    "                if j[0] == animal:\n",
    "                    j[1] += animal_number\n",
    "\n",
    "def append_place(place, animal, animal_number):\n",
    "    is_in = False\n",
    "    for i in big_list:\n",
    "        if i[0] == place:\n",
    "            is_in = True\n",
    "    if is_in:\n",
    "        append_animal(place, animal, animal_number)\n",
    "    else:\n",
    "        big_list.append([place, [animal, animal_number]])    \n",
    "\n",
    "def main():\n",
    "    input_list = input().split()\n",
    "    place = input_list[2]\n",
    "    animal = input_list[0]\n",
    "    animal_number = int(input_list[1])\n",
    "    append_place(place, animal, animal_number)\n",
    "\n",
    "def print_out():\n",
    "    for i in big_list[1:]:\n",
    "        output = i[0] + ':'\n",
    "        animal_list = sort_animal(i)\n",
    "        for j in animal_list:\n",
    "            output = output + j[0] + ' ' + str(j[1]) + ','\n",
    "        print(output[:-1])\n",
    "\n",
    "while True:\n",
    "    try:\n",
    "        main()\n",
    "    except:\n",
    "        print_out()\n",
    "        break"
   ]
  },
  {
   "cell_type": "code",
   "execution_count": null,
   "metadata": {
    "collapsed": true
   },
   "outputs": [],
   "source": []
  }
 ],
 "metadata": {
  "kernelspec": {
   "display_name": "Python 3",
   "language": "python",
   "name": "python3"
  },
  "language_info": {
   "codemirror_mode": {
    "name": "ipython",
    "version": 3
   },
   "file_extension": ".py",
   "mimetype": "text/x-python",
   "name": "python",
   "nbconvert_exporter": "python",
   "pygments_lexer": "ipython3",
   "version": "3.5.4"
  }
 },
 "nbformat": 4,
 "nbformat_minor": 2
}
