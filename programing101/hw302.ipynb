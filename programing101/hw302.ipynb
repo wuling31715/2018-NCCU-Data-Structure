{
 "cells": [
  {
   "cell_type": "code",
   "execution_count": 24,
   "metadata": {
    "collapsed": false
   },
   "outputs": [
    {
     "name": "stdout",
     "output_type": "stream",
     "text": [
      "1\n",
      "Fri 01 May 2015 13:54:36 -0000\n",
      "Sat 02 May 2015 19:54:36 +0530\n",
      "1 day ago\n"
     ]
    }
   ],
   "source": [
    "import time, datetime\n",
    "\n",
    "def str_to_second(input_str):\n",
    "    input_list = input_str.split()\n",
    "    datetime_str = ''\n",
    "    for i in input_list[1:]:\n",
    "        datetime_str = datetime_str + i + ' '\n",
    "    datetime_str = datetime_str[:-1]\n",
    "    datetime_object = datetime.datetime.strptime(datetime_str , '%d %b %Y %H:%M:%S %z')\n",
    "    timezone = input_list[-1]\n",
    "    timezone_hour = int(timezone[1:3])\n",
    "    timezone_minute = int(timezone[3:])\n",
    "    timezone_second = timezone_hour * 3600 + timezone_minute * 60\n",
    "    datetime_second = time.mktime(datetime_object.timetuple())\n",
    "    if timezone[0] == '-':\n",
    "        datetime_second = datetime_second + timezone_second\n",
    "    else:\n",
    "        datetime_second = datetime_second - timezone_second\n",
    "    return datetime_second \n",
    "\n",
    "def main():    \n",
    "    second1 = str_to_second(input())\n",
    "    second2 = str_to_second(input())\n",
    "    second = int(second2 - second1)\n",
    "    minute = second // 60\n",
    "    hour = minute // 60\n",
    "    day = hour // 24\n",
    "    week = day // 7\n",
    "    if week > 0:\n",
    "        if week == 1:\n",
    "            return '%s week ago' % str(week)\n",
    "        else:\n",
    "            return '%s weeks ago' % str(week)\n",
    "    elif day > 0:\n",
    "        if day == 1:\n",
    "            return '%s day ago' % str(day)\n",
    "        else:            \n",
    "            return '%s days ago' % str(day)\n",
    "    elif hour > 0:\n",
    "        if hour == 1:\n",
    "            return '%s hour ago' % str(hour)\n",
    "        else:            \n",
    "            return '%s hours ago' % str(hour)\n",
    "    elif minute > 0:\n",
    "        if minute == 1:\n",
    "            return '%s minute ago' % str(minute)\n",
    "        else:            \n",
    "            return '%s minutes ago' % str(minute)\n",
    "    elif second > 0:\n",
    "        if second == 1:\n",
    "            return '%s second ago' % str(second)\n",
    "        else:            \n",
    "            return '%s seconds ago' % str(second)\n",
    "\n",
    "#str_to_second(input())\n",
    "N = int(input())\n",
    "for i in range(N):\n",
    "    print(main())"
   ]
  },
  {
   "cell_type": "code",
   "execution_count": null,
   "metadata": {
    "collapsed": true
   },
   "outputs": [],
   "source": []
  }
 ],
 "metadata": {
  "kernelspec": {
   "display_name": "Python 3",
   "language": "python",
   "name": "python3"
  },
  "language_info": {
   "codemirror_mode": {
    "name": "ipython",
    "version": 3
   },
   "file_extension": ".py",
   "mimetype": "text/x-python",
   "name": "python",
   "nbconvert_exporter": "python",
   "pygments_lexer": "ipython3",
   "version": "3.5.4"
  }
 },
 "nbformat": 4,
 "nbformat_minor": 2
}
