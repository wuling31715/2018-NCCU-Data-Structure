{
 "cells": [
  {
   "cell_type": "code",
   "execution_count": 1,
   "metadata": {
    "collapsed": true
   },
   "outputs": [],
   "source": [
    "class Node:\n",
    "    \n",
    "    def __init__(self, data):\n",
    "        self.data = data\n",
    "        self.next = None"
   ]
  },
  {
   "cell_type": "code",
   "execution_count": 2,
   "metadata": {
    "collapsed": true
   },
   "outputs": [],
   "source": [
    "class LinkedList:\n",
    "    \n",
    "    def __init__(self):\n",
    "        self.head = None\n",
    "        \n",
    "    def traverse(self):\n",
    "        current = self.head\n",
    "        while current:\n",
    "            print(current.data)\n",
    "            current = current.next\n",
    "            \n",
    "    def insert_at_head(self, input):\n",
    "        node = Node(input)\n",
    "        node.next = self.head\n",
    "        self.head = node\n",
    "        \n",
    "    def insert_at_tail(self, input):\n",
    "        node = Node(input)\n",
    "        if self.head == None:\n",
    "            self.head = node\n",
    "        else:\n",
    "            tail = self.head\n",
    "            while tail.next:\n",
    "                tail = tail.next\n",
    "            tail.next = node\n",
    "        \n",
    "    def insert_auto(self, input):\n",
    "        node = Node(input)\n",
    "        if self.head == None:\n",
    "            self.head = node                                \n",
    "        else:\n",
    "            prev = self.head\n",
    "            current = self.head.next\n",
    "            while current and node.data >= current.data:\n",
    "                prev = current\n",
    "                current = current.next\n",
    "            node.next = current\n",
    "            prev.next = node            \n",
    "        \n",
    "    def remove_at_head(self):\n",
    "        if self.head == None:\n",
    "            print('list empty')\n",
    "        else:\n",
    "            if self.head.next:\n",
    "                tmp = self.head\n",
    "                self.head = self.head.next\n",
    "                tmp = None\n",
    "            else:\n",
    "                self.head = None\n",
    "            \n",
    "    def remove_at_tail(self):\n",
    "        if self.head == None:\n",
    "            print('list empty')\n",
    "        else:\n",
    "            if self.head.next:\n",
    "                tail = self.head\n",
    "                while tail.next:\n",
    "                    tmp = tail\n",
    "                    tail = tail.next\n",
    "                tmp.next = None\n",
    "                tail = None\n",
    "            else:\n",
    "                self.head = None\n",
    "        \n",
    "    def remove_at_key(self, input):\n",
    "        if self.head == None:\n",
    "            print('list empty')\n",
    "        else:\n",
    "            if self.head.data == input:\n",
    "                tmp = self.head\n",
    "                self.head = self.head.next\n",
    "                tmp = None   \n",
    "                return\n",
    "            else:\n",
    "                current = self.head            \n",
    "                while current.next:\n",
    "                    if current.next.data == input:\n",
    "                        tmp = current.next                \n",
    "                        current.next = tmp.next \n",
    "                        tmp = None\n",
    "                    else:\n",
    "                        current = current.next     \n",
    "                        \n",
    "    def concate(self, node):\n",
    "        tail = self.head\n",
    "        while tail.next:\n",
    "            tail = tail.next\n",
    "        tail.next = node\n",
    "        \n",
    "    def invert(self):\n",
    "        forward = self.head\n",
    "        current = None\n",
    "        while forward != None:\n",
    "            prev = current\n",
    "            current = forward\n",
    "            forward = forward.next\n",
    "            current.next = prev\n",
    "        self.head = current\n",
    "        \n",
    "    def len(self):\n",
    "        length = 0\n",
    "        if self.head == None:\n",
    "            print(length)\n",
    "        else:\n",
    "            length += 1\n",
    "            tail = self.head\n",
    "            while tail.next:\n",
    "                tail = tail.next\n",
    "                length += 1\n",
    "            print(length)"
   ]
  },
  {
   "cell_type": "code",
   "execution_count": 3,
   "metadata": {},
   "outputs": [
    {
     "name": "stdout",
     "output_type": "stream",
     "text": [
      "1\n",
      "2\n"
     ]
    }
   ],
   "source": [
    "link_list = LinkedList()\n",
    "link_list.head = Node(1)\n",
    "link_list.head.next = Node(2)\n",
    "link_list.traverse()"
   ]
  },
  {
   "cell_type": "code",
   "execution_count": 4,
   "metadata": {},
   "outputs": [
    {
     "name": "stdout",
     "output_type": "stream",
     "text": [
      "0\n",
      "1\n",
      "2\n"
     ]
    }
   ],
   "source": [
    "link_list.insert_at_head(0)\n",
    "link_list.traverse()"
   ]
  },
  {
   "cell_type": "code",
   "execution_count": 5,
   "metadata": {},
   "outputs": [
    {
     "name": "stdout",
     "output_type": "stream",
     "text": [
      "0\n",
      "1\n",
      "2\n",
      "3\n"
     ]
    }
   ],
   "source": [
    "link_list.insert_at_tail(3)\n",
    "link_list.traverse()"
   ]
  },
  {
   "cell_type": "code",
   "execution_count": 6,
   "metadata": {},
   "outputs": [
    {
     "name": "stdout",
     "output_type": "stream",
     "text": [
      "0\n",
      "1\n",
      "2\n",
      "2\n",
      "3\n",
      "4\n"
     ]
    }
   ],
   "source": [
    "link_list.insert_auto(2)\n",
    "link_list.insert_auto(4)\n",
    "link_list.traverse()"
   ]
  },
  {
   "cell_type": "code",
   "execution_count": 7,
   "metadata": {},
   "outputs": [
    {
     "name": "stdout",
     "output_type": "stream",
     "text": [
      "1\n",
      "2\n",
      "2\n",
      "3\n",
      "4\n"
     ]
    }
   ],
   "source": [
    "link_list.remove_at_head()\n",
    "link_list.traverse()"
   ]
  },
  {
   "cell_type": "code",
   "execution_count": 8,
   "metadata": {},
   "outputs": [
    {
     "name": "stdout",
     "output_type": "stream",
     "text": [
      "1\n",
      "2\n",
      "2\n",
      "3\n"
     ]
    }
   ],
   "source": [
    "link_list.remove_at_tail()\n",
    "link_list.traverse()"
   ]
  },
  {
   "cell_type": "code",
   "execution_count": 9,
   "metadata": {},
   "outputs": [
    {
     "name": "stdout",
     "output_type": "stream",
     "text": [
      "1\n",
      "3\n"
     ]
    }
   ],
   "source": [
    "link_list.remove_at_key(2)\n",
    "link_list.traverse()"
   ]
  },
  {
   "cell_type": "code",
   "execution_count": 10,
   "metadata": {},
   "outputs": [
    {
     "name": "stdout",
     "output_type": "stream",
     "text": [
      "1\n",
      "2\n",
      "3\n"
     ]
    }
   ],
   "source": [
    "link_list.insert_auto(2)\n",
    "link_list.traverse()"
   ]
  },
  {
   "cell_type": "code",
   "execution_count": 11,
   "metadata": {},
   "outputs": [
    {
     "name": "stdout",
     "output_type": "stream",
     "text": [
      "4\n",
      "5\n",
      "6\n"
     ]
    }
   ],
   "source": [
    "link_list2 = LinkedList()\n",
    "link_list2.insert_at_head(4)\n",
    "link_list2.insert_at_tail(6)\n",
    "link_list2.insert_auto(5)\n",
    "link_list2.traverse()"
   ]
  },
  {
   "cell_type": "code",
   "execution_count": 12,
   "metadata": {},
   "outputs": [
    {
     "name": "stdout",
     "output_type": "stream",
     "text": [
      "1\n",
      "2\n",
      "3\n",
      "4\n",
      "5\n",
      "6\n"
     ]
    }
   ],
   "source": [
    "link_list.concate(link_list2.head)\n",
    "link_list.traverse()"
   ]
  },
  {
   "cell_type": "code",
   "execution_count": 13,
   "metadata": {},
   "outputs": [
    {
     "name": "stdout",
     "output_type": "stream",
     "text": [
      "6\n",
      "5\n",
      "4\n",
      "3\n",
      "2\n",
      "1\n"
     ]
    }
   ],
   "source": [
    "link_list.invert()\n",
    "link_list.traverse()"
   ]
  },
  {
   "cell_type": "code",
   "execution_count": 14,
   "metadata": {},
   "outputs": [
    {
     "name": "stdout",
     "output_type": "stream",
     "text": [
      "1\n",
      "2\n",
      "3\n",
      "4\n",
      "5\n",
      "6\n"
     ]
    }
   ],
   "source": [
    "link_list.invert()\n",
    "link_list.traverse()"
   ]
  },
  {
   "cell_type": "code",
   "execution_count": 15,
   "metadata": {},
   "outputs": [
    {
     "name": "stdout",
     "output_type": "stream",
     "text": [
      "6\n"
     ]
    }
   ],
   "source": [
    "link_list.len()"
   ]
  },
  {
   "cell_type": "code",
   "execution_count": null,
   "metadata": {
    "collapsed": true
   },
   "outputs": [],
   "source": []
  }
 ],
 "metadata": {
  "kernelspec": {
   "display_name": "py3.6",
   "language": "python",
   "name": "py3.6"
  },
  "language_info": {
   "codemirror_mode": {
    "name": "ipython",
    "version": 3
   },
   "file_extension": ".py",
   "mimetype": "text/x-python",
   "name": "python",
   "nbconvert_exporter": "python",
   "pygments_lexer": "ipython3",
   "version": "3.6.0"
  }
 },
 "nbformat": 4,
 "nbformat_minor": 2
}
