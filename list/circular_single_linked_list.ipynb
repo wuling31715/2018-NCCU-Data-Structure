{
 "cells": [
  {
   "cell_type": "code",
   "execution_count": 1,
   "metadata": {
    "collapsed": true
   },
   "outputs": [],
   "source": [
    "class Node:\n",
    "    \n",
    "    def __init__(self, data):\n",
    "        self.data = data\n",
    "        self.next = None"
   ]
  },
  {
   "cell_type": "code",
   "execution_count": 2,
   "metadata": {
    "collapsed": true
   },
   "outputs": [],
   "source": [
    "class CircularLinkedList():\n",
    "    \n",
    "    def __init__(self):\n",
    "        self.head = None\n",
    "        \n",
    "    def traverse(self):\n",
    "        current = self.head\n",
    "        while current:\n",
    "            print(current.data)\n",
    "            current = current.next\n",
    "        \n",
    "    def insert_at_head(self, input):\n",
    "        node = Node(input)\n",
    "        if self.head == None:\n",
    "            self.head = node\n",
    "        else:\n",
    "            tmp = self.head\n",
    "            self.head = node\n",
    "            node.next = tmp\n",
    "        tail = self.head\n",
    "        while tail.next:\n",
    "            tail = tail.next\n",
    "\n",
    "    def insert_at_tail(self, input):\n",
    "        node = Node(input)\n",
    "        if self.head == None:\n",
    "            self.head = node\n",
    "        tail = self.head\n",
    "        while tail.next:\n",
    "            tail = tail.next\n",
    "        tail.next = node"
   ]
  },
  {
   "cell_type": "code",
   "execution_count": null,
   "metadata": {},
   "outputs": [
    {
     "name": "stdout",
     "output_type": "stream",
     "text": [
      "2\n",
      "1\n",
      "0\n"
     ]
    }
   ],
   "source": [
    "linked_list = CircularLinkedList()\n",
    "linked_list.insert_at_head(0)\n",
    "linked_list.insert_at_head(1)\n",
    "linked_list.insert_at_head(2)\n",
    "linked_list.traverse()"
   ]
  },
  {
   "cell_type": "code",
   "execution_count": null,
   "metadata": {},
   "outputs": [],
   "source": [
    "linked_list = CircularLinkedList()\n",
    "linked_list.insert_at_tail(0)\n",
    "linked_list.insert_at_tail(1)\n",
    "linked_list.insert_at_tail(2)\n",
    "linked_list.traverse()"
   ]
  },
  {
   "cell_type": "code",
   "execution_count": null,
   "metadata": {
    "collapsed": true
   },
   "outputs": [],
   "source": []
  },
  {
   "cell_type": "code",
   "execution_count": null,
   "metadata": {
    "collapsed": true
   },
   "outputs": [],
   "source": []
  }
 ],
 "metadata": {
  "kernelspec": {
   "display_name": "py3.6",
   "language": "python",
   "name": "py3.6"
  },
  "language_info": {
   "codemirror_mode": {
    "name": "ipython",
    "version": 3
   },
   "file_extension": ".py",
   "mimetype": "text/x-python",
   "name": "python",
   "nbconvert_exporter": "python",
   "pygments_lexer": "ipython3",
   "version": "3.6.0"
  }
 },
 "nbformat": 4,
 "nbformat_minor": 2
}
