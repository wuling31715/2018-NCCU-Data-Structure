{
 "cells": [
  {
   "cell_type": "code",
   "execution_count": 1,
   "metadata": {
    "collapsed": true
   },
   "outputs": [],
   "source": [
    "class Node:\n",
    "    \n",
    "    def __init__(self, data):\n",
    "        self.data = data\n",
    "        self.next = None"
   ]
  },
  {
   "cell_type": "code",
   "execution_count": 147,
   "metadata": {},
   "outputs": [],
   "source": [
    "class LinkedList:\n",
    "    \n",
    "    def __init__(self):\n",
    "        self.head = None\n",
    "        \n",
    "    def traverse(self):\n",
    "        current = self.head\n",
    "        while current:\n",
    "            print(current.data)\n",
    "            current = current.next\n",
    "            \n",
    "    def insert_at_head(self, input):\n",
    "        node = Node(input)\n",
    "        node.next = self.head\n",
    "        self.head = node\n",
    "        \n",
    "    def insert_at_tail(self, input):\n",
    "        node = Node(input)\n",
    "        if self.head == None:\n",
    "            self.head = node\n",
    "        tail = self.head\n",
    "        while tail.next:\n",
    "            tail = tail.next\n",
    "        tail.next = node\n",
    "        \n",
    "    def insert_auto(self, input):\n",
    "        node = Node(input)\n",
    "        current = self.head\n",
    "        while current and node.data >= current.data:\n",
    "            tmp = current\n",
    "            current = current.next\n",
    "        node.next = current\n",
    "        tmp.next = node\n",
    "        \n",
    "    def remove_at_head(self):\n",
    "        tmp = self.head.next\n",
    "        if tmp:\n",
    "            self.head.next = tmp.next\n",
    "            tmp = None\n",
    "        else:\n",
    "            self.head = None\n",
    "            \n",
    "    def remove_at_tail(self):\n",
    "        tail = self.head\n",
    "        while tail.next:\n",
    "            tmp = tail\n",
    "            tail = tail.next\n",
    "        tmp.next = None\n",
    "        \n",
    "    def remove_key(self, input):\n",
    "        current = self.head\n",
    "        while current and input != current.data:\n",
    "            tmp = current\n",
    "            current = current.next\n",
    "            \n"
   ]
  },
  {
   "cell_type": "code",
   "execution_count": 148,
   "metadata": {},
   "outputs": [
    {
     "name": "stdout",
     "output_type": "stream",
     "text": [
      "1\n",
      "2\n"
     ]
    }
   ],
   "source": [
    "link_list = LinkedList()\n",
    "link_list.head = Node(1)\n",
    "link_list.head.next = Node(2)\n",
    "link_list.traverse()"
   ]
  },
  {
   "cell_type": "code",
   "execution_count": 149,
   "metadata": {},
   "outputs": [
    {
     "name": "stdout",
     "output_type": "stream",
     "text": [
      "0\n",
      "1\n",
      "2\n"
     ]
    }
   ],
   "source": [
    "link_list.insert_at_head(0)\n",
    "link_list.traverse()"
   ]
  },
  {
   "cell_type": "code",
   "execution_count": 150,
   "metadata": {},
   "outputs": [
    {
     "name": "stdout",
     "output_type": "stream",
     "text": [
      "0\n",
      "1\n",
      "2\n",
      "3\n"
     ]
    }
   ],
   "source": [
    "link_list.insert_at_tail(3)\n",
    "link_list.traverse()"
   ]
  },
  {
   "cell_type": "code",
   "execution_count": 151,
   "metadata": {},
   "outputs": [
    {
     "name": "stdout",
     "output_type": "stream",
     "text": [
      "0\n",
      "1\n",
      "2\n",
      "3\n",
      "4\n"
     ]
    }
   ],
   "source": [
    "link_list.insert_auto(4)\n",
    "link_list.traverse()"
   ]
  },
  {
   "cell_type": "code",
   "execution_count": 155,
   "metadata": {},
   "outputs": [
    {
     "name": "stdout",
     "output_type": "stream",
     "text": [
      "0\n"
     ]
    }
   ],
   "source": [
    "link_list.remove_at_head()\n",
    "link_list.traverse()"
   ]
  },
  {
   "cell_type": "code",
   "execution_count": 154,
   "metadata": {},
   "outputs": [
    {
     "name": "stdout",
     "output_type": "stream",
     "text": [
      "0\n",
      "2\n"
     ]
    }
   ],
   "source": [
    "link_list.remove_at_tail()\n",
    "link_list.traverse()"
   ]
  },
  {
   "cell_type": "code",
   "execution_count": null,
   "metadata": {
    "collapsed": true
   },
   "outputs": [],
   "source": []
  },
  {
   "cell_type": "code",
   "execution_count": null,
   "metadata": {
    "collapsed": true
   },
   "outputs": [],
   "source": []
  }
 ],
 "metadata": {
  "kernelspec": {
   "display_name": "py3.6",
   "language": "python",
   "name": "py3.6"
  },
  "language_info": {
   "codemirror_mode": {
    "name": "ipython",
    "version": 3
   },
   "file_extension": ".py",
   "mimetype": "text/x-python",
   "name": "python",
   "nbconvert_exporter": "python",
   "pygments_lexer": "ipython3",
   "version": "3.6.0"
  }
 },
 "nbformat": 4,
 "nbformat_minor": 2
}
