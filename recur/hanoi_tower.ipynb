{
 "cells": [
  {
   "cell_type": "code",
   "execution_count": 1,
   "metadata": {},
   "outputs": [],
   "source": [
    "class HanoiTower:\n",
    "    \n",
    "    def __init__(self):\n",
    "        self.step = 0\n",
    "\n",
    "    def recur(self, n, A, B, C):\n",
    "        if n > 0:\n",
    "            self.recur(n - 1, A, C, B) # A to B\n",
    "            self.show(A, B, C)\n",
    "            if A[1]:\n",
    "                disk = A[1].pop()\n",
    "                print(str(disk) + \" from \" + A[0] + \" to \" + C[0])\n",
    "                C[1].append(disk) # A to C\n",
    "                self.step += 1\n",
    "            self.recur(n - 1, B, A, C) # B to C\n",
    "\n",
    "    def show(self, A, B, C):\n",
    "        a = str(A)\n",
    "        b = str(B)\n",
    "        c = str(C)\n",
    "        if A[0] == 'A' and B[0] == 'B':\n",
    "            print('%s\\n%s\\n%s' % (a, b, c))\n",
    "        elif A[0] == 'A' and B[0] =='C':\n",
    "            print('%s\\n%s\\n%s' % (a, c, b))\n",
    "        elif A[0] == 'C' and B[0] =='B':\n",
    "            print('%s\\n%s\\n%s' % (c, b, a))\n",
    "        elif A[0] == 'B' and B[0] =='A':\n",
    "            print('%s\\n%s\\n%s' % (b, a, c))\n",
    "        elif A[0] == 'C' and B[0] =='A':\n",
    "            print('%s\\n%s\\n%s' % (b, c, a))\n",
    "        elif A[0] == 'B' and B[0] =='C':\n",
    "            print('%s\\n%s\\n%s' % (c, a, b))\n",
    "\n",
    "    def main(self, n):\n",
    "        A = ([i for i in range(1, n + 1)])\n",
    "        A = (\"A\", A[: : -1])\n",
    "        B = (\"B\", [])\n",
    "        C = (\"C\", [])\n",
    "        self.recur(n, A, B, C)\n",
    "        self.show(A, B, C)\n",
    "        print('steps: %d' % self.step)"
   ]
  },
  {
   "cell_type": "code",
   "execution_count": 2,
   "metadata": {},
   "outputs": [
    {
     "name": "stdout",
     "output_type": "stream",
     "text": [
      "('A', [3, 2, 1])\n",
      "('B', [])\n",
      "('C', [])\n",
      "1 from A to C\n",
      "('A', [3, 2])\n",
      "('B', [])\n",
      "('C', [1])\n",
      "2 from A to B\n",
      "('A', [3])\n",
      "('B', [2])\n",
      "('C', [1])\n",
      "1 from C to B\n",
      "('A', [3])\n",
      "('B', [2, 1])\n",
      "('C', [])\n",
      "3 from A to C\n",
      "('A', [])\n",
      "('B', [2, 1])\n",
      "('C', [3])\n",
      "1 from B to A\n",
      "('A', [1])\n",
      "('B', [2])\n",
      "('C', [3])\n",
      "2 from B to C\n",
      "('A', [1])\n",
      "('B', [])\n",
      "('C', [3, 2])\n",
      "1 from A to C\n",
      "('A', [])\n",
      "('B', [])\n",
      "('C', [3, 2, 1])\n",
      "steps: 7\n"
     ]
    }
   ],
   "source": [
    "hanoi_tower = HanoiTower()\n",
    "hanoi_tower.main(3)"
   ]
  },
  {
   "cell_type": "code",
   "execution_count": null,
   "metadata": {
    "collapsed": true
   },
   "outputs": [],
   "source": []
  }
 ],
 "metadata": {
  "kernelspec": {
   "display_name": "Python 2",
   "language": "python",
   "name": "python2"
  },
  "language_info": {
   "codemirror_mode": {
    "name": "ipython",
    "version": 2
   },
   "file_extension": ".py",
   "mimetype": "text/x-python",
   "name": "python",
   "nbconvert_exporter": "python",
   "pygments_lexer": "ipython2",
   "version": "2.7.13"
  }
 },
 "nbformat": 4,
 "nbformat_minor": 2
}
