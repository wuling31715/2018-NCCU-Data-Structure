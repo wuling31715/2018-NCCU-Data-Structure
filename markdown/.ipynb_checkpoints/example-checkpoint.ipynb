{
 "cells": [
  {
   "cell_type": "markdown",
   "metadata": {},
   "source": [
    "# 大標題\n",
    "## 中標題\n",
    "### 小標題\n",
    "* 1 \n",
    "* 2 \n",
    "* 3\n",
    "\n",
    "$f(x) = ax^2 + bx + c$\n",
    "$$\\int_a^b f(x)$$\n",
    "[Google](https://www.google.com.tw/?gws_rd=ssl)\n",
    "![圖片](cube.png)\n"
   ]
  }
 ],
 "metadata": {
  "kernelspec": {
   "display_name": "Python 3",
   "language": "python",
   "name": "python3"
  },
  "language_info": {
   "codemirror_mode": {
    "name": "ipython",
    "version": 3
   },
   "file_extension": ".py",
   "mimetype": "text/x-python",
   "name": "python",
   "nbconvert_exporter": "python",
   "pygments_lexer": "ipython3",
   "version": "3.6.0"
  }
 },
 "nbformat": 4,
 "nbformat_minor": 2
}
