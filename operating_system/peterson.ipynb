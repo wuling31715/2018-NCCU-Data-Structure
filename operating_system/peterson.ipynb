{
 "cells": [
  {
   "cell_type": "code",
   "execution_count": 1,
   "metadata": {},
   "outputs": [],
   "source": [
    "import time"
   ]
  },
  {
   "cell_type": "code",
   "execution_count": 2,
   "metadata": {},
   "outputs": [],
   "source": [
    "class Process:\n",
    "    \n",
    "    def __init__(self, id):\n",
    "        self.id = id\n",
    "        \n",
    "    def do(self):\n",
    "        i = self.id\n",
    "        j = (self.id + 1) % 2\n",
    "        flag[i] = True\n",
    "        turn = j\n",
    "        while flag[j] and turn == j:\n",
    "            print('P%d is waiting.' % i)\n",
    "            break\n",
    "        else:\n",
    "            print('P%d is running.' % i)\n",
    "            flag[i] = False"
   ]
  },
  {
   "cell_type": "code",
   "execution_count": 3,
   "metadata": {},
   "outputs": [
    {
     "name": "stdout",
     "output_type": "stream",
     "text": [
      "P0 is running.\n",
      "P1 is running.\n"
     ]
    }
   ],
   "source": [
    "flag = [False, False]\n",
    "p0 = Process(0)\n",
    "p1 = Process(1)\n",
    "p0.do()\n",
    "p1.do()"
   ]
  }
 ],
 "metadata": {
  "kernelspec": {
   "display_name": "py3.6",
   "language": "python",
   "name": "py3.6"
  },
  "language_info": {
   "codemirror_mode": {
    "name": "ipython",
    "version": 3
   },
   "file_extension": ".py",
   "mimetype": "text/x-python",
   "name": "python",
   "nbconvert_exporter": "python",
   "pygments_lexer": "ipython3",
   "version": "3.6.0"
  }
 },
 "nbformat": 4,
 "nbformat_minor": 2
}
