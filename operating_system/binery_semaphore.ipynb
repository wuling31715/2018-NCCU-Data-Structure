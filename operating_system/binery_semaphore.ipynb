{
 "cells": [
  {
   "cell_type": "code",
   "execution_count": 1,
   "metadata": {},
   "outputs": [],
   "source": [
    "class Process:\n",
    "    \n",
    "    def __init__(self, id):\n",
    "        self.id = id"
   ]
  },
  {
   "cell_type": "code",
   "execution_count": 2,
   "metadata": {},
   "outputs": [],
   "source": [
    "class Semaphore:\n",
    "    \n",
    "    def __init__(self, value):\n",
    "        self.c = value\n",
    "        self.s1 = 1\n",
    "        self.s2 = 0\n",
    "        \n",
    "    def wait(self, s):\n",
    "        self.wait(self.s1)\n",
    "        self.c -= 1\n",
    "        if self.c < 0:\n",
    "            self.signal(self.s1)\n",
    "            self.wait(self.s2)\n",
    "        self.signal(self.s1)\n",
    "        \n",
    "    def signal(self, s):\n",
    "        self.wait(self.s1)\n",
    "        self.c += 1\n",
    "        if self.c <= 0:\n",
    "            self.signal(self.s2)\n",
    "        else:\n",
    "            self.signal(self.s1)        "
   ]
  },
  {
   "cell_type": "code",
   "execution_count": 3,
   "metadata": {},
   "outputs": [],
   "source": [
    "# p0 = Process(0)\n",
    "# p1 = Process(1)\n",
    "# p2 = Process(2)\n",
    "# s = Semaphore(3)"
   ]
  },
  {
   "cell_type": "code",
   "execution_count": 4,
   "metadata": {},
   "outputs": [],
   "source": [
    "# process_list = [p0.id, p1.id, p2.id]\n",
    "# for i in process_list:\n",
    "#     s.wait(i)"
   ]
  }
 ],
 "metadata": {
  "kernelspec": {
   "display_name": "py3.6",
   "language": "python",
   "name": "py3.6"
  },
  "language_info": {
   "codemirror_mode": {
    "name": "ipython",
    "version": 3
   },
   "file_extension": ".py",
   "mimetype": "text/x-python",
   "name": "python",
   "nbconvert_exporter": "python",
   "pygments_lexer": "ipython3",
   "version": "3.6.0"
  }
 },
 "nbformat": 4,
 "nbformat_minor": 2
}
