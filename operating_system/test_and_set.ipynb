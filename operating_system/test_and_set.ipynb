{
 "cells": [
  {
   "cell_type": "code",
   "execution_count": 1,
   "metadata": {},
   "outputs": [],
   "source": [
    "class Process:\n",
    "    \n",
    "    def __init__(self, id):\n",
    "        self.id = id"
   ]
  },
  {
   "cell_type": "code",
   "execution_count": 2,
   "metadata": {},
   "outputs": [],
   "source": [
    "def test_and_set(target):\n",
    "    value = target\n",
    "    target = True\n",
    "    return value"
   ]
  },
  {
   "cell_type": "code",
   "execution_count": 3,
   "metadata": {},
   "outputs": [],
   "source": [
    "def do(p):\n",
    "    lock = False\n",
    "    while test_and_set(lock):\n",
    "        print('P%d is waiting.' % p)\n",
    "        break\n",
    "    else:\n",
    "        print('P%d is running.' % p)\n",
    "        lock = False"
   ]
  },
  {
   "cell_type": "code",
   "execution_count": 4,
   "metadata": {},
   "outputs": [
    {
     "name": "stdout",
     "output_type": "stream",
     "text": [
      "P0 is running.\n",
      "P1 is running.\n"
     ]
    }
   ],
   "source": [
    "p0 = Process(0)\n",
    "p1 = Process(1)\n",
    "do(p0.id)\n",
    "do(p1.id)"
   ]
  },
  {
   "cell_type": "code",
   "execution_count": 5,
   "metadata": {},
   "outputs": [],
   "source": [
    "def do(i):    \n",
    "    lock = True\n",
    "    waiting[i] = True\n",
    "    key = True\n",
    "    while waiting[i] and key:\n",
    "        print('P%d is waiting.' % i)\n",
    "        key = test_and_set(lock)        \n",
    "        break    \n",
    "    waiting[i] = False\n",
    "    print('P%i is running.' % i)\n",
    "    j = (i + 1) % len(process_list)\n",
    "    while j != i and waiting[j] == False:\n",
    "        j = (i + 1) % len(process_list)\n",
    "        break\n",
    "    if j == i:\n",
    "        lock = False\n",
    "    else:\n",
    "        waiting[j] = False\n",
    "        return"
   ]
  },
  {
   "cell_type": "code",
   "execution_count": 6,
   "metadata": {},
   "outputs": [
    {
     "name": "stdout",
     "output_type": "stream",
     "text": [
      "P0 is waiting.\n",
      "P0 is running.\n",
      "P1 is waiting.\n",
      "P1 is running.\n",
      "P2 is waiting.\n",
      "P2 is running.\n"
     ]
    }
   ],
   "source": [
    "p0 = Process(0)\n",
    "p1 = Process(1)\n",
    "p2 = Process(2)\n",
    "waiting = [False, False, False]\n",
    "process_list = [p0.id, p1.id, p2.id]\n",
    "for i in process_list:\n",
    "    do(i)"
   ]
  }
 ],
 "metadata": {
  "kernelspec": {
   "display_name": "py3.6",
   "language": "python",
   "name": "py3.6"
  },
  "language_info": {
   "codemirror_mode": {
    "name": "ipython",
    "version": 3
   },
   "file_extension": ".py",
   "mimetype": "text/x-python",
   "name": "python",
   "nbconvert_exporter": "python",
   "pygments_lexer": "ipython3",
   "version": "3.6.0"
  }
 },
 "nbformat": 4,
 "nbformat_minor": 2
}
