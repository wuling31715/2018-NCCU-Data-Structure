{
 "cells": [
  {
   "cell_type": "code",
   "execution_count": 1,
   "metadata": {},
   "outputs": [],
   "source": [
    "class Process:\n",
    "    \n",
    "    def __init__(self, id):\n",
    "        self.id = id"
   ]
  },
  {
   "cell_type": "code",
   "execution_count": 2,
   "metadata": {},
   "outputs": [],
   "source": [
    "def compare(a, b, c, d):\n",
    "    if (a < c or a == c) and b < d:\n",
    "        return True"
   ]
  },
  {
   "cell_type": "code",
   "execution_count": 3,
   "metadata": {},
   "outputs": [],
   "source": [
    "def bakery(i):    \n",
    "    choosing[i] = True                                                # 正在領號碼\n",
    "    number[i] = max(process_list) + 1                                 # 比現場最大的人 + 1\n",
    "    choosing[i] = False                                               # 已領到號碼\n",
    "    for j in range(len(process_list)):                                # 其他人：\n",
    "        while choosing[j]:                                            # 等別人領號碼\n",
    "            print('P%d is waiting.' % i)\n",
    "            break\n",
    "        while number[j] != 0 and compare(number[j], j, number[i], i): # 先比號碼，如果號碼相同再比 ID，ID 小的優先\n",
    "            print('P%d is waiting.' % i)\n",
    "            break\n",
    "        else:\n",
    "            print('P%d is running.' % i)                              # 終於輪到 i 了\n",
    "            number[i] = 0"
   ]
  },
  {
   "cell_type": "code",
   "execution_count": 4,
   "metadata": {},
   "outputs": [],
   "source": [
    "p0 = Process(0)\n",
    "p1 = Process(1)\n",
    "p2 = Process(2)\n",
    "choosing = [False, False, False]\n",
    "number = [0, 0 , 0]"
   ]
  },
  {
   "cell_type": "code",
   "execution_count": 5,
   "metadata": {},
   "outputs": [
    {
     "name": "stdout",
     "output_type": "stream",
     "text": [
      "P0 is running.\n",
      "P0 is running.\n",
      "P0 is running.\n",
      "P1 is running.\n",
      "P1 is running.\n",
      "P1 is running.\n",
      "P2 is running.\n",
      "P2 is running.\n",
      "P2 is running.\n"
     ]
    }
   ],
   "source": [
    "process_list = [p0.id, p1.id, p2.id]\n",
    "for i in process_list:\n",
    "    bakery(i)"
   ]
  },
  {
   "cell_type": "code",
   "execution_count": 6,
   "metadata": {},
   "outputs": [
    {
     "name": "stdout",
     "output_type": "stream",
     "text": [
      "P2 is running.\n",
      "P2 is running.\n",
      "P2 is running.\n",
      "P1 is running.\n",
      "P1 is running.\n",
      "P1 is running.\n",
      "P0 is running.\n",
      "P0 is running.\n",
      "P0 is running.\n"
     ]
    }
   ],
   "source": [
    "process_list = [p2.id, p1.id, p0.id]\n",
    "for i in process_list:\n",
    "    bakery(i)"
   ]
  }
 ],
 "metadata": {
  "kernelspec": {
   "display_name": "py3.6",
   "language": "python",
   "name": "py3.6"
  },
  "language_info": {
   "codemirror_mode": {
    "name": "ipython",
    "version": 3
   },
   "file_extension": ".py",
   "mimetype": "text/x-python",
   "name": "python",
   "nbconvert_exporter": "python",
   "pygments_lexer": "ipython3",
   "version": "3.6.0"
  }
 },
 "nbformat": 4,
 "nbformat_minor": 2
}
