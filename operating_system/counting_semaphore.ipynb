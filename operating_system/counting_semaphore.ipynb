{
 "cells": [
  {
   "cell_type": "code",
   "execution_count": 1,
   "metadata": {},
   "outputs": [],
   "source": [
    "class Process:\n",
    "    \n",
    "    def __init__(self, id):\n",
    "        self.id = id"
   ]
  },
  {
   "cell_type": "code",
   "execution_count": 2,
   "metadata": {},
   "outputs": [],
   "source": [
    "class Semaphore:\n",
    "    \n",
    "    def __init__(self, value):\n",
    "        self.value = value\n",
    "    \n",
    "    def block(self, p):\n",
    "        blocking_list.append(p)\n",
    "        \n",
    "    def wakeup(self):\n",
    "        blocking_list.pop()\n",
    "    \n",
    "    def wait(self, p):\n",
    "        self.value -= 1\n",
    "        if self.value < 0:\n",
    "            self.block(p)\n",
    "            \n",
    "    def signal(self, p):\n",
    "        self.value += 1\n",
    "        if self.value <= 0:\n",
    "            self.wakeup()"
   ]
  },
  {
   "cell_type": "code",
   "execution_count": 3,
   "metadata": {},
   "outputs": [],
   "source": [
    "p0 = Process(0)\n",
    "p1 = Process(1)\n",
    "p2 = Process(2)\n",
    "s = Semaphore(1)\n",
    "blocking_list = list()"
   ]
  },
  {
   "cell_type": "code",
   "execution_count": 4,
   "metadata": {},
   "outputs": [
    {
     "name": "stdout",
     "output_type": "stream",
     "text": [
      "P0 is running.\n",
      "P1 is running.\n",
      "P2 is running.\n"
     ]
    }
   ],
   "source": [
    "process_list = [p0.id, p1.id, p2.id]\n",
    "for i in process_list:\n",
    "    s.wait(i)\n",
    "    if i in blocking_list:\n",
    "        print('P%d is waiting.' % i)\n",
    "    else:\n",
    "        print('P%d is running.' % i)\n",
    "    s.signal(i)"
   ]
  },
  {
   "cell_type": "code",
   "execution_count": 5,
   "metadata": {},
   "outputs": [
    {
     "name": "stdout",
     "output_type": "stream",
     "text": [
      "P2 is running.\n",
      "P1 is running.\n",
      "P0 is running.\n"
     ]
    }
   ],
   "source": [
    "process_list = [p2.id, p1.id, p0.id]\n",
    "for i in process_list:\n",
    "    s.wait(i)\n",
    "    if i in blocking_list:\n",
    "        print('P%d is waiting.' % i)\n",
    "    else:\n",
    "        print('P%d is running.' % i)\n",
    "    s.signal(i)"
   ]
  }
 ],
 "metadata": {
  "kernelspec": {
   "display_name": "py3.6",
   "language": "python",
   "name": "py3.6"
  },
  "language_info": {
   "codemirror_mode": {
    "name": "ipython",
    "version": 3
   },
   "file_extension": ".py",
   "mimetype": "text/x-python",
   "name": "python",
   "nbconvert_exporter": "python",
   "pygments_lexer": "ipython3",
   "version": "3.6.0"
  }
 },
 "nbformat": 4,
 "nbformat_minor": 2
}
