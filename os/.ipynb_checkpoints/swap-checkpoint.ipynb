{
 "cells": [
  {
   "cell_type": "code",
   "execution_count": 1,
   "metadata": {},
   "outputs": [],
   "source": [
    "class Process:\n",
    "    \n",
    "    def __init__(self, id):\n",
    "        self.id = id"
   ]
  },
  {
   "cell_type": "code",
   "execution_count": 2,
   "metadata": {},
   "outputs": [],
   "source": [
    "def swap(a, b):\n",
    "    a = a != b # xor\n",
    "    b = a != b # xor\n",
    "    a = a != b # xor\n",
    "    return a, b"
   ]
  },
  {
   "cell_type": "code",
   "execution_count": 3,
   "metadata": {},
   "outputs": [],
   "source": [
    "def do(p):\n",
    "    lock = False\n",
    "    key = False\n",
    "    while key == True:\n",
    "        print('P%d is waiting.' % p)\n",
    "        swap(lock, key)\n",
    "        break\n",
    "    else:\n",
    "        print('P%d is running.' % p )\n",
    "        lock = False"
   ]
  },
  {
   "cell_type": "code",
   "execution_count": 4,
   "metadata": {},
   "outputs": [
    {
     "name": "stdout",
     "output_type": "stream",
     "text": [
      "P0 is running.\n",
      "P1 is running.\n"
     ]
    }
   ],
   "source": [
    "p0 = Process(0)\n",
    "p1 = Process(1)\n",
    "do(p0.id)\n",
    "do(p1.id)"
   ]
  }
 ],
 "metadata": {
  "kernelspec": {
   "display_name": "py3.6",
   "language": "python",
   "name": "py3.6"
  },
  "language_info": {
   "codemirror_mode": {
    "name": "ipython",
    "version": 3
   },
   "file_extension": ".py",
   "mimetype": "text/x-python",
   "name": "python",
   "nbconvert_exporter": "python",
   "pygments_lexer": "ipython3",
   "version": "3.6.0"
  }
 },
 "nbformat": 4,
 "nbformat_minor": 2
}
