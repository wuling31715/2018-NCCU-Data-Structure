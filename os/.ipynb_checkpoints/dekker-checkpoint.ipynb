{
 "cells": [
  {
   "cell_type": "code",
   "execution_count": 1,
   "metadata": {},
   "outputs": [],
   "source": [
    "class Process:\n",
    "    \n",
    "    def __init__(self, id):\n",
    "        self.id = id\n",
    "        \n",
    "    def do(self):\n",
    "        i = self.id\n",
    "        j = (self.id + 1) % 2\n",
    "        flag[i] = True\n",
    "        while flag[j] == True:\n",
    "            if turn != i:\n",
    "                flag[i] = False\n",
    "                while turn != i:\n",
    "                    print('P%d is waiting.' % self.id)\n",
    "                    break\n",
    "                flag[i] = True\n",
    "        print('P%d is running.' % self.id)\n",
    "        turn = j\n",
    "        flag[i] = False        "
   ]
  },
  {
   "cell_type": "code",
   "execution_count": 2,
   "metadata": {},
   "outputs": [
    {
     "name": "stdout",
     "output_type": "stream",
     "text": [
      "P0 is running.\n",
      "P1 is running.\n"
     ]
    }
   ],
   "source": [
    "flag = [False, False]\n",
    "p0 = Process(0)\n",
    "p1 = Process(1)\n",
    "p0.do()\n",
    "p1.do()"
   ]
  }
 ],
 "metadata": {
  "kernelspec": {
   "display_name": "Python 2",
   "language": "python",
   "name": "python2"
  },
  "language_info": {
   "codemirror_mode": {
    "name": "ipython",
    "version": 2
   },
   "file_extension": ".py",
   "mimetype": "text/x-python",
   "name": "python",
   "nbconvert_exporter": "python",
   "pygments_lexer": "ipython2",
   "version": "2.7.13"
  }
 },
 "nbformat": 4,
 "nbformat_minor": 2
}
