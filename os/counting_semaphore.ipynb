{
 "cells": [
  {
   "cell_type": "code",
   "execution_count": 1,
   "metadata": {},
   "outputs": [],
   "source": [
    "class Process:\n",
    "    \n",
    "    def __init__(self, id):\n",
    "        self.id = id"
   ]
  },
  {
   "cell_type": "code",
   "execution_count": 2,
   "metadata": {},
   "outputs": [],
   "source": [
    "blocking_list = list()    \n",
    "\n",
    "def block(process):\n",
    "    blocking_list.append(process)\n",
    "\n",
    "def wakeup():\n",
    "    return blocking_list.pop()\n",
    "    \n",
    "def wait(s, process):\n",
    "    s -= 1\n",
    "    if s < 0:        \n",
    "        block(process)\n",
    "        print('P%d is blocking.' % process)\n",
    "\n",
    "def signal(s):\n",
    "    s += 1\n",
    "    if s <= 0:\n",
    "        process = wakeup()\n",
    "        print('P%d is waking.' % process)"
   ]
  },
  {
   "cell_type": "code",
   "execution_count": 3,
   "metadata": {},
   "outputs": [],
   "source": [
    "def do(process):\n",
    "    mutex = 1\n",
    "    wait(mutex, process)\n",
    "    print('P%d is running.' % process)\n",
    "    signal(mutex)"
   ]
  },
  {
   "cell_type": "code",
   "execution_count": 4,
   "metadata": {},
   "outputs": [
    {
     "name": "stdout",
     "output_type": "stream",
     "text": [
      "P0 is running.\n",
      "P1 is running.\n"
     ]
    }
   ],
   "source": [
    "p0 = Process(0)\n",
    "p1 = Process(1)\n",
    "do(p0.id)\n",
    "do(p1.id)"
   ]
  }
 ],
 "metadata": {
  "kernelspec": {
   "display_name": "py3.6",
   "language": "python",
   "name": "py3.6"
  },
  "language_info": {
   "codemirror_mode": {
    "name": "ipython",
    "version": 3
   },
   "file_extension": ".py",
   "mimetype": "text/x-python",
   "name": "python",
   "nbconvert_exporter": "python",
   "pygments_lexer": "ipython3",
   "version": "3.6.0"
  }
 },
 "nbformat": 4,
 "nbformat_minor": 2
}
