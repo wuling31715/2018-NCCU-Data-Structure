{
 "cells": [
  {
   "cell_type": "code",
   "execution_count": 1,
   "metadata": {},
   "outputs": [],
   "source": [
    "class Process:\n",
    "    \n",
    "    def __init__(self, id):\n",
    "        self.id = id"
   ]
  },
  {
   "cell_type": "code",
   "execution_count": 2,
   "metadata": {},
   "outputs": [],
   "source": [
    "def wait(c):\n",
    "    wait(s1)\n",
    "    c -= 1\n",
    "    if c < 0:\n",
    "        signal(s1)\n",
    "        wait(s2)\n",
    "    signal(s1)\n",
    "\n",
    "def signal(c):\n",
    "    wait(s1)\n",
    "    c += 1\n",
    "    if c <= 0:\n",
    "        signal(s2)\n",
    "    else:\n",
    "        signal(s1)        "
   ]
  },
  {
   "cell_type": "code",
   "execution_count": 3,
   "metadata": {},
   "outputs": [],
   "source": [
    "def do(process):\n",
    "    c = 1\n",
    "    s1 = 1\n",
    "    s2 = 0\n",
    "    wait(c)\n",
    "    signal(c)"
   ]
  },
  {
   "cell_type": "code",
   "execution_count": 4,
   "metadata": {},
   "outputs": [],
   "source": [
    "# p0 = Process(0)\n",
    "# p1 = Process(1)\n",
    "# do(p0.id)\n",
    "# do(p1.id)"
   ]
  }
 ],
 "metadata": {
  "kernelspec": {
   "display_name": "py3.6",
   "language": "python",
   "name": "py3.6"
  },
  "language_info": {
   "codemirror_mode": {
    "name": "ipython",
    "version": 3
   },
   "file_extension": ".py",
   "mimetype": "text/x-python",
   "name": "python",
   "nbconvert_exporter": "python",
   "pygments_lexer": "ipython3",
   "version": "3.6.0"
  }
 },
 "nbformat": 4,
 "nbformat_minor": 2
}
