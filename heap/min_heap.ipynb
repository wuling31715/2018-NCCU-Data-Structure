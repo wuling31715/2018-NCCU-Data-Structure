{
 "cells": [
  {
   "cell_type": "code",
   "execution_count": 1,
   "metadata": {},
   "outputs": [],
   "source": [
    "class MinHeap:\n",
    "    \n",
    "    def __init__(self):\n",
    "        self.heap = [0]\n",
    "        self.size = 0\n",
    "        \n",
    "    def insert(self, key):\n",
    "        self.heap.append(key)\n",
    "        self.size = self.size + 1\n",
    "        self.heap_up(self.size)\n",
    "\n",
    "    def heap_up(self, i):\n",
    "        while i // 2 > 0:            \n",
    "            if self.heap[i] < self.heap[i // 2]:  \n",
    "                # swap\n",
    "                tmp = self.heap[i // 2]\n",
    "                self.heap[i // 2] = self.heap[i]\n",
    "                self.heap[i] = tmp\n",
    "            i = i // 2\n",
    "\n",
    "    def heap_down(self, i):\n",
    "        while (i * 2) <= self.size:\n",
    "            last_node = self.last_node(i)\n",
    "            if self.heap[i] > self.heap[last_node]:                \n",
    "                # swap\n",
    "                tmp = self.heap[i]\n",
    "                self.heap[i] = self.heap[last_node]\n",
    "                self.heap[last_node] = tmp\n",
    "            i = last_node\n",
    "\n",
    "    def last_node(self, i):  \n",
    "        if (i * 2 + 1) > self.size:            \n",
    "            return i * 2\n",
    "        else:\n",
    "            if self.heap[i*2] < self.heap[i*2+1]:\n",
    "                return i * 2\n",
    "            else:\n",
    "                return i * 2 + 1\n",
    "\n",
    "    def delete_min(self):\n",
    "        min_node = self.heap[1]\n",
    "        self.heap[1] = self.heap[self.size]\n",
    "        self.size = self.size - 1\n",
    "        self.heap.pop()\n",
    "        self.heap_down(1)\n",
    "        return min_node"
   ]
  },
  {
   "cell_type": "code",
   "execution_count": 2,
   "metadata": {},
   "outputs": [
    {
     "name": "stdout",
     "output_type": "stream",
     "text": [
      "[0, 1, 3, 2]\n"
     ]
    }
   ],
   "source": [
    "heap = MinHeap()\n",
    "heap.insert(3)\n",
    "heap.insert(2)\n",
    "heap.insert(1)\n",
    "print(heap.heap)"
   ]
  },
  {
   "cell_type": "code",
   "execution_count": 3,
   "metadata": {},
   "outputs": [
    {
     "name": "stdout",
     "output_type": "stream",
     "text": [
      "[0, 2, 3]\n"
     ]
    }
   ],
   "source": [
    "heap.delete_min()\n",
    "print(heap.heap)"
   ]
  },
  {
   "cell_type": "code",
   "execution_count": 4,
   "metadata": {},
   "outputs": [
    {
     "name": "stdout",
     "output_type": "stream",
     "text": [
      "[0, 3]\n"
     ]
    }
   ],
   "source": [
    "heap.delete_min()\n",
    "print(heap.heap)"
   ]
  },
  {
   "cell_type": "code",
   "execution_count": 5,
   "metadata": {},
   "outputs": [
    {
     "name": "stdout",
     "output_type": "stream",
     "text": [
      "[0]\n"
     ]
    }
   ],
   "source": [
    "heap.delete_min()\n",
    "print(heap.heap)"
   ]
  },
  {
   "cell_type": "code",
   "execution_count": null,
   "metadata": {},
   "outputs": [],
   "source": []
  }
 ],
 "metadata": {
  "kernelspec": {
   "display_name": "py3.6",
   "language": "python",
   "name": "py3.6"
  },
  "language_info": {
   "codemirror_mode": {
    "name": "ipython",
    "version": 3
   },
   "file_extension": ".py",
   "mimetype": "text/x-python",
   "name": "python",
   "nbconvert_exporter": "python",
   "pygments_lexer": "ipython3",
   "version": "3.6.0"
  }
 },
 "nbformat": 4,
 "nbformat_minor": 2
}
