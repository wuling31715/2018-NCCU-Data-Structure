{
 "cells": [
  {
   "cell_type": "code",
   "execution_count": 52,
   "metadata": {
    "collapsed": false
   },
   "outputs": [
    {
     "name": "stdout",
     "output_type": "stream",
     "text": [
      "N: 3\n",
      "\n",
      "n: 3 (tracking)\n",
      "n: 2 (tracking)\n",
      "n: 1 (tracking)\n",
      "([3, 2, 1], 'A') ([], 'B') ([], 'C')\n",
      "\n",
      "1 from A to C\n",
      "([3, 2], 'A') ([], 'B') ([1], 'C')\n",
      "\n",
      "2 from A to B\n",
      "n: 1 (tracking)\n",
      "([3], 'A') ([2], 'B') ([1], 'C')\n",
      "\n",
      "1 from C to B\n",
      "([3], 'A') ([2, 1], 'B') ([], 'C')\n",
      "\n",
      "3 from A to C\n",
      "n: 2 (tracking)\n",
      "n: 1 (tracking)\n",
      "([], 'A') ([2, 1], 'B') ([3], 'C')\n",
      "\n",
      "1 from B to A\n",
      "([1], 'A') ([2], 'B') ([3], 'C')\n",
      "\n",
      "2 from B to C\n",
      "n: 1 (tracking)\n",
      "([1], 'A') ([], 'B') ([3, 2], 'C')\n",
      "\n",
      "1 from A to C\n",
      "([], 'A') ([], 'B') ([3, 2, 1], 'C')\n",
      "\n",
      "total steps: 7\n"
     ]
    }
   ],
   "source": [
    "global step\n",
    "step = 0\n",
    "\n",
    "def hanoi(n, A, B, C):\n",
    "    if n > 0:\n",
    "        print('n: %d (tracking)' % n)\n",
    "        hanoi(n - 1, A, C, B) # A to B\n",
    "        sort_disk(A, B, C)\n",
    "        if A[0]:\n",
    "            disk = A[0].pop() # [0] = list, [1] = letter\n",
    "            print(str(disk) + \" from \" + A[1] + \" to \" + C[1])\n",
    "            C[0].append(disk) # A to C\n",
    "            global step\n",
    "            step += 1\n",
    "        hanoi(n - 1, B, A, C) # B to C\n",
    "\n",
    "def sort_disk(A, B, C):\n",
    "    if A[1] == 'A' and B[1] == 'B':\n",
    "        print(A, B, C)\n",
    "    elif A[1] == 'A' and B[1] =='C':\n",
    "        print(A, C, B)\n",
    "    elif A[1] == 'C' and B[1] =='B':\n",
    "        print(C, B, A)\n",
    "    elif A[1] == 'B' and B[1] =='A':\n",
    "        print(B, A, C)\n",
    "    elif A[1] == 'C' and B[1] =='A':\n",
    "        print(B, C, A)\n",
    "    elif A[1] == 'B' and B[1] =='C':\n",
    "        print(C, A, B)        \n",
    "    print()    \n",
    "        \n",
    "def main():\n",
    "    N = int(input('N: '))\n",
    "    print()\n",
    "    A = ([i for i in range(1, N + 1)])\n",
    "    A = (A[: : -1], \"A\")\n",
    "    C = ([], \"C\")\n",
    "    B = ([], \"B\")\n",
    "    hanoi(N, A, B, C)\n",
    "    sort_disk(A, B, C)\n",
    "    print('total steps: %d' % step)    \n",
    "\n",
    "main()"
   ]
  }
 ],
 "metadata": {
  "kernelspec": {
   "display_name": "Python 3",
   "language": "python",
   "name": "python3"
  },
  "language_info": {
   "codemirror_mode": {
    "name": "ipython",
    "version": 3
   },
   "file_extension": ".py",
   "mimetype": "text/x-python",
   "name": "python",
   "nbconvert_exporter": "python",
   "pygments_lexer": "ipython3",
   "version": "3.6.0"
  }
 },
 "nbformat": 4,
 "nbformat_minor": 2
}
