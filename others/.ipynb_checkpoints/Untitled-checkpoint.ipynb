{
 "cells": [
  {
   "cell_type": "code",
   "execution_count": null,
   "metadata": {
    "collapsed": false
   },
   "outputs": [],
   "source": [
    "def hanoi(n, A, B, C):\n",
    "    if n > 0:\n",
    "        hanoi(n - 1, A, C, B)\n",
    "        print (A, B, C)\n",
    "        print()\n",
    "        if A[0]:\n",
    "            disk = A[0].pop()\n",
    "            print(str(disk) + \" from \" + A[1] + \" to \" + C[1])\n",
    "            C[0].append(disk)\n",
    "        hanoi(n - 1, B, A, C)\n",
    "\n",
    "def main():\n",
    "    N = int(input('N: '))\n",
    "    A = ([i for i in range(1, N + 1)])\n",
    "    A = (A[: : -1], \"A\")\n",
    "    C = ([], \"C\")\n",
    "    B = ([], \"B\")\n",
    "    hanoi(N, A, B, C)\n",
    "    print (A, B, C)\n",
    "\n",
    "main()    "
   ]
  },
  {
   "cell_type": "code",
   "execution_count": null,
   "metadata": {
    "collapsed": true
   },
   "outputs": [],
   "source": []
  }
 ],
 "metadata": {
  "kernelspec": {
   "display_name": "Python 3",
   "language": "python",
   "name": "python3"
  },
  "language_info": {
   "codemirror_mode": {
    "name": "ipython",
    "version": 3
   },
   "file_extension": ".py",
   "mimetype": "text/x-python",
   "name": "python",
   "nbconvert_exporter": "python",
   "pygments_lexer": "ipython3",
   "version": "3.6.0"
  }
 },
 "nbformat": 4,
 "nbformat_minor": 2
}
