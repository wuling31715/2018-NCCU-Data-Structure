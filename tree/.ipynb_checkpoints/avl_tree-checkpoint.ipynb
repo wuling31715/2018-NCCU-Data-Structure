{
 "cells": [
  {
   "cell_type": "code",
   "execution_count": 1,
   "metadata": {
    "collapsed": true
   },
   "outputs": [],
   "source": [
    "class Node:\n",
    "    \n",
    "    def __init__(self, data): \n",
    "        self.data = data \n",
    "        self.left = None\n",
    "        self.right = None\n",
    "        self.height = 1"
   ]
  },
  {
   "cell_type": "code",
   "execution_count": 2,
   "metadata": {
    "collapsed": true
   },
   "outputs": [],
   "source": [
    "class AVLTree: \n",
    "\n",
    "    def insert(self, root, key):\n",
    "        # step 1: BST\n",
    "        if root == None: \n",
    "            return Node(key) \n",
    "        elif key < root.data: \n",
    "            root.left = self.insert(root.left, key) \n",
    "        else: \n",
    "            root.right = self.insert(root.right, key) \n",
    "        # step 2: update the height of the ancestor node \n",
    "        root.height = 1 + max(self.get_height(root.left), self.get_height(root.right)) \n",
    "        # step 3: get the balance factor \n",
    "        balance = self.get_balance(root) \n",
    "        # 不平衡狀態\n",
    "        # step 4: if the node is unbalanced, then try out 4 cases\n",
    "        # case 1: left left (LL)\n",
    "        if balance > 1 and key < root.left.data: # left height > right height, key < left \n",
    "            return self.right_rotate(root) \n",
    "        # case 2: right right (RR)\n",
    "        if balance < -1 and key > root.right.data: # left height < right height, key > right\n",
    "            return self.left_rotate(root) \n",
    "        # case 3: left right (LR)\n",
    "        if balance > 1 and key > root.left.data: # left height > right height, key > left\n",
    "            root.left = self.left_rotate(root.left) \n",
    "            return self.right_rotate(root) \n",
    "        # case 4: right left (RL)\n",
    "        if balance < -1 and key < root.right.data: # left height < right height, key < right\n",
    "            root.right = self.right_rotate(root.right) \n",
    "            return self.left_rotate(root) \n",
    "        # 平衡狀態\n",
    "        return root \n",
    "\n",
    "    def remove(self, root, key):\n",
    "        # step 1: BST\n",
    "        if not root: \n",
    "            return root \n",
    "        elif key < root.data: \n",
    "            root.left = self.remove(root.left, key) \n",
    "        elif key > root.data: \n",
    "            root.right = self.remove(root.right, key) \n",
    "        else: \n",
    "            if root.left == None: \n",
    "                temp = root.right \n",
    "                root = None\n",
    "                return temp \n",
    "            elif root.right == None: \n",
    "                temp = root.left \n",
    "                root = None\n",
    "                return temp \n",
    "            temp = self.get_min(root.right) \n",
    "            root.data = temp.data \n",
    "            root.right = self.remove(root.right, temp.data)   \n",
    "        # if the tree has only one node, simply return it \n",
    "        if root == None: \n",
    "            return root \n",
    "        # step 2: update the height\n",
    "        root.height = 1 + max(self.get_height(root.left), self.get_height(root.right)) \n",
    "        # step 3: get the balance factor \n",
    "        balance = self.get_balance(root) \n",
    "        # step 4: if the node is unbalanced, then try out 4 cases \n",
    "        if balance > 1 and self.get_balance(root.left) >= 0: \n",
    "            return self.rightRotate(root) \n",
    "        if balance < -1 and self.get_balance(root.right) <= 0: \n",
    "            return self.leftRotate(root) \n",
    "        if balance > 1 and self.get_balance(root.left) < 0: \n",
    "            root.left = self.leftRotate(root.left) \n",
    "            return self.rightRotate(root) \n",
    "        if balance < -1 and self.get_balance(root.right) > 0: \n",
    "            root.right = self.rightRotate(root.right) \n",
    "            return self.leftRotate(root) \n",
    "        return root \n",
    "  \n",
    "    def left_rotate(self, z): \n",
    "        y = z.right \n",
    "        T2 = y.left \n",
    "        # rotation \n",
    "        y.left = z \n",
    "        z.right = T2 \n",
    "        # update heights \n",
    "        z.height = 1 + max(self.get_height(z.left), self.get_height(z.right)) \n",
    "        y.height = 1 + max(self.get_height(y.left), self.get_height(y.right)) \n",
    "        # return the new root \n",
    "        return y \n",
    "  \n",
    "    def right_rotate(self, z): \n",
    "        y = z.left \n",
    "        T3 = y.right \n",
    "        # rotation \n",
    "        y.right = z \n",
    "        z.left = T3 \n",
    "        # update heights \n",
    "        z.height = 1 + max(self.get_height(z.left), self.get_height(z.right)) \n",
    "        y.height = 1 + max(self.get_height(y.left), self.get_height(y.right)) \n",
    "        # return the new root \n",
    "        return y \n",
    "  \n",
    "    def get_height(self, root): \n",
    "        if root == None: \n",
    "            return 0\n",
    "        return root.height \n",
    "  \n",
    "    def get_balance(self, root): \n",
    "        if root == None: \n",
    "            return 0\n",
    "        return self.get_height(root.left) - self.get_height(root.right) \n",
    "    \n",
    "    def get_min(self, root): \n",
    "        if root == None or root.left == None: \n",
    "            return root\n",
    "        return self.get_min(root.left) \n",
    "\n",
    "    def inorder_traverse(self, root):\n",
    "        if root == None: \n",
    "            return\n",
    "        self.inorder_traverse(root.left)\n",
    "        print(root.data)\n",
    "        self.inorder_traverse(root.right)"
   ]
  },
  {
   "cell_type": "code",
   "execution_count": 3,
   "metadata": {},
   "outputs": [
    {
     "name": "stdout",
     "output_type": "stream",
     "text": [
      "1\n",
      "2\n",
      "3\n",
      "4\n",
      "5\n",
      "6\n"
     ]
    }
   ],
   "source": [
    "tree = AVLTree() \n",
    "root = None  \n",
    "root = tree.insert(root, 1) \n",
    "root = tree.insert(root, 2) \n",
    "root = tree.insert(root, 3) \n",
    "root = tree.insert(root, 4) \n",
    "root = tree.insert(root, 5) \n",
    "root = tree.insert(root, 6) \n",
    "tree.inorder_traverse(root)"
   ]
  },
  {
   "cell_type": "code",
   "execution_count": 4,
   "metadata": {},
   "outputs": [
    {
     "name": "stdout",
     "output_type": "stream",
     "text": [
      "1\n",
      "2\n",
      "3\n",
      "4\n",
      "5\n"
     ]
    }
   ],
   "source": [
    "root = tree.remove(root, 6) \n",
    "tree.inorder_traverse(root)"
   ]
  },
  {
   "cell_type": "code",
   "execution_count": 5,
   "metadata": {},
   "outputs": [
    {
     "name": "stdout",
     "output_type": "stream",
     "text": [
      "2\n",
      "3\n",
      "4\n",
      "5\n"
     ]
    }
   ],
   "source": [
    "root = tree.remove(root, 1) \n",
    "tree.inorder_traverse(root)"
   ]
  },
  {
   "cell_type": "code",
   "execution_count": null,
   "metadata": {
    "collapsed": true
   },
   "outputs": [],
   "source": []
  }
 ],
 "metadata": {
  "kernelspec": {
   "display_name": "py3.6",
   "language": "python",
   "name": "py3.6"
  },
  "language_info": {
   "codemirror_mode": {
    "name": "ipython",
    "version": 3
   },
   "file_extension": ".py",
   "mimetype": "text/x-python",
   "name": "python",
   "nbconvert_exporter": "python",
   "pygments_lexer": "ipython3",
   "version": "3.6.0"
  }
 },
 "nbformat": 4,
 "nbformat_minor": 2
}
