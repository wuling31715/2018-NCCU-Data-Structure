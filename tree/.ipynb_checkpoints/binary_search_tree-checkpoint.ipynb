{
 "cells": [
  {
   "cell_type": "code",
   "execution_count": 1,
   "metadata": {},
   "outputs": [],
   "source": [
    "class Node:\n",
    "\n",
    "    def __init__(self, data):\n",
    "        self.data = data\n",
    "        self.left = None\n",
    "        self.right = None\n",
    "\n",
    "    def insert(self, data):\n",
    "        if self.data:\n",
    "            if data < self.data:\n",
    "                if self.left == None:\n",
    "                    self.left = Node(data)\n",
    "                else:\n",
    "                    self.left.insert(data)\n",
    "            elif data > self.data:\n",
    "                if self.right == None:\n",
    "                    self.right = Node(data)\n",
    "                else:\n",
    "                    self.right.insert(data)\n",
    "        else:\n",
    "            self.data = data\n",
    "\n",
    "    def search(self, key):\n",
    "        if key < self.data:\n",
    "            if self.left == None:\n",
    "                return\n",
    "            return self.left.search(key)\n",
    "        elif key > self.data:\n",
    "            if self.right == None:\n",
    "                return\n",
    "            return self.right.search(key)\n",
    "        else:\n",
    "            return self\n",
    "            \n",
    "    def left_max(self):\n",
    "        current = self\n",
    "        while current.right:\n",
    "            current = current.right\n",
    "        return current \n",
    "            \n",
    "    def right_min(self):\n",
    "        current = self\n",
    "        while current.left:\n",
    "            current = current.left\n",
    "        return current         \n",
    "            \n",
    "    def remove(self, key):\n",
    "        if self == None:\n",
    "            return self\n",
    "        if key < self.data:\n",
    "            self.left = self.left.remove(key)\n",
    "        elif key > self.data:\n",
    "            self.right = self.right.remove(key)\n",
    "        else:\n",
    "            # node with only right child or no child\n",
    "            if self.left == None:\n",
    "                temp = self.right\n",
    "                self = None\n",
    "                return temp\n",
    "            # node with only left child no child\n",
    "            elif self.right == None:\n",
    "                temp = self.left\n",
    "                self = None\n",
    "                return temp\n",
    "            # node with left and right children \n",
    "            temp = self.right.right_min() # get the successor (smallest in the right subtree)\n",
    "            self.data = temp.data\n",
    "            self.right = self.right.remove(temp.data)\n",
    "        return self\n",
    "    \n",
    "    def preorder_traverse(self):\n",
    "        print(self.data)\n",
    "        if self.left:\n",
    "            self.left.preorder_traverse()\n",
    "        if self.right:\n",
    "            self.right.preorder_traverse()\n",
    "\n",
    "    def inorder_traverse(self):\n",
    "        if self.left:\n",
    "            self.left.inorder_traverse()\n",
    "        print(self.data)\n",
    "        if self.right:\n",
    "            self.right.inorder_traverse()\n",
    "    \n",
    "    def postorder_traverse(self):\n",
    "        if self.left:\n",
    "            self.left.postorder_traverse()\n",
    "        if self.right:\n",
    "            self.right.postorder_traverse()\n",
    "        print(self.data)"
   ]
  },
  {
   "cell_type": "code",
   "execution_count": 2,
   "metadata": {},
   "outputs": [
    {
     "name": "stdout",
     "output_type": "stream",
     "text": [
      "1\n",
      "2\n",
      "3\n",
      "4\n",
      "5\n",
      "6\n",
      "7\n"
     ]
    }
   ],
   "source": [
    "root = Node(4) \n",
    "root.insert(3) # don't  insert 0（if 0: exception）\n",
    "root.insert(1)\n",
    "root.insert(2)\n",
    "root.insert(7)\n",
    "root.insert(5)\n",
    "root.insert(6)\n",
    "root.inorder_traverse()"
   ]
  },
  {
   "cell_type": "code",
   "execution_count": 3,
   "metadata": {},
   "outputs": [
    {
     "name": "stdout",
     "output_type": "stream",
     "text": [
      "1\n",
      "2\n",
      "3\n",
      "4\n",
      "5\n",
      "6\n"
     ]
    }
   ],
   "source": [
    "root.remove(7) # with no child\n",
    "root.inorder_traverse()"
   ]
  },
  {
   "cell_type": "code",
   "execution_count": 4,
   "metadata": {},
   "outputs": [
    {
     "name": "stdout",
     "output_type": "stream",
     "text": [
      "1\n",
      "3\n",
      "4\n",
      "5\n",
      "6\n"
     ]
    }
   ],
   "source": [
    "root.remove(2) # with 1 child\n",
    "root.inorder_traverse()"
   ]
  },
  {
   "cell_type": "code",
   "execution_count": 5,
   "metadata": {},
   "outputs": [
    {
     "name": "stdout",
     "output_type": "stream",
     "text": [
      "1\n",
      "3\n",
      "5\n",
      "6\n"
     ]
    }
   ],
   "source": [
    "root.remove(4) # with 2 children\n",
    "root.inorder_traverse()"
   ]
  },
  {
   "cell_type": "code",
   "execution_count": 6,
   "metadata": {},
   "outputs": [
    {
     "name": "stdout",
     "output_type": "stream",
     "text": [
      "5\n"
     ]
    }
   ],
   "source": [
    "print(root.data) # the successor"
   ]
  },
  {
   "cell_type": "code",
   "execution_count": null,
   "metadata": {
    "collapsed": true
   },
   "outputs": [],
   "source": []
  }
 ],
 "metadata": {
  "kernelspec": {
   "display_name": "py3.6",
   "language": "python",
   "name": "py3.6"
  },
  "language_info": {
   "codemirror_mode": {
    "name": "ipython",
    "version": 3
   },
   "file_extension": ".py",
   "mimetype": "text/x-python",
   "name": "python",
   "nbconvert_exporter": "python",
   "pygments_lexer": "ipython3",
   "version": "3.6.0"
  }
 },
 "nbformat": 4,
 "nbformat_minor": 2
}
