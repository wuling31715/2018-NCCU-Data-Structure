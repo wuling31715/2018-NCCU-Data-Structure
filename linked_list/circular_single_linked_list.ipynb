{
 "cells": [
  {
   "cell_type": "code",
   "execution_count": 1,
   "metadata": {
    "collapsed": true
   },
   "outputs": [],
   "source": [
    "class Node:\n",
    "    \n",
    "    def __init__(self, data):\n",
    "        self.data = data\n",
    "        self.next = None"
   ]
  },
  {
   "cell_type": "code",
   "execution_count": 165,
   "metadata": {},
   "outputs": [],
   "source": [
    "class CircularSingleLinkedList():\n",
    "    \n",
    "    def __init__(self):\n",
    "        self.head = None\n",
    "        \n",
    "    def traverse(self):\n",
    "        current = self.head\n",
    "        print(self.head.data)\n",
    "        while current.next != self.head:\n",
    "            print(current.next.data)\n",
    "            current = current.next\n",
    "        \n",
    "    def insert_at_head(self, input):\n",
    "        node = Node(input)\n",
    "        if self.head == None:\n",
    "            self.head = node\n",
    "            self.head.next = self.head\n",
    "        else:\n",
    "            node.next = self.head.next\n",
    "            self.head.next = node\n",
    "            \n",
    "    def insert_at_tail(self, input):\n",
    "        node = Node(input)\n",
    "        if self.head == None:\n",
    "            self.head = node\n",
    "            node.next = self.head\n",
    "        else:\n",
    "            tail = self.head.next\n",
    "            while tail.next != self.head:\n",
    "                tail = tail.next\n",
    "            node.next = tail.next\n",
    "            tail.next = node\n",
    "            \n",
    "    def size(self):\n",
    "        length = 0\n",
    "        if self.head == None:\n",
    "            print(length)\n",
    "        else:            \n",
    "            current = self.head\n",
    "            length += 1\n",
    "            while current.next != self.head:\n",
    "                length += 1\n",
    "                current = current.next\n",
    "            print(length)        "
   ]
  },
  {
   "cell_type": "code",
   "execution_count": 166,
   "metadata": {},
   "outputs": [
    {
     "name": "stdout",
     "output_type": "stream",
     "text": [
      "0\n",
      "3\n",
      "2\n",
      "1\n"
     ]
    }
   ],
   "source": [
    "linked_list = CircularSingleLinkedList()\n",
    "linked_list.insert_at_head(0)\n",
    "linked_list.insert_at_head(1)\n",
    "linked_list.insert_at_head(2)\n",
    "linked_list.insert_at_head(3)\n",
    "linked_list.traverse()"
   ]
  },
  {
   "cell_type": "code",
   "execution_count": 167,
   "metadata": {},
   "outputs": [
    {
     "name": "stdout",
     "output_type": "stream",
     "text": [
      "0\n",
      "1\n",
      "2\n",
      "3\n"
     ]
    }
   ],
   "source": [
    "linked_list = CircularSingleLinkedList()\n",
    "linked_list.insert_at_tail(0)\n",
    "linked_list.insert_at_tail(1)\n",
    "linked_list.insert_at_tail(2)\n",
    "linked_list.insert_at_tail(3)\n",
    "linked_list.traverse()"
   ]
  },
  {
   "cell_type": "code",
   "execution_count": 168,
   "metadata": {},
   "outputs": [
    {
     "name": "stdout",
     "output_type": "stream",
     "text": [
      "4\n"
     ]
    }
   ],
   "source": [
    "linked_list.size()"
   ]
  },
  {
   "cell_type": "code",
   "execution_count": null,
   "metadata": {
    "collapsed": true
   },
   "outputs": [],
   "source": []
  }
 ],
 "metadata": {
  "kernelspec": {
   "display_name": "py3.6",
   "language": "python",
   "name": "py3.6"
  },
  "language_info": {
   "codemirror_mode": {
    "name": "ipython",
    "version": 3
   },
   "file_extension": ".py",
   "mimetype": "text/x-python",
   "name": "python",
   "nbconvert_exporter": "python",
   "pygments_lexer": "ipython3",
   "version": "3.6.0"
  }
 },
 "nbformat": 4,
 "nbformat_minor": 2
}
