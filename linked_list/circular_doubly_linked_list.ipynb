{
 "cells": [
  {
   "cell_type": "code",
   "execution_count": 1,
   "metadata": {
    "collapsed": true
   },
   "outputs": [],
   "source": [
    "class Node:\n",
    "    \n",
    "    def __init__(self, input):\n",
    "        self.data = input\n",
    "        self.next = None\n",
    "        self.prev = None        "
   ]
  },
  {
   "cell_type": "code",
   "execution_count": 21,
   "metadata": {
    "collapsed": true
   },
   "outputs": [],
   "source": [
    "class CircularDoublyLinkedList:\n",
    "    \n",
    "    def __init__(self):\n",
    "        self.head = None\n",
    "        \n",
    "    def insert_head(self, input):\n",
    "        node = Node(input)\n",
    "        if self.head == None:\n",
    "            self.head = node\n",
    "            self.head.next = self.head\n",
    "            self.head.prev = self.head\n",
    "        else:\n",
    "            node.next = self.head.next\n",
    "            self.head.next.prev = node\n",
    "            self.head.next = node\n",
    "            node.prev = self.head   \n",
    "            \n",
    "    def insert_tail(self, input):\n",
    "        node = Node(input)\n",
    "        if self.head == None:\n",
    "            self.head = node\n",
    "            self.head.next = self.head\n",
    "            self.head.prev = self.head\n",
    "        else:\n",
    "            tail = self.head.prev            \n",
    "            node.next = self.head\n",
    "            tail.next = node\n",
    "            node.prev = tail\n",
    "            self.head.prev = node\n",
    "            \n",
    "    def insert_auto(self, input):\n",
    "        node = Node(input)\n",
    "        if self.head == None:\n",
    "            self.head = node\n",
    "            self.head.next = self.head\n",
    "            self.head.prev = self.head \n",
    "        else:\n",
    "            prev = self.head\n",
    "            current = self.head.next\n",
    "            while current != self.head and node.data >= current.data:\n",
    "                prev = current\n",
    "                current = current.next\n",
    "            node.next = current\n",
    "            current.prev = node\n",
    "            node.prev = prev\n",
    "            prev.next = node\n",
    "            \n",
    "    def remove_head(self):\n",
    "        if self.head == None:\n",
    "            print('list empty')            \n",
    "        else:\n",
    "            self.head.next = self.head.next.next\n",
    "            self.head.next.prev = self.head\n",
    "            \n",
    "    def remove_tail(self):\n",
    "        if self.head == None:\n",
    "            print('list empty')            \n",
    "        else:\n",
    "            tail = self.head.prev\n",
    "            self.head.prev = tail.prev\n",
    "            tail.prev.next = self.head\n",
    "            \n",
    "    def remove_key(self, input):\n",
    "        if self.head == None:\n",
    "            print('list empty')            \n",
    "        else:\n",
    "            prev = self.head\n",
    "            current = self.head.next\n",
    "            while current != self.head:\n",
    "                if current.data == input:\n",
    "                    prev.next = current.next\n",
    "                    current.next.prev = prev                    \n",
    "                prev = current\n",
    "                current = current.next\n",
    "            if current.data == input:\n",
    "                prev.next = current.next\n",
    "                current.next.prev = prev                    \n",
    "                \n",
    "    def traverse(self):\n",
    "        if self.head == None:            \n",
    "            print('list empty')\n",
    "        else:\n",
    "            print(self.head.data)\n",
    "            current = self.head.next\n",
    "            while current != self.head:\n",
    "                print(current.data)\n",
    "                current = current.next"
   ]
  },
  {
   "cell_type": "code",
   "execution_count": 22,
   "metadata": {},
   "outputs": [
    {
     "name": "stdout",
     "output_type": "stream",
     "text": [
      "0\n",
      "3\n",
      "2\n",
      "1\n"
     ]
    }
   ],
   "source": [
    "linked_list = CircularDoublyLinkedList()\n",
    "linked_list.insert_head(0)\n",
    "linked_list.insert_head(1)\n",
    "linked_list.insert_head(2)\n",
    "linked_list.insert_head(3)\n",
    "linked_list.traverse()"
   ]
  },
  {
   "cell_type": "code",
   "execution_count": 23,
   "metadata": {},
   "outputs": [
    {
     "name": "stdout",
     "output_type": "stream",
     "text": [
      "0\n",
      "1\n",
      "2\n",
      "3\n"
     ]
    }
   ],
   "source": [
    "linked_list = CircularDoublyLinkedList()\n",
    "linked_list.insert_tail(0)\n",
    "linked_list.insert_tail(1)\n",
    "linked_list.insert_tail(2)\n",
    "linked_list.insert_tail(3)\n",
    "linked_list.traverse()"
   ]
  },
  {
   "cell_type": "code",
   "execution_count": 24,
   "metadata": {},
   "outputs": [
    {
     "name": "stdout",
     "output_type": "stream",
     "text": [
      "0\n",
      "1\n",
      "2\n",
      "2\n",
      "3\n"
     ]
    }
   ],
   "source": [
    "linked_list = CircularDoublyLinkedList()\n",
    "linked_list.insert_auto(0)\n",
    "linked_list.insert_auto(1)\n",
    "linked_list.insert_auto(3)\n",
    "linked_list.insert_auto(2)\n",
    "linked_list.insert_auto(2)\n",
    "linked_list.traverse()"
   ]
  },
  {
   "cell_type": "code",
   "execution_count": 25,
   "metadata": {},
   "outputs": [
    {
     "name": "stdout",
     "output_type": "stream",
     "text": [
      "0\n",
      "2\n",
      "2\n",
      "3\n"
     ]
    }
   ],
   "source": [
    "linked_list.remove_head()\n",
    "linked_list.traverse()"
   ]
  },
  {
   "cell_type": "code",
   "execution_count": 26,
   "metadata": {},
   "outputs": [
    {
     "name": "stdout",
     "output_type": "stream",
     "text": [
      "0\n",
      "2\n",
      "2\n"
     ]
    }
   ],
   "source": [
    "linked_list.remove_tail()\n",
    "linked_list.traverse()"
   ]
  },
  {
   "cell_type": "code",
   "execution_count": 29,
   "metadata": {},
   "outputs": [
    {
     "name": "stdout",
     "output_type": "stream",
     "text": [
      "0\n"
     ]
    }
   ],
   "source": [
    "linked_list.remove_key(2)\n",
    "linked_list.traverse()"
   ]
  },
  {
   "cell_type": "code",
   "execution_count": null,
   "metadata": {
    "collapsed": true
   },
   "outputs": [],
   "source": []
  }
 ],
 "metadata": {
  "kernelspec": {
   "display_name": "py3.6",
   "language": "python",
   "name": "py3.6"
  },
  "language_info": {
   "codemirror_mode": {
    "name": "ipython",
    "version": 3
   },
   "file_extension": ".py",
   "mimetype": "text/x-python",
   "name": "python",
   "nbconvert_exporter": "python",
   "pygments_lexer": "ipython3",
   "version": "3.6.0"
  }
 },
 "nbformat": 4,
 "nbformat_minor": 2
}
