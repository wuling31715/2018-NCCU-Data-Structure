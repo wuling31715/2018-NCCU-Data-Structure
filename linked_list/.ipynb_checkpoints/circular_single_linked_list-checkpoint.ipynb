{
 "cells": [
  {
   "cell_type": "code",
   "execution_count": 1,
   "metadata": {
    "collapsed": true
   },
   "outputs": [],
   "source": [
    "class Node:\n",
    "    \n",
    "    def __init__(self, data):\n",
    "        self.data = data\n",
    "        self.next = None"
   ]
  },
  {
   "cell_type": "code",
   "execution_count": 2,
   "metadata": {
    "collapsed": true
   },
   "outputs": [],
   "source": [
    "class CircularSingleLinkedList:\n",
    "    \n",
    "    def __init__(self):\n",
    "        self.head = None\n",
    "        \n",
    "    def traverse(self):\n",
    "        if self.head == None:            \n",
    "            return\n",
    "        else:\n",
    "            current = self.head\n",
    "            print(self.head.data)\n",
    "            while current.next != self.head:\n",
    "                print(current.next.data)\n",
    "                current = current.next\n",
    "        \n",
    "    def insert_at_head(self, input):\n",
    "        node = Node(input)\n",
    "        if self.head == None:\n",
    "            self.head = node\n",
    "            self.head.next = self.head\n",
    "        else:\n",
    "            node.next = self.head.next\n",
    "            self.head.next = node\n",
    "            \n",
    "    def insert_at_tail(self, input):\n",
    "        node = Node(input)\n",
    "        if self.head == None:\n",
    "            self.head = node\n",
    "            node.next = self.head\n",
    "        else:\n",
    "            tail = self.head.next\n",
    "            while tail.next != self.head:\n",
    "                tail = tail.next\n",
    "            node.next = tail.next\n",
    "            tail.next = node\n",
    "            \n",
    "    def insert_auto(self, input):\n",
    "        node = Node(input)\n",
    "        if self.head == None:\n",
    "            self.head = node  \n",
    "            node.next = self.head\n",
    "        else:\n",
    "            prev = self.head\n",
    "            current = self.head.next\n",
    "            while current != self.head and node.data >= current.data:\n",
    "                prev = current\n",
    "                current = current.next\n",
    "            node.next = current\n",
    "            prev.next = node     \n",
    "            \n",
    "    def remove_at_head(self):\n",
    "        if self.head == None:\n",
    "            print('list empty')\n",
    "        else:\n",
    "            self.head.next = self.head.next.next\n",
    "            \n",
    "    def remove_at_tail(self):\n",
    "        if self.head == None:\n",
    "            print('list empty')\n",
    "        else:\n",
    "            current = self.head.next\n",
    "            while current.next.next != self.head:\n",
    "                current = current.next\n",
    "            current.next = self.head    \n",
    "            \n",
    "    def remove_at_key(self, input):\n",
    "        if self.head == None:\n",
    "            print('list empty')\n",
    "        else:\n",
    "            current = self.head.next            \n",
    "            while current.next.next != self.head:\n",
    "                if current.next.data == input:     \n",
    "                    current.next = current.next.next  \n",
    "                current = current.next                                        \n",
    "            if current.next.data == input:     \n",
    "                current.next = current.next.next  \n",
    "                \n",
    "    def concat(self, node):\n",
    "        tail_a = self.head.next\n",
    "        while tail_a.next != self.head:\n",
    "            tail_a = tail_a.next\n",
    "        head_b = node\n",
    "        tail_b = head_b\n",
    "        while tail_b.next != head_b:\n",
    "            tail_b = tail_b.next\n",
    "        tail_a.next = head_b\n",
    "        tail_b.next = self.head                                        \n",
    "            \n",
    "    def reverse(self):\n",
    "        forward = self.head\n",
    "        current = None\n",
    "        while forward != None:\n",
    "            prev = current\n",
    "            current = forward\n",
    "            forward = forward.next\n",
    "            current.next = prev\n",
    "        self.head = current\n",
    "        \n",
    "    def size(self):\n",
    "        length = 0\n",
    "        if self.head == None:\n",
    "            print(length)\n",
    "        else:            \n",
    "            current = self.head\n",
    "            length += 1\n",
    "            while current.next != self.head:\n",
    "                length += 1\n",
    "                current = current.next\n",
    "            print(length)        "
   ]
  },
  {
   "cell_type": "code",
   "execution_count": 3,
   "metadata": {},
   "outputs": [
    {
     "name": "stdout",
     "output_type": "stream",
     "text": [
      "0\n",
      "3\n",
      "2\n",
      "1\n"
     ]
    }
   ],
   "source": [
    "linked_list = CircularSingleLinkedList()\n",
    "linked_list.insert_at_head(0)\n",
    "linked_list.insert_at_head(1)\n",
    "linked_list.insert_at_head(2)\n",
    "linked_list.insert_at_head(3)\n",
    "linked_list.traverse()"
   ]
  },
  {
   "cell_type": "code",
   "execution_count": 4,
   "metadata": {},
   "outputs": [
    {
     "name": "stdout",
     "output_type": "stream",
     "text": [
      "0\n",
      "1\n",
      "2\n",
      "3\n"
     ]
    }
   ],
   "source": [
    "linked_list = CircularSingleLinkedList()\n",
    "linked_list.insert_at_tail(0)\n",
    "linked_list.insert_at_tail(1)\n",
    "linked_list.insert_at_tail(2)\n",
    "linked_list.insert_at_tail(3)\n",
    "linked_list.traverse()"
   ]
  },
  {
   "cell_type": "code",
   "execution_count": 5,
   "metadata": {},
   "outputs": [
    {
     "name": "stdout",
     "output_type": "stream",
     "text": [
      "0\n",
      "1\n",
      "2\n",
      "2\n",
      "3\n"
     ]
    }
   ],
   "source": [
    "linked_list = CircularSingleLinkedList()\n",
    "linked_list.insert_auto(0)\n",
    "linked_list.insert_auto(2)\n",
    "linked_list.insert_auto(2)\n",
    "linked_list.insert_auto(3)\n",
    "linked_list.insert_auto(1)\n",
    "linked_list.traverse()"
   ]
  },
  {
   "cell_type": "code",
   "execution_count": 6,
   "metadata": {},
   "outputs": [
    {
     "name": "stdout",
     "output_type": "stream",
     "text": [
      "0\n",
      "2\n",
      "2\n",
      "3\n"
     ]
    }
   ],
   "source": [
    "linked_list.remove_at_head()\n",
    "linked_list.traverse()"
   ]
  },
  {
   "cell_type": "code",
   "execution_count": 7,
   "metadata": {},
   "outputs": [
    {
     "name": "stdout",
     "output_type": "stream",
     "text": [
      "0\n",
      "2\n",
      "2\n"
     ]
    }
   ],
   "source": [
    "linked_list.remove_at_tail()\n",
    "linked_list.traverse()"
   ]
  },
  {
   "cell_type": "code",
   "execution_count": 8,
   "metadata": {},
   "outputs": [
    {
     "name": "stdout",
     "output_type": "stream",
     "text": [
      "0\n",
      "2\n"
     ]
    }
   ],
   "source": [
    "linked_list.remove_at_key(2)\n",
    "linked_list.traverse()"
   ]
  },
  {
   "cell_type": "code",
   "execution_count": 9,
   "metadata": {},
   "outputs": [
    {
     "name": "stdout",
     "output_type": "stream",
     "text": [
      "1\n",
      "2\n",
      "3\n"
     ]
    }
   ],
   "source": [
    "linked_list = CircularSingleLinkedList()\n",
    "linked_list.insert_at_tail(1)\n",
    "linked_list.insert_at_tail(2)\n",
    "linked_list.insert_at_tail(3)\n",
    "linked_list.traverse()"
   ]
  },
  {
   "cell_type": "code",
   "execution_count": 10,
   "metadata": {},
   "outputs": [
    {
     "name": "stdout",
     "output_type": "stream",
     "text": [
      "4\n",
      "5\n",
      "6\n"
     ]
    }
   ],
   "source": [
    "linked_list2 = CircularSingleLinkedList()\n",
    "linked_list2.insert_at_tail(4)\n",
    "linked_list2.insert_at_tail(5)\n",
    "linked_list2.insert_at_tail(6)\n",
    "linked_list2.traverse()"
   ]
  },
  {
   "cell_type": "code",
   "execution_count": 11,
   "metadata": {},
   "outputs": [
    {
     "name": "stdout",
     "output_type": "stream",
     "text": [
      "1\n",
      "2\n",
      "3\n",
      "4\n",
      "5\n",
      "6\n"
     ]
    }
   ],
   "source": [
    "linked_list.concat(linked_list2.head)\n",
    "linked_list.traverse()"
   ]
  },
  {
   "cell_type": "code",
   "execution_count": 12,
   "metadata": {},
   "outputs": [
    {
     "name": "stdout",
     "output_type": "stream",
     "text": [
      "1\n",
      "6\n",
      "5\n",
      "4\n",
      "3\n",
      "2\n"
     ]
    }
   ],
   "source": [
    "linked_list.reverse()\n",
    "linked_list.traverse()"
   ]
  },
  {
   "cell_type": "code",
   "execution_count": null,
   "metadata": {
    "collapsed": true
   },
   "outputs": [],
   "source": []
  }
 ],
 "metadata": {
  "kernelspec": {
   "display_name": "py3.6",
   "language": "python",
   "name": "py3.6"
  },
  "language_info": {
   "codemirror_mode": {
    "name": "ipython",
    "version": 3
   },
   "file_extension": ".py",
   "mimetype": "text/x-python",
   "name": "python",
   "nbconvert_exporter": "python",
   "pygments_lexer": "ipython3",
   "version": "3.6.0"
  }
 },
 "nbformat": 4,
 "nbformat_minor": 2
}
