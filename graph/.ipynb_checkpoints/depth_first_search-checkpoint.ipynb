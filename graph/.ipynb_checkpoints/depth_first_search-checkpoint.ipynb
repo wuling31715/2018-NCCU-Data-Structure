{
 "cells": [
  {
   "cell_type": "code",
   "execution_count": 1,
   "metadata": {
    "collapsed": true
   },
   "outputs": [],
   "source": [
    "from collections import defaultdict "
   ]
  },
  {
   "cell_type": "code",
   "execution_count": 2,
   "metadata": {
    "collapsed": true
   },
   "outputs": [],
   "source": [
    "class Graph: \n",
    "\n",
    "    def __init__(self): \n",
    "        self.graph = defaultdict(list) \n",
    "\n",
    "    def add_edge(self, u, v): \n",
    "        self.graph[u].append(v) \n",
    "        \n",
    "    def DFS(self): \n",
    "        V = len(self.graph) # total vertices\n",
    "        visited = [False] * V # mark all vertices as not visited \n",
    "        for i in range(V): \n",
    "            if visited[i] == False: \n",
    "                self.visit(i, visited)         \n",
    "                \n",
    "    def visit(self, v, visited):           \n",
    "        visited[v] = True # mark the vertex as visited\n",
    "        print(visited)\n",
    "        print(v)  \n",
    "        for i in self.graph[v]: # recur all vertices adjacent to the vertex \n",
    "            if visited[i] == False: \n",
    "                self.visit(i, visited) "
   ]
  },
  {
   "cell_type": "code",
   "execution_count": 3,
   "metadata": {},
   "outputs": [
    {
     "name": "stdout",
     "output_type": "stream",
     "text": [
      "defaultdict(<class 'list'>, {0: [1, 2], 1: [3], 2: [4], 3: [3], 4: [4]})\n"
     ]
    }
   ],
   "source": [
    "graph = Graph() \n",
    "graph.add_edge(0, 1) \n",
    "graph.add_edge(0, 2) \n",
    "graph.add_edge(1, 3) \n",
    "graph.add_edge(2, 4) \n",
    "graph.add_edge(3, 3) \n",
    "graph.add_edge(4, 4) \n",
    "print(graph.graph)"
   ]
  },
  {
   "cell_type": "code",
   "execution_count": 4,
   "metadata": {},
   "outputs": [
    {
     "name": "stdout",
     "output_type": "stream",
     "text": [
      "[True, False, False, False, False]\n",
      "0\n",
      "[True, True, False, False, False]\n",
      "1\n",
      "[True, True, False, True, False]\n",
      "3\n",
      "[True, True, True, True, False]\n",
      "2\n",
      "[True, True, True, True, True]\n",
      "4\n"
     ]
    }
   ],
   "source": [
    "graph.DFS()"
   ]
  },
  {
   "cell_type": "code",
   "execution_count": null,
   "metadata": {
    "collapsed": true
   },
   "outputs": [],
   "source": []
  }
 ],
 "metadata": {
  "kernelspec": {
   "display_name": "py3.6",
   "language": "python",
   "name": "py3.6"
  },
  "language_info": {
   "codemirror_mode": {
    "name": "ipython",
    "version": 3
   },
   "file_extension": ".py",
   "mimetype": "text/x-python",
   "name": "python",
   "nbconvert_exporter": "python",
   "pygments_lexer": "ipython3",
   "version": "3.6.0"
  }
 },
 "nbformat": 4,
 "nbformat_minor": 2
}
