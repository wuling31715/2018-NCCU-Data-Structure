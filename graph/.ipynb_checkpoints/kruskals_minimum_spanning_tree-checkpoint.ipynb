{
 "cells": [
  {
   "cell_type": "code",
   "execution_count": 1,
   "metadata": {
    "collapsed": true
   },
   "outputs": [],
   "source": [
    "from collections import defaultdict "
   ]
  },
  {
   "cell_type": "code",
   "execution_count": 2,
   "metadata": {},
   "outputs": [],
   "source": [
    "class Graph: \n",
    "  \n",
    "    def __init__(self, vertices): \n",
    "        self.V = vertices\n",
    "        self.graph = []\n",
    "        \n",
    "    def add_edge(self, u, v, w): \n",
    "        self.graph.append([u, v, w]) \n",
    "        \n",
    "    def MST(self): \n",
    "        result = [] # store the constructed MST \n",
    "        i = 0 # An index variable, used for sorted edges \n",
    "        e = 0 # An index variable, used for result[] \n",
    "        self.graph = sorted(self.graph, key = lambda item: item[2]) # sort all the edges\n",
    "        parent = []\n",
    "        rank = [] \n",
    "        for node in range(self.V): # create V subsets with single elements \n",
    "            parent.append(node) \n",
    "            rank.append(0)      \n",
    "        while e < self.V -1 : \n",
    "            u, v, w =  self.graph[i] # pick the smallest edge\n",
    "            i = i + 1\n",
    "            x = self.search(parent, u) \n",
    "            y = self.search(parent ,v)             \n",
    "            if x != y: # if including this edge does't cause cycle, add it in result\n",
    "                e = e + 1     \n",
    "                result.append([u,v,w]) \n",
    "                self.union(parent, rank, x, y)             \n",
    "            # else discard the edge \n",
    "        self.display(result)\n",
    "        \n",
    "    def display(self, result):\n",
    "        for u, v, w in result: \n",
    "            print(u, 'to', v, '\\t', w) \n",
    "  \n",
    "    def search(self, parent, i): \n",
    "        if parent[i] == i: \n",
    "            return i \n",
    "        return self.search(parent, parent[i]) \n",
    "  \n",
    "    def union(self, parent, rank, x, y): \n",
    "        xroot = self.search(parent, x) \n",
    "        yroot = self.search(parent, y)   \n",
    "        if rank[xroot] < rank[yroot]: \n",
    "            parent[xroot] = yroot \n",
    "        elif rank[xroot] > rank[yroot]: \n",
    "            parent[yroot] = xroot \n",
    "        else : \n",
    "            parent[yroot] = xroot \n",
    "            rank[xroot] += 1"
   ]
  },
  {
   "cell_type": "code",
   "execution_count": 3,
   "metadata": {},
   "outputs": [
    {
     "data": {
      "text/plain": [
       "[[0, 1, 10], [1, 2, 20], [2, 0, 30]]"
      ]
     },
     "execution_count": 3,
     "metadata": {},
     "output_type": "execute_result"
    }
   ],
   "source": [
    "graph = Graph(3) \n",
    "graph.add_edge(0, 1, 10)\n",
    "graph.add_edge(1, 2, 20)\n",
    "graph.add_edge(2, 0, 30) \n",
    "graph.graph"
   ]
  },
  {
   "cell_type": "code",
   "execution_count": 4,
   "metadata": {},
   "outputs": [
    {
     "name": "stdout",
     "output_type": "stream",
     "text": [
      "0 to 1 \t 10\n",
      "1 to 2 \t 20\n"
     ]
    }
   ],
   "source": [
    "graph.MST() "
   ]
  },
  {
   "cell_type": "code",
   "execution_count": null,
   "metadata": {
    "collapsed": true
   },
   "outputs": [],
   "source": []
  }
 ],
 "metadata": {
  "kernelspec": {
   "display_name": "py3.6",
   "language": "python",
   "name": "py3.6"
  },
  "language_info": {
   "codemirror_mode": {
    "name": "ipython",
    "version": 3
   },
   "file_extension": ".py",
   "mimetype": "text/x-python",
   "name": "python",
   "nbconvert_exporter": "python",
   "pygments_lexer": "ipython3",
   "version": "3.6.0"
  }
 },
 "nbformat": 4,
 "nbformat_minor": 2
}
