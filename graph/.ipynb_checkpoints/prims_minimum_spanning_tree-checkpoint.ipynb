{
 "cells": [
  {
   "cell_type": "code",
   "execution_count": 1,
   "metadata": {
    "collapsed": true
   },
   "outputs": [],
   "source": [
    "import sys"
   ]
  },
  {
   "cell_type": "code",
   "execution_count": 2,
   "metadata": {
    "collapsed": true
   },
   "outputs": [],
   "source": [
    "class Graph(): \n",
    "  \n",
    "    def __init__(self, vertices): \n",
    "        self.V = vertices \n",
    "        self.graph = [[0 for column in range(vertices)] for row in range(vertices)] \n",
    "    \n",
    "    def MST(self): \n",
    "        key = [sys.maxsize] * self.V \n",
    "        parent = [None] * self.V # store the constructed MST \n",
    "        key[0] = 0 # the smallest (first) vertex \n",
    "        mst_set = [False] * self.V \n",
    "        parent[0] = -1 # the first vertext is the root\n",
    "        for i in range(self.V):             \n",
    "            u = self.min_key(key, mst_set) # pick the min distance vertex from the set of vertices not visited            \n",
    "            mst_set[u] = True # connected            \n",
    "            for v in range(self.V): # update the MST\n",
    "                if (self.graph[u][v] > 0) and (mst_set[v] == False) and (key[v] > self.graph[u][v]): \n",
    "                        key[v] = self.graph[u][v] \n",
    "                        parent[v] = u   \n",
    "        self.display(parent) \n",
    "        \n",
    "    def min_key(self, key, mst_set): \n",
    "        min = sys.maxsize \n",
    "        for v in range(self.V): \n",
    "            if (key[v] < min) and (mst_set[v] == False):\n",
    "                min = key[v] \n",
    "                min_index = v \n",
    "        return min_index \n",
    "\n",
    "    def display(self, parent): \n",
    "        for i in range(1, self.V): \n",
    "            print(parent[i], \"to\", i, \"\\t\", self.graph[i][parent[i]])"
   ]
  },
  {
   "cell_type": "code",
   "execution_count": 3,
   "metadata": {},
   "outputs": [
    {
     "data": {
      "text/plain": [
       "[[0, 10, 30], [10, 0, 20], [30, 20, 0]]"
      ]
     },
     "execution_count": 3,
     "metadata": {},
     "output_type": "execute_result"
    }
   ],
   "source": [
    "graph = Graph(3) \n",
    "graph.graph = [[0, 10, 30], [10, 0, 20], [30, 20, 0]]\n",
    "graph.graph  "
   ]
  },
  {
   "cell_type": "code",
   "execution_count": 4,
   "metadata": {},
   "outputs": [
    {
     "name": "stdout",
     "output_type": "stream",
     "text": [
      "0 to 1 \t 10\n",
      "1 to 2 \t 20\n"
     ]
    }
   ],
   "source": [
    "graph.MST()"
   ]
  },
  {
   "cell_type": "code",
   "execution_count": null,
   "metadata": {
    "collapsed": true
   },
   "outputs": [],
   "source": []
  }
 ],
 "metadata": {
  "kernelspec": {
   "display_name": "py3.6",
   "language": "python",
   "name": "py3.6"
  },
  "language_info": {
   "codemirror_mode": {
    "name": "ipython",
    "version": 3
   },
   "file_extension": ".py",
   "mimetype": "text/x-python",
   "name": "python",
   "nbconvert_exporter": "python",
   "pygments_lexer": "ipython3",
   "version": "3.6.0"
  }
 },
 "nbformat": 4,
 "nbformat_minor": 2
}
