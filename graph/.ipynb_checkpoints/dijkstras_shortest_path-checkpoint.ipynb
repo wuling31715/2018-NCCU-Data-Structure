{
 "cells": [
  {
   "cell_type": "code",
   "execution_count": 1,
   "metadata": {
    "collapsed": true
   },
   "outputs": [],
   "source": [
    "import sys "
   ]
  },
  {
   "cell_type": "code",
   "execution_count": 2,
   "metadata": {
    "collapsed": true
   },
   "outputs": [],
   "source": [
    "class Graph(): \n",
    "  \n",
    "    def __init__(self, vertices): \n",
    "        self.V = vertices \n",
    "        self.graph = [[0 for column in range(vertices)] for row in range(vertices)] \n",
    "      \n",
    "    def search(self, start): \n",
    "        distance_set = [sys.maxsize] * self.V \n",
    "        distance_set[start] = 0\n",
    "        visited_set = [False] * self.V \n",
    "        for i in range(self.V): \n",
    "            min_index = self.min_distance(distance_set, visited_set) \n",
    "            visited_set[min_index] = True # visited\n",
    "            for v in range(self.V): \n",
    "                new_distance = distance_set[min_index] + self.graph[min_index][v]\n",
    "                # update the distance if there is a shorter path\n",
    "                if (self.graph[min_index][v] > 0) and (visited_set[v] == False) and (distance_set[v] > new_distance): \n",
    "                        distance_set[v] = new_distance\n",
    "        self.display(start, distance_set) \n",
    "        \n",
    "    def min_distance(self, distance_set, visited_set): \n",
    "        min = sys.maxsize \n",
    "        for v in range(self.V): \n",
    "            if (distance_set[v] < min) and (visited_set[v] == False): \n",
    "                min = distance_set[v] \n",
    "                min_index = v \n",
    "        return min_index         \n",
    "        \n",
    "    def display(self, start, distance_set): \n",
    "        for node in range(self.V): \n",
    "            print('the shortest path from', start, 'to', node, 'is', distance_set[node])        "
   ]
  },
  {
   "cell_type": "code",
   "execution_count": 3,
   "metadata": {},
   "outputs": [
    {
     "name": "stdout",
     "output_type": "stream",
     "text": [
      "[[0, 10, 20, 0], [10, 0, 5, 40], [20, 5, 0, 30], [0, 40, 30, 0]]\n"
     ]
    }
   ],
   "source": [
    "graph = Graph(4)\n",
    "graph.graph = [[0, 10, 20, 0], \n",
    "               [10, 0, 5, 40], \n",
    "               [20, 5, 0, 30], \n",
    "               [0, 40, 30, 0]]\n",
    "print(graph.graph)"
   ]
  },
  {
   "cell_type": "code",
   "execution_count": 4,
   "metadata": {},
   "outputs": [
    {
     "name": "stdout",
     "output_type": "stream",
     "text": [
      "the shortest path from 0 to 0 is 0\n",
      "the shortest path from 0 to 1 is 10\n",
      "the shortest path from 0 to 2 is 15\n",
      "the shortest path from 0 to 3 is 45\n"
     ]
    }
   ],
   "source": [
    "graph.search(0)"
   ]
  },
  {
   "cell_type": "code",
   "execution_count": null,
   "metadata": {
    "collapsed": true
   },
   "outputs": [],
   "source": []
  }
 ],
 "metadata": {
  "kernelspec": {
   "display_name": "py3.6",
   "language": "python",
   "name": "py3.6"
  },
  "language_info": {
   "codemirror_mode": {
    "name": "ipython",
    "version": 3
   },
   "file_extension": ".py",
   "mimetype": "text/x-python",
   "name": "python",
   "nbconvert_exporter": "python",
   "pygments_lexer": "ipython3",
   "version": "3.6.0"
  }
 },
 "nbformat": 4,
 "nbformat_minor": 2
}
