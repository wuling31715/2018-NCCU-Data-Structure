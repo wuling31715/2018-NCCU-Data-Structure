{
 "cells": [
  {
   "cell_type": "code",
   "execution_count": 1,
   "metadata": {
    "collapsed": true
   },
   "outputs": [],
   "source": [
    "import sys \n",
    "  \n",
    "class Graph(): \n",
    "  \n",
    "    def __init__(self, vertices): \n",
    "        self.V = vertices \n",
    "        self.graph = [[0 for column in range(vertices)] for row in range(vertices)] \n",
    "  \n",
    "    def display(self, dist): \n",
    "        for node in range(self.V): \n",
    "            print(node, \"t\", dist[node])\n",
    "  \n",
    "    # A utility function to find the vertex with  \n",
    "    # minimum distance value, from the set of vertices  \n",
    "    # not yet included in shortest path tree \n",
    "    def minDistance(self, dist, sptSet): \n",
    "        # Initilaize minimum distance for next node \n",
    "        min = sys.maxsize \n",
    "        # Search not nearest vertex not in the  \n",
    "        # shortest path tree \n",
    "        for v in range(self.V): \n",
    "            if dist[v] < min and sptSet[v] == False: \n",
    "                min = dist[v] \n",
    "                min_index = v \n",
    "        return min_index \n",
    "  \n",
    "    # Funtion that implements Dijkstra's single source  \n",
    "    # shortest path algorithm for a graph represented  \n",
    "    # using adjacency matrix representation \n",
    "    def dijkstra(self, src): \n",
    "        dist = [sys.maxsize] * self.V \n",
    "        dist[src] = 0\n",
    "        sptSet = [False] * self.V \n",
    "        for cout in range(self.V): \n",
    "            # Pick the minimum distance vertex from  \n",
    "            # the set of vertices not yet processed.  \n",
    "            # u is always equal to src in first iteration \n",
    "            u = self.minDistance(dist, sptSet) \n",
    "            # Put the minimum distance vertex in the  \n",
    "            # shotest path tree \n",
    "            sptSet[u] = True\n",
    "            # Update dist value of the adjacent vertices  \n",
    "            # of the picked vertex only if the current  \n",
    "            # distance is greater than new distance and \n",
    "            # the vertex in not in the shotest path tree \n",
    "            for v in range(self.V): \n",
    "                if self.graph[u][v] > 0 and sptSet[v] == False and dist[v] > dist[u] + self.graph[u][v]: \n",
    "                        dist[v] = dist[u] + self.graph[u][v] \n",
    "        self.display(dist) "
   ]
  },
  {
   "cell_type": "code",
   "execution_count": 8,
   "metadata": {},
   "outputs": [
    {
     "name": "stdout",
     "output_type": "stream",
     "text": [
      "[[0, 4, 0, 0, 0, 0, 0, 8, 0], [4, 0, 8, 0, 0, 0, 0, 11, 0], [0, 8, 0, 7, 0, 4, 0, 0, 2], [0, 0, 7, 0, 9, 14, 0, 0, 0], [0, 0, 0, 9, 0, 10, 0, 0, 0], [0, 0, 4, 14, 10, 0, 2, 0, 0], [0, 0, 0, 0, 0, 2, 0, 1, 6], [8, 11, 0, 0, 0, 0, 1, 0, 7], [0, 0, 2, 0, 0, 0, 6, 7, 0]]\n"
     ]
    }
   ],
   "source": [
    "graph = Graph(9) \n",
    "graph.graph = [[0, 4, 0, 0, 0, 0, 0, 8, 0], \n",
    "           [4, 0, 8, 0, 0, 0, 0, 11, 0], \n",
    "           [0, 8, 0, 7, 0, 4, 0, 0, 2], \n",
    "           [0, 0, 7, 0, 9, 14, 0, 0, 0], \n",
    "           [0, 0, 0, 9, 0, 10, 0, 0, 0], \n",
    "           [0, 0, 4, 14, 10, 0, 2, 0, 0], \n",
    "           [0, 0, 0, 0, 0, 2, 0, 1, 6], \n",
    "           [8, 11, 0, 0, 0, 0, 1, 0, 7], \n",
    "           [0, 0, 2, 0, 0, 0, 6, 7, 0] \n",
    "          ]; \n",
    "print(graph.graph)"
   ]
  },
  {
   "cell_type": "code",
   "execution_count": 9,
   "metadata": {},
   "outputs": [
    {
     "name": "stdout",
     "output_type": "stream",
     "text": [
      "0 t 0\n",
      "1 t 4\n",
      "2 t 12\n",
      "3 t 19\n",
      "4 t 21\n",
      "5 t 11\n",
      "6 t 9\n",
      "7 t 8\n",
      "8 t 14\n"
     ]
    }
   ],
   "source": [
    "g.dijkstra(0)"
   ]
  },
  {
   "cell_type": "code",
   "execution_count": null,
   "metadata": {
    "collapsed": true
   },
   "outputs": [],
   "source": []
  }
 ],
 "metadata": {
  "kernelspec": {
   "display_name": "py3.6",
   "language": "python",
   "name": "py3.6"
  },
  "language_info": {
   "codemirror_mode": {
    "name": "ipython",
    "version": 3
   },
   "file_extension": ".py",
   "mimetype": "text/x-python",
   "name": "python",
   "nbconvert_exporter": "python",
   "pygments_lexer": "ipython3",
   "version": "3.6.0"
  }
 },
 "nbformat": 4,
 "nbformat_minor": 2
}
