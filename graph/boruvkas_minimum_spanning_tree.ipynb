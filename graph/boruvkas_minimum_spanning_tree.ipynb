{
 "cells": [
  {
   "cell_type": "code",
   "execution_count": 1,
   "metadata": {
    "collapsed": true
   },
   "outputs": [],
   "source": [
    "from collections import defaultdict"
   ]
  },
  {
   "cell_type": "code",
   "execution_count": 2,
   "metadata": {
    "collapsed": true
   },
   "outputs": [],
   "source": [
    "class Graph: \n",
    "  \n",
    "    def __init__(self, vertices): \n",
    "        self.V = vertices \n",
    "        self.graph = [] \n",
    "             \n",
    "    def add_edge(self,u,v,w): \n",
    "        self.graph.append([u,v,w]) \n",
    "  \n",
    "    def search(self, parent, i): \n",
    "        if parent[i] == i: \n",
    "            return i \n",
    "        return self.search(parent, parent[i]) \n",
    "  \n",
    "    def union(self, parent, rank, x, y): \n",
    "        xroot = self.search(parent, x) \n",
    "        yroot = self.search(parent, y) \n",
    "        if rank[xroot] < rank[yroot]: \n",
    "            parent[xroot] = yroot \n",
    "        elif rank[xroot] > rank[yroot]: \n",
    "            parent[yroot] = xroot \n",
    "        else : \n",
    "            parent[yroot] = xroot \n",
    "            rank[xroot] += 1\n",
    "  \n",
    "    def MST(self): \n",
    "        parent = []\n",
    "        rank = []\n",
    "        cheapest = [] \n",
    "        numTrees = self.V \n",
    "        MSTweight = 0  \n",
    "        for node in range(self.V): \n",
    "            parent.append(node) \n",
    "            rank.append(0) \n",
    "            cheapest =[-1] * self.V       \n",
    "        while numTrees > 1: \n",
    "            for i in range(len(self.graph)): \n",
    "                u, v, w =  self.graph[i] \n",
    "                set1 = self.search(parent, u) \n",
    "                set2 = self.search(parent, v) \n",
    "                if set1 != set2:      \n",
    "                    if cheapest[set1] == -1 or cheapest[set1][2] > w : \n",
    "                        cheapest[set1] = [u,v,w]  \n",
    "                    if cheapest[set2] == -1 or cheapest[set2][2] > w : \n",
    "                        cheapest[set2] = [u,v,w] \n",
    "            for node in range(self.V): \n",
    "                if cheapest[node] != -1: \n",
    "                    u,v,w = cheapest[node] \n",
    "                    set1 = self.search(parent, u) \n",
    "                    set2 = self.search(parent, v)   \n",
    "                    if set1 != set2 : \n",
    "                        MSTweight += w \n",
    "                        self.union(parent, rank, set1, set2) \n",
    "                        print(u, 'to', v, '\\t', w) \n",
    "                        numTrees = numTrees - 1\n",
    "            cheapest =[-1] * self.V "
   ]
  },
  {
   "cell_type": "code",
   "execution_count": 3,
   "metadata": {},
   "outputs": [
    {
     "data": {
      "text/plain": [
       "[[0, 1, 10], [1, 2, 20], [2, 0, 30]]"
      ]
     },
     "execution_count": 3,
     "metadata": {},
     "output_type": "execute_result"
    }
   ],
   "source": [
    "graph = Graph(3) \n",
    "graph.add_edge(0, 1, 10)\n",
    "graph.add_edge(1, 2, 20)\n",
    "graph.add_edge(2, 0, 30) \n",
    "graph.graph"
   ]
  },
  {
   "cell_type": "code",
   "execution_count": 4,
   "metadata": {},
   "outputs": [
    {
     "name": "stdout",
     "output_type": "stream",
     "text": [
      "0 to 1 \t 10\n",
      "1 to 2 \t 20\n"
     ]
    }
   ],
   "source": [
    "graph.MST()"
   ]
  },
  {
   "cell_type": "code",
   "execution_count": null,
   "metadata": {
    "collapsed": true
   },
   "outputs": [],
   "source": []
  }
 ],
 "metadata": {
  "kernelspec": {
   "display_name": "py3.6",
   "language": "python",
   "name": "py3.6"
  },
  "language_info": {
   "codemirror_mode": {
    "name": "ipython",
    "version": 3
   },
   "file_extension": ".py",
   "mimetype": "text/x-python",
   "name": "python",
   "nbconvert_exporter": "python",
   "pygments_lexer": "ipython3",
   "version": "3.6.0"
  }
 },
 "nbformat": 4,
 "nbformat_minor": 2
}
