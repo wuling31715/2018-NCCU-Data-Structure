{
 "cells": [
  {
   "cell_type": "code",
   "execution_count": 1,
   "metadata": {
    "collapsed": true
   },
   "outputs": [],
   "source": [
    "from collections import defaultdict"
   ]
  },
  {
   "cell_type": "code",
   "execution_count": 2,
   "metadata": {
    "collapsed": true
   },
   "outputs": [],
   "source": [
    "class Graph: \n",
    "    \n",
    "    def __init__(self, vertices): \n",
    "        self.graph = defaultdict(list)\n",
    "        self.V = vertices \n",
    "\n",
    "    def add_edge(self, u, v): \n",
    "        self.graph[u].append(v) \n",
    "    \n",
    "    def sort(self): \n",
    "        visited_set = [False] * self.V \n",
    "        stack = []  \n",
    "        for i in range(self.V): \n",
    "            if visited_set[i] == False:\n",
    "                self.visit(i, visited_set, stack) \n",
    "        \n",
    "    def visit(self, v, visited_set, stack): \n",
    "        visited_set[v] = True\n",
    "        for i in self.graph[v]: \n",
    "            if visited_set[i] == False: \n",
    "                self.visit(i, visited_set, stack) \n",
    "        stack.insert(0, v)  \n",
    "        print(stack)"
   ]
  },
  {
   "cell_type": "code",
   "execution_count": 3,
   "metadata": {},
   "outputs": [
    {
     "name": "stdout",
     "output_type": "stream",
     "text": [
      "defaultdict(<class 'list'>, {0: [1], 1: [2]})\n"
     ]
    }
   ],
   "source": [
    "graph = Graph(3) \n",
    "graph.add_edge(0, 1)\n",
    "graph.add_edge(1, 2)\n",
    "print(graph.graph)"
   ]
  },
  {
   "cell_type": "code",
   "execution_count": 4,
   "metadata": {},
   "outputs": [
    {
     "name": "stdout",
     "output_type": "stream",
     "text": [
      "[2]\n",
      "[1, 2]\n",
      "[0, 1, 2]\n"
     ]
    }
   ],
   "source": [
    "graph.sort()"
   ]
  },
  {
   "cell_type": "code",
   "execution_count": null,
   "metadata": {
    "collapsed": true
   },
   "outputs": [],
   "source": []
  }
 ],
 "metadata": {
  "kernelspec": {
   "display_name": "py3.6",
   "language": "python",
   "name": "py3.6"
  },
  "language_info": {
   "codemirror_mode": {
    "name": "ipython",
    "version": 3
   },
   "file_extension": ".py",
   "mimetype": "text/x-python",
   "name": "python",
   "nbconvert_exporter": "python",
   "pygments_lexer": "ipython3",
   "version": "3.6.0"
  }
 },
 "nbformat": 4,
 "nbformat_minor": 2
}
