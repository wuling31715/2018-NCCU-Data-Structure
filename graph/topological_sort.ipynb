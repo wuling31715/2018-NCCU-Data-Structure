{
 "cells": [
  {
   "cell_type": "code",
   "execution_count": 1,
   "metadata": {
    "collapsed": true
   },
   "outputs": [],
   "source": [
    "from collections import defaultdict"
   ]
  },
  {
   "cell_type": "code",
   "execution_count": 2,
   "metadata": {},
   "outputs": [],
   "source": [
    "class Graph: \n",
    "    \n",
    "    def __init__(self,vertices): \n",
    "        self.graph = defaultdict(list) #dictionary containing adjacency List \n",
    "        self.V = vertices #No. of vertices \n",
    "  \n",
    "    # function to add an edge to graph \n",
    "    def add_edge(self,u,v): \n",
    "        self.graph[u].append(v) \n",
    "  \n",
    "    # A recursive function used by sort \n",
    "    def util(self,v,visited,stack): \n",
    "  \n",
    "        # Mark the current node as visited. \n",
    "        visited[v] = True\n",
    "  \n",
    "        # Recur for all the vertices adjacent to this vertex \n",
    "        for i in self.graph[v]: \n",
    "            if visited[i] == False: \n",
    "                self.util(i,visited,stack) \n",
    "  \n",
    "        # Push current vertex to stack which stores result \n",
    "        stack.insert(0,v) \n",
    "  \n",
    "    # The function to do Topological Sort. It uses recursive  \n",
    "    # util() \n",
    "    def sort(self): \n",
    "        # Mark all the vertices as not visited \n",
    "        visited = [False]*self.V \n",
    "        stack =[] \n",
    "  \n",
    "        # Call the recursive helper function to store Topological \n",
    "        # Sort starting from all vertices one by one \n",
    "        for i in range(self.V): \n",
    "            if visited[i] == False: \n",
    "                self.util(i,visited,stack) \n",
    "  \n",
    "        # Print contents of the stack \n",
    "        print(stack)"
   ]
  },
  {
   "cell_type": "code",
   "execution_count": 3,
   "metadata": {},
   "outputs": [
    {
     "data": {
      "text/plain": [
       "defaultdict(list, {2: [3], 3: [1], 4: [0, 1], 5: [2, 0]})"
      ]
     },
     "execution_count": 3,
     "metadata": {},
     "output_type": "execute_result"
    }
   ],
   "source": [
    "graph = Graph(6) \n",
    "graph.add_edge(5, 2)\n",
    "graph.add_edge(5, 0) \n",
    "graph.add_edge(4, 0) \n",
    "graph.add_edge(4, 1) \n",
    "graph.add_edge(2, 3) \n",
    "graph.add_edge(3, 1)\n",
    "graph.graph"
   ]
  },
  {
   "cell_type": "code",
   "execution_count": 4,
   "metadata": {},
   "outputs": [
    {
     "name": "stdout",
     "output_type": "stream",
     "text": [
      "[5, 4, 2, 3, 1, 0]\n"
     ]
    }
   ],
   "source": [
    "graph.sort()"
   ]
  },
  {
   "cell_type": "code",
   "execution_count": null,
   "metadata": {
    "collapsed": true
   },
   "outputs": [],
   "source": []
  }
 ],
 "metadata": {
  "kernelspec": {
   "display_name": "py3.6",
   "language": "python",
   "name": "py3.6"
  },
  "language_info": {
   "codemirror_mode": {
    "name": "ipython",
    "version": 3
   },
   "file_extension": ".py",
   "mimetype": "text/x-python",
   "name": "python",
   "nbconvert_exporter": "python",
   "pygments_lexer": "ipython3",
   "version": "3.6.0"
  }
 },
 "nbformat": 4,
 "nbformat_minor": 2
}
