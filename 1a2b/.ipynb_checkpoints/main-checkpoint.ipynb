{
 "cells": [
  {
   "cell_type": "code",
   "execution_count": 5,
   "metadata": {
    "collapsed": true
   },
   "outputs": [],
   "source": [
    "import random"
   ]
  },
  {
   "cell_type": "code",
   "execution_count": 6,
   "metadata": {
    "collapsed": true
   },
   "outputs": [],
   "source": [
    "def answer_create():\n",
    "    global N\n",
    "    number = [i for i in range(10)]\n",
    "    random_number = random.sample(number, N)\n",
    "    answer = ''\n",
    "    for i in random_number:\n",
    "        answer = answer + str(i)\n",
    "    return answer    "
   ]
  },
  {
   "cell_type": "code",
   "execution_count": 7,
   "metadata": {
    "collapsed": true
   },
   "outputs": [],
   "source": [
    "def answer_check(guess_input):\n",
    "    global game_continue, round_times, N \n",
    "    if final_answer == guess_input:\n",
    "        game_continue = False\n",
    "        print('%d A 0 B\\nround times: %d' % (N, round_times))\n",
    "        return True\n",
    "    else:\n",
    "        return False"
   ]
  },
  {
   "cell_type": "code",
   "execution_count": 8,
   "metadata": {
    "collapsed": true
   },
   "outputs": [],
   "source": [
    "def get_hint(guess_input):\n",
    "    global final_answer\n",
    "    A = 0\n",
    "    B = 0\n",
    "    final_answer_tmp = ''\n",
    "    guess_input_tmp = ''\n",
    "    for i, j in zip (final_answer, guess_input):\n",
    "        if i == j:\n",
    "            A = A + 1\n",
    "        else:\n",
    "            final_answer_tmp = final_answer_tmp + i\n",
    "            guess_input_tmp = guess_input_tmp + j\n",
    "    for i in final_answer_tmp:\n",
    "        for j in guess_input_tmp:\n",
    "            if i == j:\n",
    "                B = B + 1\n",
    "    return '%d A %d B' % (A, B)            "
   ]
  },
  {
   "cell_type": "code",
   "execution_count": 12,
   "metadata": {
    "collapsed": false
   },
   "outputs": [],
   "source": [
    "def main():\n",
    "    global final_answer, game_continue, round_times\n",
    "    final_answer = answer_create()\n",
    "    #print(final_answer)\n",
    "    game_continue = True \n",
    "    round_times = 1\n",
    "    while game_continue:\n",
    "        guess_input = input('-' * 10 + '\\n')\n",
    "        if answer_check(guess_input):\n",
    "            pass\n",
    "        else:\n",
    "            hint = get_hint(guess_input)\n",
    "            print(hint)\n",
    "        round_times = round_times + 1"
   ]
  },
  {
   "cell_type": "code",
   "execution_count": 13,
   "metadata": {
    "collapsed": false
   },
   "outputs": [
    {
     "name": "stdout",
     "output_type": "stream",
     "text": [
      "N\n",
      "5\n",
      "----------\n",
      "12345\n",
      "1 A 1 B\n",
      "----------\n",
      "67890\n",
      "0 A 3 B\n",
      "----------\n",
      "78901\n",
      "0 A 3 B\n",
      "----------\n",
      "89023\n",
      "0 A 1 B\n",
      "----------\n",
      "14780\n",
      "0 A 3 B\n",
      "----------\n",
      "01975\n",
      "4 A 0 B\n",
      "----------\n",
      "01675\n",
      "5 A 0 B\n",
      "round times: 7\n"
     ]
    }
   ],
   "source": [
    "global N \n",
    "N = int(input('N\\n'))\n",
    "main()"
   ]
  }
 ],
 "metadata": {
  "kernelspec": {
   "display_name": "Python 3",
   "language": "python",
   "name": "python3"
  },
  "language_info": {
   "codemirror_mode": {
    "name": "ipython",
    "version": 3
   },
   "file_extension": ".py",
   "mimetype": "text/x-python",
   "name": "python",
   "nbconvert_exporter": "python",
   "pygments_lexer": "ipython3",
   "version": "3.6.0"
  }
 },
 "nbformat": 4,
 "nbformat_minor": 2
}
