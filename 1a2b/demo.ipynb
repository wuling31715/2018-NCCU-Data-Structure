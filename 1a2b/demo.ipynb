{
 "cells": [
  {
   "cell_type": "code",
   "execution_count": 1,
   "metadata": {
    "collapsed": true
   },
   "outputs": [],
   "source": [
    "import random"
   ]
  },
  {
   "cell_type": "code",
   "execution_count": 2,
   "metadata": {
    "collapsed": true
   },
   "outputs": [],
   "source": [
    "def answer_create():\n",
    "    global N\n",
    "    number = [i for i in range(10)]\n",
    "    random_number = random.sample(number, N)\n",
    "    answer = ''\n",
    "    for i in random_number:\n",
    "        answer = answer + str(i)\n",
    "    return answer    "
   ]
  },
  {
   "cell_type": "code",
   "execution_count": 3,
   "metadata": {
    "collapsed": true
   },
   "outputs": [],
   "source": [
    "def answer_check(guess_input):\n",
    "    global game_continue, round_times, N \n",
    "    if final_answer == guess_input:\n",
    "        game_continue = False\n",
    "        print('%d A 0 B\\nround times: %d' % (N, round_times))\n",
    "        return True\n",
    "    else:\n",
    "        return False"
   ]
  },
  {
   "cell_type": "code",
   "execution_count": 4,
   "metadata": {
    "collapsed": true
   },
   "outputs": [],
   "source": [
    "def get_hint(guess_input):\n",
    "    global final_answer\n",
    "    A = 0\n",
    "    B = 0\n",
    "    final_answer_tmp = ''\n",
    "    guess_input_tmp = ''\n",
    "    for i, j in zip (final_answer, guess_input):\n",
    "        if i == j:\n",
    "            A = A + 1\n",
    "        else:\n",
    "            final_answer_tmp = final_answer_tmp + i\n",
    "            guess_input_tmp = guess_input_tmp + j\n",
    "    for i in final_answer_tmp:\n",
    "        for j in guess_input_tmp:\n",
    "            if i == j:\n",
    "                B = B + 1\n",
    "    return '%d A %d B' % (A, B)            "
   ]
  },
  {
   "cell_type": "code",
   "execution_count": 5,
   "metadata": {
    "collapsed": true
   },
   "outputs": [],
   "source": [
    "def main():\n",
    "    global final_answer, game_continue, round_times\n",
    "    final_answer = answer_create()\n",
    "    #print(final_answer)\n",
    "    game_continue = True \n",
    "    round_times = 1\n",
    "    while game_continue:\n",
    "        guess_input = input('-' * 10 + '\\n')\n",
    "        if answer_check(guess_input):\n",
    "            pass\n",
    "        else:\n",
    "            hint = get_hint(guess_input)\n",
    "            print(hint)\n",
    "        round_times = round_times + 1"
   ]
  },
  {
   "cell_type": "code",
   "execution_count": null,
   "metadata": {
    "collapsed": false
   },
   "outputs": [
    {
     "name": "stdout",
     "output_type": "stream",
     "text": [
      "N\n",
      "10\n",
      "----------\n",
      "0123456789\n",
      "1 A 9 B\n",
      "----------\n",
      "9123456780\n",
      "0 A 10 B\n",
      "----------\n",
      "0923456781\n",
      "0 A 10 B\n",
      "----------\n",
      "1234567890\n",
      "0 A 10 B\n",
      "----------\n",
      "2345678901\n",
      "1 A 9 B\n",
      "----------\n",
      "2345678910\n",
      "1 A 9 B\n",
      "----------\n",
      "8012345679\n",
      "1 A 9 B\n",
      "----------\n",
      "1357924680\n",
      "0 A 10 B\n",
      "----------\n",
      "1235846790\n",
      "0 A 10 B\n",
      "----------\n",
      "2013754689\n",
      "1 A 9 B\n",
      "----------\n",
      "0213754689\n",
      "1 A 9 B\n",
      "----------\n",
      "0213754698\n",
      "0 A 10 B\n",
      "----------\n",
      "0234567819\n",
      "1 A 9 B\n",
      "----------\n",
      "0134567829\n",
      "2 A 8 B\n",
      "----------\n",
      "0134568729\n",
      "2 A 8 B\n",
      "----------\n",
      "713456029\n",
      "0 A 8 B\n",
      "----------\n",
      "7134568029\n",
      "2 A 8 B\n",
      "----------\n",
      "718456129\n",
      "0 A 8 B\n",
      "----------\n",
      "7183456029\n",
      "2 A 8 B\n",
      "----------\n",
      "4183756029\n",
      "3 A 7 B\n",
      "----------\n",
      "1483756029\n",
      "2 A 8 B\n",
      "----------\n",
      "4180756329\n",
      "3 A 7 B\n",
      "----------\n",
      "4183706529\n",
      "4 A 6 B\n",
      "----------\n",
      "4183760529\n",
      "4 A 6 B\n",
      "----------\n",
      "4683701529\n",
      "5 A 5 B\n",
      "----------\n",
      "680731529\n",
      "1 A 7 B\n",
      "----------\n",
      "4683701529\n",
      "5 A 5 B\n",
      "----------\n",
      "4680731529\n",
      "5 A 5 B\n",
      "----------\n",
      "4683071529\n",
      "6 A 4 B\n",
      "----------\n",
      "4680371529\n",
      "6 A 4 B\n",
      "----------\n",
      "4863071529\n",
      "5 A 5 B\n",
      "----------\n",
      "4680371529\n",
      "6 A 4 B\n",
      "----------\n",
      "4608371529\n",
      "8 A 2 B\n",
      "----------\n",
      "4680371529\n",
      "6 A 4 B\n",
      "----------\n",
      "4308671529\n",
      "7 A 3 B\n",
      "----------\n",
      "4608371529\n",
      "8 A 2 B\n",
      "----------\n",
      "4603871529\n",
      "7 A 3 B\n",
      "----------\n",
      "4806371529\n",
      "6 A 4 B\n",
      "----------\n",
      "4638071529\n",
      "7 A 3 B\n",
      "----------\n",
      "4608371529\n",
      "8 A 2 B\n",
      "----------\n",
      "0648371529\n",
      "6 A 4 B\n",
      "----------\n",
      "0000071529\n",
      "5 A 1 B\n",
      "----------\n",
      "0444471529\n",
      "4 A 6 B\n",
      "----------\n",
      "0444441529\n",
      "3 A 7 B\n",
      "----------\n",
      "0444474529\n",
      "4 A 6 B\n",
      "----------\n",
      "5608371429\n",
      "6 A 4 B\n"
     ]
    }
   ],
   "source": [
    "global N \n",
    "N = int(input('N\\n'))\n",
    "main()"
   ]
  },
  {
   "cell_type": "code",
   "execution_count": null,
   "metadata": {
    "collapsed": true
   },
   "outputs": [],
   "source": []
  }
 ],
 "metadata": {
  "kernelspec": {
   "display_name": "Python 3",
   "language": "python",
   "name": "python3"
  },
  "language_info": {
   "codemirror_mode": {
    "name": "ipython",
    "version": 3
   },
   "file_extension": ".py",
   "mimetype": "text/x-python",
   "name": "python",
   "nbconvert_exporter": "python",
   "pygments_lexer": "ipython3",
   "version": "3.6.0"
  }
 },
 "nbformat": 4,
 "nbformat_minor": 2
}
