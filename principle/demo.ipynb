{
 "cells": [
  {
   "cell_type": "markdown",
   "metadata": {},
   "source": [
    "# Case"
   ]
  },
  {
   "cell_type": "markdown",
   "metadata": {},
   "source": [
    "* Worst-Case Complexity: $ T_{wc}(n) = \\max(t(s_i)), \\forall s_i \\in S_n $"
   ]
  },
  {
   "cell_type": "markdown",
   "metadata": {},
   "source": [
    "* Average-Case Complexity: $ T_{ac}(n) = \\sum_{s_i \\in S_n} t(s_i) P_r \\{ s_i \\}, \\sum_{s_i \\in S_n} P_r \\{ s_i \\} = 1 $"
   ]
  },
  {
   "cell_type": "markdown",
   "metadata": {},
   "source": [
    "* Best-Case Complexity: $ T_{bc}(n) = \\min(t(s_i)), \\forall s_i \\in S_n $"
   ]
  },
  {
   "cell_type": "markdown",
   "metadata": {},
   "source": [
    "# Lower and Upper Bounds"
   ]
  },
  {
   "cell_type": "markdown",
   "metadata": {},
   "source": [
    "* Lower Bound: $ \\Omega(f(n)) \\Rightarrow \\exists c > 0, \\forall n > n_0, t(n) \\ge c*n $"
   ]
  },
  {
   "cell_type": "markdown",
   "metadata": {},
   "source": [
    "* Upper Bound: $ O(f(n)) \\Rightarrow \\exists c > 0, \\forall n > n_0, t(n) \\le c*n $"
   ]
  },
  {
   "cell_type": "markdown",
   "metadata": {},
   "source": [
    "* Tight Bound: $ \\Theta(f(n)) \\Rightarrow Lower Bound = \\Omega(f(n)) \\cap Upper Bound = O(f(n)) $"
   ]
  },
  {
   "cell_type": "markdown",
   "metadata": {},
   "source": [
    "# Complexity"
   ]
  },
  {
   "cell_type": "markdown",
   "metadata": {},
   "source": [
    "* Constant: $ O(1) $"
   ]
  },
  {
   "cell_type": "markdown",
   "metadata": {},
   "source": [
    "* Logarithm: $ O(logn) $"
   ]
  },
  {
   "cell_type": "markdown",
   "metadata": {},
   "source": [
    "* Sublinear: $ O(n^d), d < 1 $ "
   ]
  },
  {
   "cell_type": "markdown",
   "metadata": {},
   "source": [
    "* Linear: $ O(n) $"
   ]
  },
  {
   "cell_type": "markdown",
   "metadata": {},
   "source": [
    "* Linearithmic: $ O(nlogn) $ "
   ]
  },
  {
   "cell_type": "markdown",
   "metadata": {},
   "source": [
    "* Quadratic: $ O(n^2) $ "
   ]
  },
  {
   "cell_type": "markdown",
   "metadata": {},
   "source": [
    "* Power: $O(2^n)$ "
   ]
  }
 ],
 "metadata": {
  "kernelspec": {
   "display_name": "Python 3",
   "language": "python",
   "name": "python3"
  },
  "language_info": {
   "codemirror_mode": {
    "name": "ipython",
    "version": 3
   },
   "file_extension": ".py",
   "mimetype": "text/x-python",
   "name": "python",
   "nbconvert_exporter": "python",
   "pygments_lexer": "ipython3",
   "version": "3.5.4"
  }
 },
 "nbformat": 4,
 "nbformat_minor": 2
}
