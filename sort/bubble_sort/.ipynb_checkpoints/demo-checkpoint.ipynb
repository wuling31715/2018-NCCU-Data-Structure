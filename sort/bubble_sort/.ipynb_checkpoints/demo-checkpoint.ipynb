{
 "cells": [
  {
   "cell_type": "code",
   "execution_count": 2,
   "metadata": {
    "collapsed": true
   },
   "outputs": [],
   "source": [
    "from timer import Timer as t"
   ]
  },
  {
   "cell_type": "code",
   "execution_count": 10,
   "metadata": {
    "collapsed": false
   },
   "outputs": [],
   "source": [
    "number_list = [i for i in reversed(range(10))]"
   ]
  },
  {
   "cell_type": "code",
   "execution_count": 11,
   "metadata": {
    "collapsed": true
   },
   "outputs": [],
   "source": [
    "def bubble_sort():\n",
    "    global number_list \n",
    "    print(number_list)\n",
    "    step = 0\n",
    "    for j in range(len(number_list)):\n",
    "        for i in range(len(number_list) - 1 - j):\n",
    "            if number_list[i] > number_list[i + 1]:\n",
    "                number_list[i], number_list[i + 1] = number_list[i + 1], number_list[i]\n",
    "                step += 1\n",
    "                print(number_list)\n",
    "    print(number_list)\n",
    "    print('step: %d' % step)"
   ]
  },
  {
   "cell_type": "code",
   "execution_count": 12,
   "metadata": {
    "collapsed": true
   },
   "outputs": [],
   "source": [
    "def main():\n",
    "    bubble_sort()"
   ]
  },
  {
   "cell_type": "code",
   "execution_count": 13,
   "metadata": {
    "collapsed": false
   },
   "outputs": [
    {
     "name": "stdout",
     "output_type": "stream",
     "text": [
      "[9, 8, 7, 6, 5, 4, 3, 2, 1, 0]\n",
      "[8, 9, 7, 6, 5, 4, 3, 2, 1, 0]\n",
      "[8, 7, 9, 6, 5, 4, 3, 2, 1, 0]\n",
      "[8, 7, 6, 9, 5, 4, 3, 2, 1, 0]\n",
      "[8, 7, 6, 5, 9, 4, 3, 2, 1, 0]\n",
      "[8, 7, 6, 5, 4, 9, 3, 2, 1, 0]\n",
      "[8, 7, 6, 5, 4, 3, 9, 2, 1, 0]\n",
      "[8, 7, 6, 5, 4, 3, 2, 9, 1, 0]\n",
      "[8, 7, 6, 5, 4, 3, 2, 1, 9, 0]\n",
      "[8, 7, 6, 5, 4, 3, 2, 1, 0, 9]\n",
      "[7, 8, 6, 5, 4, 3, 2, 1, 0, 9]\n",
      "[7, 6, 8, 5, 4, 3, 2, 1, 0, 9]\n",
      "[7, 6, 5, 8, 4, 3, 2, 1, 0, 9]\n",
      "[7, 6, 5, 4, 8, 3, 2, 1, 0, 9]\n",
      "[7, 6, 5, 4, 3, 8, 2, 1, 0, 9]\n",
      "[7, 6, 5, 4, 3, 2, 8, 1, 0, 9]\n",
      "[7, 6, 5, 4, 3, 2, 1, 8, 0, 9]\n",
      "[7, 6, 5, 4, 3, 2, 1, 0, 8, 9]\n",
      "[6, 7, 5, 4, 3, 2, 1, 0, 8, 9]\n",
      "[6, 5, 7, 4, 3, 2, 1, 0, 8, 9]\n",
      "[6, 5, 4, 7, 3, 2, 1, 0, 8, 9]\n",
      "[6, 5, 4, 3, 7, 2, 1, 0, 8, 9]\n",
      "[6, 5, 4, 3, 2, 7, 1, 0, 8, 9]\n",
      "[6, 5, 4, 3, 2, 1, 7, 0, 8, 9]\n",
      "[6, 5, 4, 3, 2, 1, 0, 7, 8, 9]\n",
      "[5, 6, 4, 3, 2, 1, 0, 7, 8, 9]\n",
      "[5, 4, 6, 3, 2, 1, 0, 7, 8, 9]\n",
      "[5, 4, 3, 6, 2, 1, 0, 7, 8, 9]\n",
      "[5, 4, 3, 2, 6, 1, 0, 7, 8, 9]\n",
      "[5, 4, 3, 2, 1, 6, 0, 7, 8, 9]\n",
      "[5, 4, 3, 2, 1, 0, 6, 7, 8, 9]\n",
      "[4, 5, 3, 2, 1, 0, 6, 7, 8, 9]\n",
      "[4, 3, 5, 2, 1, 0, 6, 7, 8, 9]\n",
      "[4, 3, 2, 5, 1, 0, 6, 7, 8, 9]\n",
      "[4, 3, 2, 1, 5, 0, 6, 7, 8, 9]\n",
      "[4, 3, 2, 1, 0, 5, 6, 7, 8, 9]\n",
      "[3, 4, 2, 1, 0, 5, 6, 7, 8, 9]\n",
      "[3, 2, 4, 1, 0, 5, 6, 7, 8, 9]\n",
      "[3, 2, 1, 4, 0, 5, 6, 7, 8, 9]\n",
      "[3, 2, 1, 0, 4, 5, 6, 7, 8, 9]\n",
      "[2, 3, 1, 0, 4, 5, 6, 7, 8, 9]\n",
      "[2, 1, 3, 0, 4, 5, 6, 7, 8, 9]\n",
      "[2, 1, 0, 3, 4, 5, 6, 7, 8, 9]\n",
      "[1, 2, 0, 3, 4, 5, 6, 7, 8, 9]\n",
      "[1, 0, 2, 3, 4, 5, 6, 7, 8, 9]\n",
      "[0, 1, 2, 3, 4, 5, 6, 7, 8, 9]\n",
      "[0, 1, 2, 3, 4, 5, 6, 7, 8, 9]\n",
      "step: 45\n",
      "main(): 0:00:00.010329\n"
     ]
    }
   ],
   "source": [
    "t.count_function(main)"
   ]
  },
  {
   "cell_type": "code",
   "execution_count": null,
   "metadata": {
    "collapsed": true
   },
   "outputs": [],
   "source": []
  }
 ],
 "metadata": {
  "kernelspec": {
   "display_name": "Python 3",
   "language": "python",
   "name": "python3"
  },
  "language_info": {
   "codemirror_mode": {
    "name": "ipython",
    "version": 3
   },
   "file_extension": ".py",
   "mimetype": "text/x-python",
   "name": "python",
   "nbconvert_exporter": "python",
   "pygments_lexer": "ipython3",
   "version": "3.6.0"
  }
 },
 "nbformat": 4,
 "nbformat_minor": 2
}
