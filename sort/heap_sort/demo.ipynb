{
 "cells": [
  {
   "cell_type": "markdown",
   "metadata": {},
   "source": [
    "# Heap Sort"
   ]
  },
  {
   "cell_type": "markdown",
   "metadata": {},
   "source": [
    "* push: insert\n",
    "* peek: get max\n",
    "* pop: remove max"
   ]
  },
  {
   "cell_type": "markdown",
   "metadata": {},
   "source": [
    "* 父節點的值大於子節點\n",
    "* 樹根(root)一定是所有節點的最大值\n"
   ]
  },
  {
   "cell_type": "code",
   "execution_count": 69,
   "metadata": {
    "collapsed": false
   },
   "outputs": [],
   "source": [
    "def heap_sort(list):\n",
    "    def shift_down(start, end):\n",
    "        root = start\n",
    "        while True:\n",
    "            child = 2 * root + 1\n",
    "            if child > end:\n",
    "                break\n",
    "            if child + 1 <= end and list[child] < list[child + 1]:\n",
    "                child += 1\n",
    "            if list[root] < list[child]:\n",
    "                list[root], list[child] = list[child], list[root]\n",
    "                root = child\n",
    "            else:\n",
    "                break\n",
    "\n",
    "    for start in range((len(list) - 2) // 2, -1, -1):\n",
    "        shift_down(start, len(list) - 1)\n",
    "\n",
    "    for end in range(len(list) - 1, 0, -1):\n",
    "        list[0], list[end] = list[end], list[0]\n",
    "        shift_down(0, end - 1)\n",
    "        print(list)\n",
    "    return list\n",
    "            "
   ]
  },
  {
   "cell_type": "code",
   "execution_count": 72,
   "metadata": {
    "collapsed": false
   },
   "outputs": [
    {
     "name": "stdout",
     "output_type": "stream",
     "text": [
      "0 [9, 8, 7, 6, 5, 4, 3, 2, 1, 0]\n",
      "[8, 6, 7, 2, 5, 4, 3, 0, 1, 9]\n",
      "[7, 6, 4, 2, 5, 1, 3, 0, 8, 9]\n",
      "[6, 5, 4, 2, 0, 1, 3, 7, 8, 9]\n",
      "[5, 3, 4, 2, 0, 1, 6, 7, 8, 9]\n",
      "[4, 3, 1, 2, 0, 5, 6, 7, 8, 9]\n",
      "[3, 2, 1, 0, 4, 5, 6, 7, 8, 9]\n",
      "[2, 0, 1, 3, 4, 5, 6, 7, 8, 9]\n",
      "[1, 0, 2, 3, 4, 5, 6, 7, 8, 9]\n",
      "[0, 1, 2, 3, 4, 5, 6, 7, 8, 9]\n"
     ]
    },
    {
     "data": {
      "text/plain": [
       "[0, 1, 2, 3, 4, 5, 6, 7, 8, 9]"
      ]
     },
     "execution_count": 72,
     "metadata": {},
     "output_type": "execute_result"
    }
   ],
   "source": [
    "order_list = [x for x in range(10)]\n",
    "order_list.reverse()\n",
    "print(0, order_list)\n",
    "heap_sort(order_list)"
   ]
  },
  {
   "cell_type": "code",
   "execution_count": 71,
   "metadata": {
    "collapsed": false
   },
   "outputs": [
    {
     "name": "stdout",
     "output_type": "stream",
     "text": [
      "0 0 [3, 0, 8, 4, 5, 1, 9, 6, 2, 7]\n",
      "[8, 7, 3, 6, 5, 1, 0, 4, 2, 9]\n",
      "[7, 6, 3, 4, 5, 1, 0, 2, 8, 9]\n",
      "[6, 5, 3, 4, 2, 1, 0, 7, 8, 9]\n",
      "[5, 4, 3, 0, 2, 1, 6, 7, 8, 9]\n",
      "[4, 2, 3, 0, 1, 5, 6, 7, 8, 9]\n",
      "[3, 2, 1, 0, 4, 5, 6, 7, 8, 9]\n",
      "[2, 0, 1, 3, 4, 5, 6, 7, 8, 9]\n",
      "[1, 0, 2, 3, 4, 5, 6, 7, 8, 9]\n",
      "[0, 1, 2, 3, 4, 5, 6, 7, 8, 9]\n"
     ]
    },
    {
     "data": {
      "text/plain": [
       "[0, 1, 2, 3, 4, 5, 6, 7, 8, 9]"
      ]
     },
     "execution_count": 71,
     "metadata": {},
     "output_type": "execute_result"
    }
   ],
   "source": [
    "import random\n",
    "random_list =  random.sample(range(10), k=10)\n",
    "print(0, 0, random_list)\n",
    "heap_sort(random_list)"
   ]
  },
  {
   "cell_type": "code",
   "execution_count": 66,
   "metadata": {
    "collapsed": false
   },
   "outputs": [
    {
     "name": "stdout",
     "output_type": "stream",
     "text": [
      "5.65 ms ± 229 µs per loop (mean ± std. dev. of 7 runs, 100 loops each)\n"
     ]
    }
   ],
   "source": [
    "%%timeit\n",
    "big_list = [x for x in range(2 ** 10)]\n",
    "big_list.reverse()\n",
    "heap_sort(big_list)"
   ]
  },
  {
   "cell_type": "code",
   "execution_count": null,
   "metadata": {
    "collapsed": true
   },
   "outputs": [],
   "source": []
  }
 ],
 "metadata": {
  "kernelspec": {
   "display_name": "Python 3",
   "language": "python",
   "name": "python3"
  },
  "language_info": {
   "codemirror_mode": {
    "name": "ipython",
    "version": 3
   },
   "file_extension": ".py",
   "mimetype": "text/x-python",
   "name": "python",
   "nbconvert_exporter": "python",
   "pygments_lexer": "ipython3",
   "version": "3.5.4"
  }
 },
 "nbformat": 4,
 "nbformat_minor": 2
}
