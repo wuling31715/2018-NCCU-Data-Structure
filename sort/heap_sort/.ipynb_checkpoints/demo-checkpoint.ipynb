{
 "cells": [
  {
   "cell_type": "markdown",
   "metadata": {},
   "source": [
    "# Heap Sort"
   ]
  },
  {
   "cell_type": "markdown",
   "metadata": {},
   "source": [
    "* $ Complexity: O(NlogN) $\n",
    "* $ N:elements $"
   ]
  },
  {
   "cell_type": "code",
   "execution_count": 1,
   "metadata": {},
   "outputs": [],
   "source": [
    "def heap_sort(list):                \n",
    "    def sort():                \n",
    "        for i in range((len(list) - 2) // 2, -1, -1): # 從最後一個父節點開始堆積（逆向到第一個）\n",
    "            heapify(i, len(list) - 1)\n",
    "        for j in range(len(list) - 1, 0, -1): # 先將第一個元素和已排好元素的前一個做交換，再重新堆積\n",
    "            list[0], list[j] = list[j], list[0]\n",
    "            heapify(0, j - 1) \n",
    "            \n",
    "    def heapify(start, end): # 堆積\n",
    "        root = start # 父節點指標\n",
    "        child = 2 * root + 1 # （左）子節點指標\n",
    "        while child <= end: # 若子節點指標在範圍內才做比較\n",
    "            if child + 1 <= end and list[child] < list[child + 1]: # 先比較子節點\n",
    "                child += 1 # （右）子節點比較大\n",
    "            if list[root] < list[child]: # 再比較父、子節點\n",
    "                list[root], list[child] = list[child], list[root] # 子節點比較大\n",
    "                root = child # 繼續堆積下一層\n",
    "                child = 2 * root + 1\n",
    "            else:\n",
    "                break\n",
    "                \n",
    "    sort()\n",
    "    return list"
   ]
  },
  {
   "cell_type": "code",
   "execution_count": 2,
   "metadata": {},
   "outputs": [
    {
     "name": "stdout",
     "output_type": "stream",
     "text": [
      "[9, 8, 7, 6, 5, 4, 3, 2, 1, 0]\n",
      "[0, 1, 2, 3, 4, 5, 6, 7, 8, 9]\n"
     ]
    }
   ],
   "source": [
    "order_list = [x for x in range(10)]\n",
    "order_list.reverse()\n",
    "print(order_list)\n",
    "print(heap_sort(order_list))"
   ]
  },
  {
   "cell_type": "code",
   "execution_count": 3,
   "metadata": {},
   "outputs": [
    {
     "name": "stdout",
     "output_type": "stream",
     "text": [
      "[7, 0, 2, 3, 9, 5, 8, 1, 6, 4]\n",
      "[0, 1, 2, 3, 4, 5, 6, 7, 8, 9]\n"
     ]
    }
   ],
   "source": [
    "import random\n",
    "random_list =  random.sample(range(10), k=10)\n",
    "print(random_list)\n",
    "print(heap_sort(random_list))"
   ]
  },
  {
   "cell_type": "code",
   "execution_count": 4,
   "metadata": {},
   "outputs": [
    {
     "name": "stdout",
     "output_type": "stream",
     "text": [
      "5.21 ms ± 77 µs per loop (mean ± std. dev. of 7 runs, 100 loops each)\n"
     ]
    }
   ],
   "source": [
    "%%timeit\n",
    "big_list = [x for x in range(2 ** 10)]\n",
    "big_list.reverse()\n",
    "heap_sort(big_list)"
   ]
  },
  {
   "cell_type": "code",
   "execution_count": null,
   "metadata": {
    "collapsed": true
   },
   "outputs": [],
   "source": []
  }
 ],
 "metadata": {
  "kernelspec": {
   "display_name": "Python 3",
   "language": "python",
   "name": "python3"
  },
  "language_info": {
   "codemirror_mode": {
    "name": "ipython",
    "version": 3
   },
   "file_extension": ".py",
   "mimetype": "text/x-python",
   "name": "python",
   "nbconvert_exporter": "python",
   "pygments_lexer": "ipython3",
   "version": "3.5.4"
  }
 },
 "nbformat": 4,
 "nbformat_minor": 2
}
