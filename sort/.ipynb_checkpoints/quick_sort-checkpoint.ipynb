{
 "cells": [
  {
   "cell_type": "code",
   "execution_count": 1,
   "metadata": {},
   "outputs": [],
   "source": [
    "def quick_sort(array):\n",
    "    def partition(array, start, end):\n",
    "        if start >= end:\n",
    "            return\n",
    "        pivot = array[end] # 選擇最後一個元素為 pivot\n",
    "        left = start\n",
    "        right = end - 1\n",
    "        while left < right:\n",
    "            while left < right and array[left] < pivot: # 由左向右收集小於 pivot 的元素\n",
    "                left += 1 \n",
    "            while left < right and array[right] >= pivot: # 由右向左收集大於等於 pivot 的元素\n",
    "                right -= 1 \n",
    "            array[left], array[right] = array[right], array[left] # 左側小於 pivot，右側大於 pivot\n",
    "        if array[left] >= array[end]: # 確保 pivot 的值不小於左側（進行下一次遞迴）\n",
    "            array[left], array[end] = array[end], array[left] \n",
    "        else:\n",
    "            left += 1 # 進行下一次遞迴\n",
    "        partition(array, start, left - 1) # 左側重新分割\n",
    "        partition(array, left + 1, end) # 右側重新分割\n",
    "        return array\n",
    "    partition(array, 0, len(array) - 1)\n",
    "    return array"
   ]
  },
  {
   "cell_type": "code",
   "execution_count": 2,
   "metadata": {},
   "outputs": [
    {
     "name": "stdout",
     "output_type": "stream",
     "text": [
      "[9, 8, 7, 6, 5, 4, 3, 2, 1, 0]\n"
     ]
    }
   ],
   "source": [
    "array = [i for i in range(10)]\n",
    "array.reverse()\n",
    "print(array)"
   ]
  },
  {
   "cell_type": "code",
   "execution_count": 3,
   "metadata": {},
   "outputs": [
    {
     "name": "stdout",
     "output_type": "stream",
     "text": [
      "[0, 1, 2, 3, 4, 5, 6, 7, 8, 9]\n"
     ]
    }
   ],
   "source": [
    "print(quick_sort(array))"
   ]
  },
  {
   "cell_type": "code",
   "execution_count": 4,
   "metadata": {},
   "outputs": [],
   "source": [
    "# Python Version\n",
    "# def quick_sort(array):\n",
    "#     if len(array) <= 1:\n",
    "#         return array\n",
    "#     pivot = array[0]\n",
    "#     left_array = [x for x in array if x < pivot]\n",
    "#     right_array = [x for x in array[1:] if x >= pivot]\n",
    "#     return quick_sort(left_array) + [pivot] + quick_sort(right_array)"
   ]
  }
 ],
 "metadata": {
  "kernelspec": {
   "display_name": "Python 3",
   "language": "python",
   "name": "python3"
  },
  "language_info": {
   "codemirror_mode": {
    "name": "ipython",
    "version": 3
   },
   "file_extension": ".py",
   "mimetype": "text/x-python",
   "name": "python",
   "nbconvert_exporter": "python",
   "pygments_lexer": "ipython3",
   "version": "3.5.4"
  }
 },
 "nbformat": 4,
 "nbformat_minor": 2
}
