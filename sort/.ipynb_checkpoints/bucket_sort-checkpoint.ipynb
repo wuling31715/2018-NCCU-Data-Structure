{
 "cells": [
  {
   "cell_type": "code",
   "execution_count": 6,
   "metadata": {},
   "outputs": [],
   "source": [
    "def bucket_sort(array):\n",
    "    \n",
    "    def insertion_sort(array):\n",
    "        for i in range(1, len(array)):\n",
    "            insertion_value = array[i]\n",
    "            j = i - 1\n",
    "            while j >= 0 and array[j] > insertion_value: \n",
    "                array[j + 1] = array[j] \n",
    "                j -= 1 \n",
    "            array[j + 1] = insertion_value \n",
    "        print(array)\n",
    "        return array\n",
    "    \n",
    "    bucket_array = [[] for x in range(10)]\n",
    "    new_array = []\n",
    "    interval = (max(array) - min(array)) // 10 + 1\n",
    "    for i in array:\n",
    "        j = 0\n",
    "        for j in range(len(bucket_array)):\n",
    "            if (i >= (j * interval)) and (i < ((j + 1) * interval)):\n",
    "                bucket_array[j].append(i)\n",
    "                break\n",
    "    for bucket in bucket_array:\n",
    "        insertion_sort(bucket)\n",
    "        for i in bucket:\n",
    "            new_array.append(i)\n",
    "    return new_array"
   ]
  },
  {
   "cell_type": "code",
   "execution_count": 7,
   "metadata": {},
   "outputs": [
    {
     "name": "stdout",
     "output_type": "stream",
     "text": [
      "[9, 8, 7, 6, 5, 4, 3, 2, 1, 0]\n"
     ]
    }
   ],
   "source": [
    "array = [i for i in range(10)]\n",
    "array.reverse()\n",
    "print(array)"
   ]
  },
  {
   "cell_type": "code",
   "execution_count": 8,
   "metadata": {},
   "outputs": [
    {
     "name": "stdout",
     "output_type": "stream",
     "text": [
      "[0]\n",
      "[1]\n",
      "[2]\n",
      "[3]\n",
      "[4]\n",
      "[5]\n",
      "[6]\n",
      "[7]\n",
      "[8]\n",
      "[9]\n",
      "[0, 1, 2, 3, 4, 5, 6, 7, 8, 9]\n"
     ]
    }
   ],
   "source": [
    "print(bucket_sort(array))"
   ]
  },
  {
   "cell_type": "code",
   "execution_count": null,
   "metadata": {},
   "outputs": [],
   "source": []
  }
 ],
 "metadata": {
  "kernelspec": {
   "display_name": "Python 3",
   "language": "python",
   "name": "python3"
  },
  "language_info": {
   "codemirror_mode": {
    "name": "ipython",
    "version": 3
   },
   "file_extension": ".py",
   "mimetype": "text/x-python",
   "name": "python",
   "nbconvert_exporter": "python",
   "pygments_lexer": "ipython3",
   "version": "3.5.4"
  }
 },
 "nbformat": 4,
 "nbformat_minor": 2
}
