{
 "cells": [
  {
   "cell_type": "code",
   "execution_count": 6,
   "metadata": {},
   "outputs": [],
   "source": [
    "def heap_sort(array):                \n",
    "    \n",
    "    def sort():                \n",
    "        for i in range((len(array) - 2) // 2, -1, -1): # 從最後一個父節點開始堆積（逆向到第一個）\n",
    "            heapify(i, len(array) - 1)\n",
    "            print(array)\n",
    "        for j in range(len(array) - 1, 0, -1): # 先將第一個元素和已排好元素的前一個做交換，再重新堆積\n",
    "            array[0], array[j] = array[j], array[0]\n",
    "            heapify(0, j - 1) \n",
    "            print(array)\n",
    "            \n",
    "    def heapify(start, end): # 堆積\n",
    "        root = start # 父節點指標\n",
    "        child = 2 * root + 1 # （左）子節點指標\n",
    "        while child <= end: # 若子節點指標在範圍內才做比較\n",
    "            if child + 1 <= end and array[child] < array[child + 1]: # 先比較子節點\n",
    "                child += 1 # （右）子節點比較大\n",
    "            if array[root] < array[child]: # 再比較父、子節點\n",
    "                array[root], array[child] = array[child], array[root] # 子節點比較大\n",
    "                root = child # 繼續堆積下一層\n",
    "                child = 2 * root + 1\n",
    "            else:\n",
    "                break\n",
    "                \n",
    "    sort()\n",
    "    return array"
   ]
  },
  {
   "cell_type": "code",
   "execution_count": 7,
   "metadata": {},
   "outputs": [
    {
     "name": "stdout",
     "output_type": "stream",
     "text": [
      "[9, 8, 7, 6, 5, 4, 3, 2, 1, 0]\n"
     ]
    }
   ],
   "source": [
    "array = [i for i in range(10)]\n",
    "array.reverse()\n",
    "print(array)"
   ]
  },
  {
   "cell_type": "code",
   "execution_count": 8,
   "metadata": {},
   "outputs": [
    {
     "name": "stdout",
     "output_type": "stream",
     "text": [
      "[9, 8, 7, 6, 5, 4, 3, 2, 1, 0]\n",
      "[9, 8, 7, 6, 5, 4, 3, 2, 1, 0]\n",
      "[9, 8, 7, 6, 5, 4, 3, 2, 1, 0]\n",
      "[9, 8, 7, 6, 5, 4, 3, 2, 1, 0]\n",
      "[9, 8, 7, 6, 5, 4, 3, 2, 1, 0]\n",
      "[8, 6, 7, 2, 5, 4, 3, 0, 1, 9]\n",
      "[7, 6, 4, 2, 5, 1, 3, 0, 8, 9]\n",
      "[6, 5, 4, 2, 0, 1, 3, 7, 8, 9]\n",
      "[5, 3, 4, 2, 0, 1, 6, 7, 8, 9]\n",
      "[4, 3, 1, 2, 0, 5, 6, 7, 8, 9]\n",
      "[3, 2, 1, 0, 4, 5, 6, 7, 8, 9]\n",
      "[2, 0, 1, 3, 4, 5, 6, 7, 8, 9]\n",
      "[1, 0, 2, 3, 4, 5, 6, 7, 8, 9]\n",
      "[0, 1, 2, 3, 4, 5, 6, 7, 8, 9]\n",
      "[0, 1, 2, 3, 4, 5, 6, 7, 8, 9]\n"
     ]
    }
   ],
   "source": [
    "print(heap_sort(array))"
   ]
  },
  {
   "cell_type": "code",
   "execution_count": null,
   "metadata": {
    "collapsed": true
   },
   "outputs": [],
   "source": []
  }
 ],
 "metadata": {
  "kernelspec": {
   "display_name": "Python 3",
   "language": "python",
   "name": "python3"
  },
  "language_info": {
   "codemirror_mode": {
    "name": "ipython",
    "version": 3
   },
   "file_extension": ".py",
   "mimetype": "text/x-python",
   "name": "python",
   "nbconvert_exporter": "python",
   "pygments_lexer": "ipython3",
   "version": "3.5.4"
  }
 },
 "nbformat": 4,
 "nbformat_minor": 2
}
