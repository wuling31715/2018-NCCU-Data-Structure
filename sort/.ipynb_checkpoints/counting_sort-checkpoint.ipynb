{
 "cells": [
  {
   "cell_type": "code",
   "execution_count": 1,
   "metadata": {},
   "outputs": [],
   "source": [
    "def counting_sort(array):\n",
    "    counting_array = [0] * (max(array) + 1)\n",
    "    for i in array: # 統計每個數字出現的次數\n",
    "        counting_array[i] += 1\n",
    "    i = 0 # i for array\n",
    "    for j in range(len(counting_array)): # j for counting_array\n",
    "        while counting_array[j] > 0: \n",
    "            array[i] = j # 放置 j 在 array[i] 的位置上\n",
    "            counting_array[j] -= 1 \n",
    "            i += 1\n",
    "            print(array)\n",
    "    return array"
   ]
  },
  {
   "cell_type": "code",
   "execution_count": 2,
   "metadata": {},
   "outputs": [
    {
     "name": "stdout",
     "output_type": "stream",
     "text": [
      "[9, 8, 7, 6, 5, 4, 3, 2, 1, 0]\n"
     ]
    }
   ],
   "source": [
    "array = [i for i in range(10)]\n",
    "array.reverse()\n",
    "print(array)"
   ]
  },
  {
   "cell_type": "code",
   "execution_count": 3,
   "metadata": {},
   "outputs": [
    {
     "name": "stdout",
     "output_type": "stream",
     "text": [
      "[0, 8, 7, 6, 5, 4, 3, 2, 1, 0]\n",
      "[0, 1, 7, 6, 5, 4, 3, 2, 1, 0]\n",
      "[0, 1, 2, 6, 5, 4, 3, 2, 1, 0]\n",
      "[0, 1, 2, 3, 5, 4, 3, 2, 1, 0]\n",
      "[0, 1, 2, 3, 4, 4, 3, 2, 1, 0]\n",
      "[0, 1, 2, 3, 4, 5, 3, 2, 1, 0]\n",
      "[0, 1, 2, 3, 4, 5, 6, 2, 1, 0]\n",
      "[0, 1, 2, 3, 4, 5, 6, 7, 1, 0]\n",
      "[0, 1, 2, 3, 4, 5, 6, 7, 8, 0]\n",
      "[0, 1, 2, 3, 4, 5, 6, 7, 8, 9]\n",
      "[0, 1, 2, 3, 4, 5, 6, 7, 8, 9]\n"
     ]
    }
   ],
   "source": [
    "print(counting_sort(array))"
   ]
  },
  {
   "cell_type": "code",
   "execution_count": null,
   "metadata": {},
   "outputs": [],
   "source": []
  }
 ],
 "metadata": {
  "kernelspec": {
   "display_name": "Python 3",
   "language": "python",
   "name": "python3"
  },
  "language_info": {
   "codemirror_mode": {
    "name": "ipython",
    "version": 3
   },
   "file_extension": ".py",
   "mimetype": "text/x-python",
   "name": "python",
   "nbconvert_exporter": "python",
   "pygments_lexer": "ipython3",
   "version": "3.5.4"
  }
 },
 "nbformat": 4,
 "nbformat_minor": 2
}
