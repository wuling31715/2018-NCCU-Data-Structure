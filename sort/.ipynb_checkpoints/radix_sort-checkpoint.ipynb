{
 "cells": [
  {
   "cell_type": "code",
   "execution_count": 9,
   "metadata": {},
   "outputs": [],
   "source": [
    "def radix_sort(array):\n",
    "    \n",
    "    def get_digit(i):\n",
    "        j = 1\n",
    "        while i / 10 > 1:\n",
    "            i /= 10\n",
    "            j += 1\n",
    "        return j\n",
    "    \n",
    "    k = 0 # 取得最大位數 (k = len(max(array)))\n",
    "    for i in array:\n",
    "        if get_digit(i) > k:\n",
    "            k = get_digit(i)\n",
    "    for i in range(k):\n",
    "        bucket_array = [[] for x in range(10)]\n",
    "        for j in array:\n",
    "            d = j % (10 ** (i + 1)) // (10 ** i) # 取得個別位數\n",
    "            bucket_array[d].append(j)\n",
    "        l = 0\n",
    "        while l < len(array):\n",
    "            for m in bucket_array:  \n",
    "                for n in m:\n",
    "                    array[l] = n\n",
    "                    l += 1\n",
    "                    print(array)\n",
    "    return array"
   ]
  },
  {
   "cell_type": "code",
   "execution_count": 10,
   "metadata": {},
   "outputs": [
    {
     "name": "stdout",
     "output_type": "stream",
     "text": [
      "[9, 8, 7, 6, 5, 4, 3, 2, 1, 0]\n"
     ]
    }
   ],
   "source": [
    "array = [i for i in range(10)]\n",
    "array.reverse()\n",
    "print(array)"
   ]
  },
  {
   "cell_type": "code",
   "execution_count": 11,
   "metadata": {},
   "outputs": [
    {
     "name": "stdout",
     "output_type": "stream",
     "text": [
      "[0, 8, 7, 6, 5, 4, 3, 2, 1, 0]\n",
      "[0, 1, 7, 6, 5, 4, 3, 2, 1, 0]\n",
      "[0, 1, 2, 6, 5, 4, 3, 2, 1, 0]\n",
      "[0, 1, 2, 3, 5, 4, 3, 2, 1, 0]\n",
      "[0, 1, 2, 3, 4, 4, 3, 2, 1, 0]\n",
      "[0, 1, 2, 3, 4, 5, 3, 2, 1, 0]\n",
      "[0, 1, 2, 3, 4, 5, 6, 2, 1, 0]\n",
      "[0, 1, 2, 3, 4, 5, 6, 7, 1, 0]\n",
      "[0, 1, 2, 3, 4, 5, 6, 7, 8, 0]\n",
      "[0, 1, 2, 3, 4, 5, 6, 7, 8, 9]\n",
      "[0, 1, 2, 3, 4, 5, 6, 7, 8, 9]\n"
     ]
    }
   ],
   "source": [
    "print(radix_sort(array))"
   ]
  },
  {
   "cell_type": "code",
   "execution_count": null,
   "metadata": {
    "collapsed": true
   },
   "outputs": [],
   "source": []
  }
 ],
 "metadata": {
  "kernelspec": {
   "display_name": "Python 3",
   "language": "python",
   "name": "python3"
  },
  "language_info": {
   "codemirror_mode": {
    "name": "ipython",
    "version": 3
   },
   "file_extension": ".py",
   "mimetype": "text/x-python",
   "name": "python",
   "nbconvert_exporter": "python",
   "pygments_lexer": "ipython3",
   "version": "3.5.4"
  }
 },
 "nbformat": 4,
 "nbformat_minor": 2
}
