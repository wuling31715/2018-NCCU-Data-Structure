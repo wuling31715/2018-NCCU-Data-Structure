{
 "cells": [
  {
   "cell_type": "code",
   "execution_count": 1,
   "metadata": {},
   "outputs": [],
   "source": [
    "def merge_sort(array):\n",
    "    \n",
    "    def merge(left_array, right_array):\n",
    "        merge_array = []\n",
    "        i, j = 0, 0\n",
    "        while (len(merge_array) < len(left_array) + len(right_array)):\n",
    "            if left_array[i] < right_array[j]:\n",
    "                merge_array.append(left_array[i])\n",
    "                i += 1\n",
    "            else:\n",
    "                merge_array.append(right_array[j])\n",
    "                j += 1\n",
    "            if i == len(left_array): # 若是左邊元素全部已加入合併，則直接加入右邊剩下的元素（已排序）\n",
    "                for r in right_array[j:]:\n",
    "                    merge_array.append(r)\n",
    "                break\n",
    "            if j == len(right_array): # 若是右邊元素全部已加入合併，則直接加入左邊剩下的元素（已排序）\n",
    "                for l in left_array[i:]:\n",
    "                    merge_array.append(l)\n",
    "                break\n",
    "        print(merge_array)\n",
    "        return merge_array\n",
    "    \n",
    "    if len(array) < 2:\n",
    "        return array\n",
    "    \n",
    "    middle = len(array) // 2\n",
    "    left_array = merge_sort(array[:middle])\n",
    "    right_array = merge_sort(array[middle:])\n",
    "    return merge(left_array, right_array)"
   ]
  },
  {
   "cell_type": "code",
   "execution_count": 2,
   "metadata": {},
   "outputs": [
    {
     "name": "stdout",
     "output_type": "stream",
     "text": [
      "[9, 8, 7, 6, 5, 4, 3, 2, 1, 0]\n"
     ]
    }
   ],
   "source": [
    "array = [i for i in range(10)]\n",
    "array.reverse()\n",
    "print(array)"
   ]
  },
  {
   "cell_type": "code",
   "execution_count": 3,
   "metadata": {},
   "outputs": [
    {
     "name": "stdout",
     "output_type": "stream",
     "text": [
      "[8, 9]\n",
      "[5, 6]\n",
      "[5, 6, 7]\n",
      "[5, 6, 7, 8, 9]\n",
      "[3, 4]\n",
      "[0, 1]\n",
      "[0, 1, 2]\n",
      "[0, 1, 2, 3, 4]\n",
      "[0, 1, 2, 3, 4, 5, 6, 7, 8, 9]\n",
      "[0, 1, 2, 3, 4, 5, 6, 7, 8, 9]\n"
     ]
    }
   ],
   "source": [
    "print(merge_sort(array))"
   ]
  },
  {
   "cell_type": "code",
   "execution_count": null,
   "metadata": {},
   "outputs": [],
   "source": []
  }
 ],
 "metadata": {
  "kernelspec": {
   "display_name": "Python 3",
   "language": "python",
   "name": "python3"
  },
  "language_info": {
   "codemirror_mode": {
    "name": "ipython",
    "version": 3
   },
   "file_extension": ".py",
   "mimetype": "text/x-python",
   "name": "python",
   "nbconvert_exporter": "python",
   "pygments_lexer": "ipython3",
   "version": "3.5.4"
  }
 },
 "nbformat": 4,
 "nbformat_minor": 2
}
