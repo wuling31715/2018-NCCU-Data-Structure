{
 "cells": [
  {
   "cell_type": "code",
   "execution_count": 1,
   "metadata": {},
   "outputs": [],
   "source": [
    "def insertion_sort(array):\n",
    "    for i in range(1, len(array)):\n",
    "        insertion_value = array[i] # 先固定 array[i] 為基準\n",
    "        j = i - 1\n",
    "        while j >= 0 and array[j] > insertion_value: # insertion_value 不斷向左比較直到起點為止\n",
    "            array[j + 1] = array[j] # 比 insertion_value 大的值向右移動\n",
    "            j -= 1 # insertion_value 向左繼續比較\n",
    "        array[j + 1] = insertion_value \n",
    "        print(array)\n",
    "    return array"
   ]
  },
  {
   "cell_type": "code",
   "execution_count": 2,
   "metadata": {},
   "outputs": [
    {
     "name": "stdout",
     "output_type": "stream",
     "text": [
      "[9, 8, 7, 6, 5, 4, 3, 2, 1, 0]\n"
     ]
    }
   ],
   "source": [
    "array = [i for i in range(10)]\n",
    "array.reverse()\n",
    "print(array)"
   ]
  },
  {
   "cell_type": "code",
   "execution_count": 3,
   "metadata": {},
   "outputs": [
    {
     "name": "stdout",
     "output_type": "stream",
     "text": [
      "[8, 9, 7, 6, 5, 4, 3, 2, 1, 0]\n",
      "[7, 8, 9, 6, 5, 4, 3, 2, 1, 0]\n",
      "[6, 7, 8, 9, 5, 4, 3, 2, 1, 0]\n",
      "[5, 6, 7, 8, 9, 4, 3, 2, 1, 0]\n",
      "[4, 5, 6, 7, 8, 9, 3, 2, 1, 0]\n",
      "[3, 4, 5, 6, 7, 8, 9, 2, 1, 0]\n",
      "[2, 3, 4, 5, 6, 7, 8, 9, 1, 0]\n",
      "[1, 2, 3, 4, 5, 6, 7, 8, 9, 0]\n",
      "[0, 1, 2, 3, 4, 5, 6, 7, 8, 9]\n",
      "[0, 1, 2, 3, 4, 5, 6, 7, 8, 9]\n"
     ]
    }
   ],
   "source": [
    "print(insertion_sort(array))"
   ]
  },
  {
   "cell_type": "code",
   "execution_count": null,
   "metadata": {},
   "outputs": [],
   "source": []
  }
 ],
 "metadata": {
  "kernelspec": {
   "display_name": "Python 3",
   "language": "python",
   "name": "python3"
  },
  "language_info": {
   "codemirror_mode": {
    "name": "ipython",
    "version": 3
   },
   "file_extension": ".py",
   "mimetype": "text/x-python",
   "name": "python",
   "nbconvert_exporter": "python",
   "pygments_lexer": "ipython3",
   "version": "3.5.4"
  }
 },
 "nbformat": 4,
 "nbformat_minor": 2
}
