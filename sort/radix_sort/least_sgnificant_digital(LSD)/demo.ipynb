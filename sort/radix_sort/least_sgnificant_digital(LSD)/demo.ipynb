{
 "cells": [
  {
   "cell_type": "markdown",
   "metadata": {},
   "source": [
    "# Radix Sort"
   ]
  },
  {
   "cell_type": "markdown",
   "metadata": {},
   "source": [
    "* $ Complexity: O(K * N) $\n",
    "* $ N: element $\n",
    "* $ K: digit(max) $"
   ]
  },
  {
   "cell_type": "code",
   "execution_count": 1,
   "metadata": {
    "collapsed": false
   },
   "outputs": [],
   "source": [
    "def radix_sort(list):\n",
    "    def get_digit(i):\n",
    "        j = 1\n",
    "        while i / 10 > 1:\n",
    "            i /= 10\n",
    "            j += 1\n",
    "        return j\n",
    "    \n",
    "    k = 0 # 取得最大位數 (k = len(max(list)))\n",
    "    for i in list:\n",
    "        if get_digit(i) > k:\n",
    "            k = get_digit(i)\n",
    "    for i in range(k):\n",
    "        bucket_list = [[] for x in range(10)]\n",
    "        for j in list:\n",
    "            d = j % (10 ** (i + 1)) // (10 ** i) # 取得個別位數\n",
    "            bucket_list[d].append(j)\n",
    "        l = 0\n",
    "        while l < len(list):\n",
    "            for m in bucket_list:  \n",
    "                for n in m:\n",
    "                    list[l] = n\n",
    "                    l += 1\n",
    "    return list"
   ]
  },
  {
   "cell_type": "code",
   "execution_count": 2,
   "metadata": {
    "collapsed": false
   },
   "outputs": [
    {
     "name": "stdout",
     "output_type": "stream",
     "text": [
      "[99, 321, 123, 9, 8, 7, 6, 5, 4, 3, 2, 1, 0]\n",
      "[0, 1, 2, 3, 4, 5, 6, 7, 8, 9, 99, 123, 321]\n"
     ]
    }
   ],
   "source": [
    "order_list = [x for x in range(10)]\n",
    "order_list.append(123)\n",
    "order_list.append(321)\n",
    "order_list.append(99)\n",
    "order_list.reverse()\n",
    "print(order_list)\n",
    "print(radix_sort(order_list))"
   ]
  },
  {
   "cell_type": "code",
   "execution_count": 3,
   "metadata": {
    "collapsed": false
   },
   "outputs": [
    {
     "name": "stdout",
     "output_type": "stream",
     "text": [
      "[6, 0, 1, 9, 7, 5, 8, 3, 4, 2]\n",
      "[0, 1, 2, 3, 4, 5, 6, 7, 8, 9]\n"
     ]
    }
   ],
   "source": [
    "import random\n",
    "random_list =  random.sample(range(10), k=10)\n",
    "print(random_list)\n",
    "print(radix_sort(random_list))"
   ]
  },
  {
   "cell_type": "code",
   "execution_count": 4,
   "metadata": {
    "collapsed": false
   },
   "outputs": [
    {
     "name": "stdout",
     "output_type": "stream",
     "text": [
      "5.36 ms ± 222 µs per loop (mean ± std. dev. of 7 runs, 100 loops each)\n"
     ]
    }
   ],
   "source": [
    "%%timeit\n",
    "big_list = [x for x in range(2 ** 10)]\n",
    "big_list.reverse()\n",
    "radix_sort(big_list)"
   ]
  },
  {
   "cell_type": "code",
   "execution_count": null,
   "metadata": {
    "collapsed": true
   },
   "outputs": [],
   "source": []
  }
 ],
 "metadata": {
  "kernelspec": {
   "display_name": "Python 3",
   "language": "python",
   "name": "python3"
  },
  "language_info": {
   "codemirror_mode": {
    "name": "ipython",
    "version": 3
   },
   "file_extension": ".py",
   "mimetype": "text/x-python",
   "name": "python",
   "nbconvert_exporter": "python",
   "pygments_lexer": "ipython3",
   "version": "3.5.4"
  }
 },
 "nbformat": 4,
 "nbformat_minor": 2
}
