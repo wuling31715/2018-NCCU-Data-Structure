{
 "cells": [
  {
   "cell_type": "markdown",
   "metadata": {},
   "source": [
    "# Quick Sort"
   ]
  },
  {
   "cell_type": "markdown",
   "metadata": {},
   "source": [
    "Complexity: $ O(nlogn) $"
   ]
  },
  {
   "cell_type": "code",
   "execution_count": 8,
   "metadata": {
    "collapsed": false
   },
   "outputs": [],
   "source": [
    "def quick_sort(list):\n",
    "    left_list = []\n",
    "    right_list = []\n",
    "    pivot_list = []\n",
    "    if len(list) <= 1:\n",
    "        return list\n",
    "    else:\n",
    "        pivot = list[0]\n",
    "        for i in list:\n",
    "            if i < pivot:\n",
    "                left_list.append(i)\n",
    "            elif i > pivot:\n",
    "                right_list.append(i)\n",
    "            else:\n",
    "                pivot_list.append(i)\n",
    "    left_list = quick_sort(left_list)\n",
    "    right_list = quick_sort(right_list)\n",
    "    return left_list + pivot_list + right_list"
   ]
  },
  {
   "cell_type": "code",
   "execution_count": 9,
   "metadata": {
    "collapsed": false
   },
   "outputs": [
    {
     "name": "stdout",
     "output_type": "stream",
     "text": [
      "[9, 8, 7, 6, 5, 4, 3, 2, 1, 0]\n",
      "[0, 1, 2, 3, 4, 5, 6, 7, 8, 9]\n"
     ]
    }
   ],
   "source": [
    "order_list = [x for x in range(10)]\n",
    "order_list.reverse()\n",
    "print(order_list)\n",
    "print(quick_sort(order_list))"
   ]
  },
  {
   "cell_type": "code",
   "execution_count": 10,
   "metadata": {
    "collapsed": false
   },
   "outputs": [
    {
     "name": "stdout",
     "output_type": "stream",
     "text": [
      "[3, 4, 5, 2, 6, 9, 8, 7, 0, 1]\n",
      "[0, 1, 2, 3, 4, 5, 6, 7, 8, 9]\n"
     ]
    }
   ],
   "source": [
    "import random\n",
    "random_list =  random.sample(range(10), k=10)\n",
    "print(random_list)\n",
    "print(quick_sort(random_list))"
   ]
  },
  {
   "cell_type": "code",
   "execution_count": 11,
   "metadata": {
    "collapsed": false
   },
   "outputs": [
    {
     "name": "stdout",
     "output_type": "stream",
     "text": [
      "81.5 ms ± 1.55 ms per loop (mean ± std. dev. of 7 runs, 10 loops each)\n"
     ]
    }
   ],
   "source": [
    "%%timeit\n",
    "right_list = [x for x in range(2 ** 10)]\n",
    "right_list.reverse()\n",
    "quick_sort(right_list)"
   ]
  },
  {
   "cell_type": "code",
   "execution_count": null,
   "metadata": {
    "collapsed": true
   },
   "outputs": [],
   "source": []
  }
 ],
 "metadata": {
  "kernelspec": {
   "display_name": "Python 3",
   "language": "python",
   "name": "python3"
  },
  "language_info": {
   "codemirror_mode": {
    "name": "ipython",
    "version": 3
   },
   "file_extension": ".py",
   "mimetype": "text/x-python",
   "name": "python",
   "nbconvert_exporter": "python",
   "pygments_lexer": "ipython3",
   "version": "3.5.4"
  }
 },
 "nbformat": 4,
 "nbformat_minor": 2
}
