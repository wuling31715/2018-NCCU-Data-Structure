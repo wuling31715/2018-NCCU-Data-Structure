{
 "cells": [
  {
   "cell_type": "markdown",
   "metadata": {},
   "source": [
    "# Quick Sort"
   ]
  },
  {
   "cell_type": "code",
   "execution_count": 1,
   "metadata": {
    "collapsed": true
   },
   "outputs": [],
   "source": [
    "from timer import Timer as t\n",
    "global step\n",
    "step = 0"
   ]
  },
  {
   "cell_type": "code",
   "execution_count": 2,
   "metadata": {
    "collapsed": false
   },
   "outputs": [],
   "source": [
    "def quick_sort(number_list):\n",
    "    if len(number_list) <= 1:\n",
    "        return number_list\n",
    "    else:\n",
    "        global step\n",
    "        step += 1\n",
    "        pivot_number = number_list.pop(0)\n",
    "        left_list = [i for i in number_list if i < pivot_number]\n",
    "        right_list = [i for i in number_list if i >= pivot_number]\n",
    "        print(left_list + [pivot_number] + right_list)\n",
    "    return quick_sort(left_list) + [pivot_number] + quick_sort(right_list)"
   ]
  },
  {
   "cell_type": "code",
   "execution_count": 3,
   "metadata": {
    "collapsed": false
   },
   "outputs": [
    {
     "name": "stdout",
     "output_type": "stream",
     "text": [
      "[9, 8, 7, 6, 5, 4, 3, 2, 1, 0]\n",
      "[8, 7, 6, 5, 4, 3, 2, 1, 0, 9]\n",
      "[7, 6, 5, 4, 3, 2, 1, 0, 8]\n",
      "[6, 5, 4, 3, 2, 1, 0, 7]\n",
      "[5, 4, 3, 2, 1, 0, 6]\n",
      "[4, 3, 2, 1, 0, 5]\n",
      "[3, 2, 1, 0, 4]\n",
      "[2, 1, 0, 3]\n",
      "[1, 0, 2]\n",
      "[0, 1]\n",
      "[0, 1, 2, 3, 4, 5, 6, 7, 8, 9]\n",
      "step: 9\n",
      "main(): 0:00:00.001757\n"
     ]
    }
   ],
   "source": [
    "def main():\n",
    "    number_list = [i for i in reversed(range(10))]\n",
    "    print(number_list)\n",
    "    print(quick_sort(number_list))\n",
    "    print('step: %d' % step)\n",
    "t.count_function(main)"
   ]
  }
 ],
 "metadata": {
  "kernelspec": {
   "display_name": "Python 3",
   "language": "python",
   "name": "python3"
  },
  "language_info": {
   "codemirror_mode": {
    "name": "ipython",
    "version": 3
   },
   "file_extension": ".py",
   "mimetype": "text/x-python",
   "name": "python",
   "nbconvert_exporter": "python",
   "pygments_lexer": "ipython3",
   "version": "3.6.0"
  }
 },
 "nbformat": 4,
 "nbformat_minor": 2
}
