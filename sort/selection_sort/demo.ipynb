{
 "cells": [
  {
   "cell_type": "markdown",
   "metadata": {},
   "source": [
    "# Selection Sort"
   ]
  },
  {
   "cell_type": "code",
   "execution_count": 1,
   "metadata": {
    "collapsed": false
   },
   "outputs": [],
   "source": [
    "def selection_sort(list):\n",
    "    for i in range(len(list) - 1):\n",
    "        min_index = i # 固定起始值指標\n",
    "        for j in range(i + 1, len(list)): # 不斷向右尋找最小值\n",
    "            if list[j] < list[min_index]:\n",
    "                min_index = j # 更新最小值\n",
    "        if min_index != i:\n",
    "            list[i], list[min_index] = list[min_index], list[i] # 起始值與最小值互換\n",
    "#         print(i + 1, list)"
   ]
  },
  {
   "cell_type": "code",
   "execution_count": 2,
   "metadata": {
    "collapsed": false
   },
   "outputs": [
    {
     "name": "stdout",
     "output_type": "stream",
     "text": [
      "0 [9, 8, 7, 6, 5, 4, 3, 2, 1, 0]\n",
      "1 [0, 8, 7, 6, 5, 4, 3, 2, 1, 9]\n",
      "2 [0, 1, 7, 6, 5, 4, 3, 2, 8, 9]\n",
      "3 [0, 1, 2, 6, 5, 4, 3, 7, 8, 9]\n",
      "4 [0, 1, 2, 3, 5, 4, 6, 7, 8, 9]\n",
      "5 [0, 1, 2, 3, 4, 5, 6, 7, 8, 9]\n",
      "6 [0, 1, 2, 3, 4, 5, 6, 7, 8, 9]\n",
      "7 [0, 1, 2, 3, 4, 5, 6, 7, 8, 9]\n",
      "8 [0, 1, 2, 3, 4, 5, 6, 7, 8, 9]\n",
      "9 [0, 1, 2, 3, 4, 5, 6, 7, 8, 9]\n",
      "None\n"
     ]
    }
   ],
   "source": [
    "order_list = [x for x in range(10)]\n",
    "order_list.reverse()\n",
    "print(0, order_list)\n",
    "print(selection_sort(order_list))"
   ]
  },
  {
   "cell_type": "code",
   "execution_count": 3,
   "metadata": {
    "collapsed": false
   },
   "outputs": [
    {
     "name": "stdout",
     "output_type": "stream",
     "text": [
      "0 [1, 4, 3, 2, 7, 9, 8, 6, 5, 0]\n",
      "1 [0, 4, 3, 2, 7, 9, 8, 6, 5, 1]\n",
      "2 [0, 1, 3, 2, 7, 9, 8, 6, 5, 4]\n",
      "3 [0, 1, 2, 3, 7, 9, 8, 6, 5, 4]\n",
      "4 [0, 1, 2, 3, 7, 9, 8, 6, 5, 4]\n",
      "5 [0, 1, 2, 3, 4, 9, 8, 6, 5, 7]\n",
      "6 [0, 1, 2, 3, 4, 5, 8, 6, 9, 7]\n",
      "7 [0, 1, 2, 3, 4, 5, 6, 8, 9, 7]\n",
      "8 [0, 1, 2, 3, 4, 5, 6, 7, 9, 8]\n",
      "9 [0, 1, 2, 3, 4, 5, 6, 7, 8, 9]\n",
      "None\n"
     ]
    }
   ],
   "source": [
    "import random\n",
    "random_list =  random.sample(range(10), k=10)\n",
    "print(0, random_list)\n",
    "print(selection_sort(random_list))"
   ]
  },
  {
   "cell_type": "code",
   "execution_count": 2,
   "metadata": {
    "collapsed": false
   },
   "outputs": [
    {
     "name": "stdout",
     "output_type": "stream",
     "text": [
      "67.2 ms ± 1.31 ms per loop (mean ± std. dev. of 7 runs, 10 loops each)\n"
     ]
    }
   ],
   "source": [
    "%%timeit\n",
    "big_list = [x for x in range(2 ** 10)]\n",
    "big_list.reverse()\n",
    "selection_sort(big_list)"
   ]
  },
  {
   "cell_type": "code",
   "execution_count": null,
   "metadata": {
    "collapsed": true
   },
   "outputs": [],
   "source": []
  }
 ],
 "metadata": {
  "kernelspec": {
   "display_name": "Python 3",
   "language": "python",
   "name": "python3"
  },
  "language_info": {
   "codemirror_mode": {
    "name": "ipython",
    "version": 3
   },
   "file_extension": ".py",
   "mimetype": "text/x-python",
   "name": "python",
   "nbconvert_exporter": "python",
   "pygments_lexer": "ipython3",
   "version": "3.5.4"
  }
 },
 "nbformat": 4,
 "nbformat_minor": 2
}
