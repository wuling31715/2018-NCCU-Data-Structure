{
 "cells": [
  {
   "cell_type": "code",
   "execution_count": 169,
   "metadata": {
    "collapsed": true
   },
   "outputs": [],
   "source": [
    "from timer import Timer as t"
   ]
  },
  {
   "cell_type": "code",
   "execution_count": 170,
   "metadata": {
    "collapsed": true
   },
   "outputs": [],
   "source": [
    "number_list = [i for i in reversed(range(10))]"
   ]
  },
  {
   "cell_type": "code",
   "execution_count": 171,
   "metadata": {
    "collapsed": false
   },
   "outputs": [],
   "source": [
    "def selection_sort():\n",
    "    global number_list\n",
    "    print(number_list)\n",
    "    step = 0\n",
    "    for i in range(len(number_list)):\n",
    "        min_number = number_list[i]\n",
    "        for j in range(i, len(number_list)):\n",
    "            if number_list[j] < min_number:\n",
    "                min_number = number_list[j]\n",
    "        min_number_i = number_list.index(min_number)    \n",
    "        number_list[i], number_list[min_number_i] = number_list[min_number_i], number_list[i]\n",
    "        step += 1\n",
    "        print(number_list)\n",
    "    print(number_list)    \n",
    "    print('step: %d' % step)"
   ]
  },
  {
   "cell_type": "code",
   "execution_count": 172,
   "metadata": {
    "collapsed": true
   },
   "outputs": [],
   "source": [
    "def main():\n",
    "    selection_sort()"
   ]
  },
  {
   "cell_type": "code",
   "execution_count": 173,
   "metadata": {
    "collapsed": false
   },
   "outputs": [
    {
     "name": "stdout",
     "output_type": "stream",
     "text": [
      "[9, 8, 7, 6, 5, 4, 3, 2, 1, 0]\n",
      "[0, 8, 7, 6, 5, 4, 3, 2, 1, 9]\n",
      "[0, 1, 7, 6, 5, 4, 3, 2, 8, 9]\n",
      "[0, 1, 2, 6, 5, 4, 3, 7, 8, 9]\n",
      "[0, 1, 2, 3, 5, 4, 6, 7, 8, 9]\n",
      "[0, 1, 2, 3, 4, 5, 6, 7, 8, 9]\n",
      "[0, 1, 2, 3, 4, 5, 6, 7, 8, 9]\n",
      "[0, 1, 2, 3, 4, 5, 6, 7, 8, 9]\n",
      "[0, 1, 2, 3, 4, 5, 6, 7, 8, 9]\n",
      "[0, 1, 2, 3, 4, 5, 6, 7, 8, 9]\n",
      "[0, 1, 2, 3, 4, 5, 6, 7, 8, 9]\n",
      "[0, 1, 2, 3, 4, 5, 6, 7, 8, 9]\n",
      "step: 10\n",
      "main(): 0:00:00.001877\n"
     ]
    }
   ],
   "source": [
    "t.count_function(main)"
   ]
  }
 ],
 "metadata": {
  "kernelspec": {
   "display_name": "Python 3",
   "language": "python",
   "name": "python3"
  },
  "language_info": {
   "codemirror_mode": {
    "name": "ipython",
    "version": 3
   },
   "file_extension": ".py",
   "mimetype": "text/x-python",
   "name": "python",
   "nbconvert_exporter": "python",
   "pygments_lexer": "ipython3",
   "version": "3.6.0"
  }
 },
 "nbformat": 4,
 "nbformat_minor": 2
}
