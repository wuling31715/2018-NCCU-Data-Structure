{
 "cells": [
  {
   "cell_type": "code",
   "execution_count": 217,
   "metadata": {
    "collapsed": true
   },
   "outputs": [],
   "source": [
    "from timer import Timer as t"
   ]
  },
  {
   "cell_type": "code",
   "execution_count": 218,
   "metadata": {
    "collapsed": true
   },
   "outputs": [],
   "source": [
    "number_list = [i for i in reversed(range(10))]"
   ]
  },
  {
   "cell_type": "code",
   "execution_count": 219,
   "metadata": {
    "collapsed": true
   },
   "outputs": [],
   "source": [
    "def selection_sort():\n",
    "    global number_list\n",
    "    print(number_list)\n",
    "    step = 0\n",
    "    for i in range(len(number_list) - 1):\n",
    "        for j in range(len(number_list) - 1):            \n",
    "            if number_list[j] >= number_list[j + 1]:\n",
    "                number_list[i], number_list[j + 1] = number_list[j + 1], number_list[i]\n",
    "                step += 1\n",
    "                print(number_list)\n",
    "    print(number_list)    \n",
    "    print('step: %d' % step)"
   ]
  },
  {
   "cell_type": "code",
   "execution_count": 220,
   "metadata": {
    "collapsed": true
   },
   "outputs": [],
   "source": [
    "def main():\n",
    "    selection_sort()"
   ]
  },
  {
   "cell_type": "code",
   "execution_count": 221,
   "metadata": {
    "collapsed": false
   },
   "outputs": [
    {
     "name": "stdout",
     "output_type": "stream",
     "text": [
      "[9, 8, 7, 6, 5, 4, 3, 2, 1, 0]\n",
      "[8, 9, 7, 6, 5, 4, 3, 2, 1, 0]\n",
      "[7, 9, 8, 6, 5, 4, 3, 2, 1, 0]\n",
      "[6, 9, 8, 7, 5, 4, 3, 2, 1, 0]\n",
      "[5, 9, 8, 7, 6, 4, 3, 2, 1, 0]\n",
      "[4, 9, 8, 7, 6, 5, 3, 2, 1, 0]\n",
      "[3, 9, 8, 7, 6, 5, 4, 2, 1, 0]\n",
      "[2, 9, 8, 7, 6, 5, 4, 3, 1, 0]\n",
      "[1, 9, 8, 7, 6, 5, 4, 3, 2, 0]\n",
      "[0, 9, 8, 7, 6, 5, 4, 3, 2, 1]\n",
      "[0, 8, 9, 7, 6, 5, 4, 3, 2, 1]\n",
      "[0, 7, 9, 8, 6, 5, 4, 3, 2, 1]\n",
      "[0, 6, 9, 8, 7, 5, 4, 3, 2, 1]\n",
      "[0, 5, 9, 8, 7, 6, 4, 3, 2, 1]\n",
      "[0, 4, 9, 8, 7, 6, 5, 3, 2, 1]\n",
      "[0, 3, 9, 8, 7, 6, 5, 4, 2, 1]\n",
      "[0, 2, 9, 8, 7, 6, 5, 4, 3, 1]\n",
      "[0, 1, 9, 8, 7, 6, 5, 4, 3, 2]\n",
      "[0, 1, 8, 9, 7, 6, 5, 4, 3, 2]\n",
      "[0, 1, 7, 9, 8, 6, 5, 4, 3, 2]\n",
      "[0, 1, 6, 9, 8, 7, 5, 4, 3, 2]\n",
      "[0, 1, 5, 9, 8, 7, 6, 4, 3, 2]\n",
      "[0, 1, 4, 9, 8, 7, 6, 5, 3, 2]\n",
      "[0, 1, 3, 9, 8, 7, 6, 5, 4, 2]\n",
      "[0, 1, 2, 9, 8, 7, 6, 5, 4, 3]\n",
      "[0, 1, 2, 8, 9, 7, 6, 5, 4, 3]\n",
      "[0, 1, 2, 7, 9, 8, 6, 5, 4, 3]\n",
      "[0, 1, 2, 6, 9, 8, 7, 5, 4, 3]\n",
      "[0, 1, 2, 5, 9, 8, 7, 6, 4, 3]\n",
      "[0, 1, 2, 4, 9, 8, 7, 6, 5, 3]\n",
      "[0, 1, 2, 3, 9, 8, 7, 6, 5, 4]\n",
      "[0, 1, 2, 3, 8, 9, 7, 6, 5, 4]\n",
      "[0, 1, 2, 3, 7, 9, 8, 6, 5, 4]\n",
      "[0, 1, 2, 3, 6, 9, 8, 7, 5, 4]\n",
      "[0, 1, 2, 3, 5, 9, 8, 7, 6, 4]\n",
      "[0, 1, 2, 3, 4, 9, 8, 7, 6, 5]\n",
      "[0, 1, 2, 3, 4, 8, 9, 7, 6, 5]\n",
      "[0, 1, 2, 3, 4, 7, 9, 8, 6, 5]\n",
      "[0, 1, 2, 3, 4, 6, 9, 8, 7, 5]\n",
      "[0, 1, 2, 3, 4, 5, 9, 8, 7, 6]\n",
      "[0, 1, 2, 3, 4, 5, 8, 9, 7, 6]\n",
      "[0, 1, 2, 3, 4, 5, 7, 9, 8, 6]\n",
      "[0, 1, 2, 3, 4, 5, 6, 9, 8, 7]\n",
      "[0, 1, 2, 3, 4, 5, 6, 8, 9, 7]\n",
      "[0, 1, 2, 3, 4, 5, 6, 7, 9, 8]\n",
      "[0, 1, 2, 3, 4, 5, 6, 7, 8, 9]\n",
      "[0, 1, 2, 3, 4, 5, 6, 7, 8, 9]\n",
      "step: 45\n",
      "main(): 0:00:00.007331\n"
     ]
    }
   ],
   "source": [
    "t.count_function(main)"
   ]
  }
 ],
 "metadata": {
  "kernelspec": {
   "display_name": "Python 3",
   "language": "python",
   "name": "python3"
  },
  "language_info": {
   "codemirror_mode": {
    "name": "ipython",
    "version": 3
   },
   "file_extension": ".py",
   "mimetype": "text/x-python",
   "name": "python",
   "nbconvert_exporter": "python",
   "pygments_lexer": "ipython3",
   "version": "3.6.0"
  }
 },
 "nbformat": 4,
 "nbformat_minor": 2
}
