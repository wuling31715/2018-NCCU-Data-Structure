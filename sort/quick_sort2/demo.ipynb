{
 "cells": [
  {
   "cell_type": "markdown",
   "metadata": {},
   "source": [
    "# Quick Sort 2"
   ]
  },
  {
   "cell_type": "markdown",
   "metadata": {},
   "source": [
    "* $ Complexity: O(NlogN) $\n",
    "* $ N:elements $"
   ]
  },
  {
   "cell_type": "code",
   "execution_count": 1,
   "metadata": {},
   "outputs": [],
   "source": [
    "def quick_sort(list):\n",
    "    def partition(list, start, end):\n",
    "        if start >= end:\n",
    "            return\n",
    "        pivot = list[end] # 選擇最後一個元素為 pivot\n",
    "        left = start\n",
    "        right = end - 1\n",
    "        while left < right:\n",
    "            while left < right and list[left] < pivot: # 由左向右收集小於 pivot 的元素\n",
    "                left += 1 \n",
    "            while left < right and list[right] >= pivot: # 由右向左收集大於等於 pivot 的元素\n",
    "                right -= 1 \n",
    "            list[left], list[right] = list[right], list[left] # 左側小於 pivot，右側大於 pivot\n",
    "        if list[left] >= list[end]: # 確保 pivot 的值不小於左側（進行下一次遞迴）\n",
    "            list[left], list[end] = list[end], list[left] \n",
    "        else:\n",
    "            left += 1 # 進行下一次遞迴\n",
    "        partition(list, start, left - 1) # 左側重新分割\n",
    "        partition(list, left + 1, end) # 右側重新分割\n",
    "        return list\n",
    "    \n",
    "    partition(list, 0, len(list) - 1)\n",
    "    return list"
   ]
  },
  {
   "cell_type": "code",
   "execution_count": 2,
   "metadata": {},
   "outputs": [
    {
     "name": "stdout",
     "output_type": "stream",
     "text": [
      "[9, 8, 7, 6, 5, 4, 3, 2, 1, 0]\n",
      "[0, 1, 2, 3, 4, 5, 6, 7, 8, 9]\n"
     ]
    }
   ],
   "source": [
    "order_list = [x for x in range(10)]\n",
    "order_list.reverse()\n",
    "print(order_list)\n",
    "print(quick_sort(order_list))"
   ]
  },
  {
   "cell_type": "code",
   "execution_count": 3,
   "metadata": {},
   "outputs": [
    {
     "name": "stdout",
     "output_type": "stream",
     "text": [
      "[4, 1, 7, 9, 2, 6, 5, 8, 3, 0]\n",
      "[0, 1, 2, 3, 4, 5, 6, 7, 8, 9]\n"
     ]
    }
   ],
   "source": [
    "import random\n",
    "random_list =  random.sample(range(10), k=10)\n",
    "print(random_list)\n",
    "print(quick_sort(random_list))"
   ]
  },
  {
   "cell_type": "code",
   "execution_count": 4,
   "metadata": {},
   "outputs": [
    {
     "name": "stdout",
     "output_type": "stream",
     "text": [
      "85.3 ms ± 3.05 ms per loop (mean ± std. dev. of 7 runs, 10 loops each)\n"
     ]
    }
   ],
   "source": [
    "%%timeit\n",
    "big_list = [x for x in range(2 ** 10)]\n",
    "big_list.reverse()\n",
    "quick_sort(big_list)"
   ]
  },
  {
   "cell_type": "code",
   "execution_count": null,
   "metadata": {
    "collapsed": true
   },
   "outputs": [],
   "source": []
  }
 ],
 "metadata": {
  "kernelspec": {
   "display_name": "Python 3",
   "language": "python",
   "name": "python3"
  },
  "language_info": {
   "codemirror_mode": {
    "name": "ipython",
    "version": 3
   },
   "file_extension": ".py",
   "mimetype": "text/x-python",
   "name": "python",
   "nbconvert_exporter": "python",
   "pygments_lexer": "ipython3",
   "version": "3.5.4"
  }
 },
 "nbformat": 4,
 "nbformat_minor": 2
}
