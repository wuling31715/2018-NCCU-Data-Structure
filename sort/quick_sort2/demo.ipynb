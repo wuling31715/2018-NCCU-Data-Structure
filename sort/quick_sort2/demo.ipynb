{
 "cells": [
  {
   "cell_type": "markdown",
   "metadata": {},
   "source": [
    "# Quick Sort ( In Place )"
   ]
  },
  {
   "cell_type": "code",
   "execution_count": 20,
   "metadata": {
    "collapsed": true
   },
   "outputs": [],
   "source": [
    "from timer import Timer as t\n",
    "global step\n",
    "step = 0"
   ]
  },
  {
   "cell_type": "code",
   "execution_count": 23,
   "metadata": {
    "collapsed": false
   },
   "outputs": [],
   "source": [
    "def quick_sort(number_list, left_index, right_index):\n",
    "    if number_list[left_index] <= number_list[right_index]:\n",
    "        return number_list\n",
    "    else:\n",
    "        pivot_index = number_list[0]\n",
    "        number_list[pivot_index], number_list[right_index] = number_list[right_index], number_list[pivot_index]\n",
    "        swap_index = left_index\n",
    "        for i in range(left_index, right_index):\n",
    "            if number_list[i] <= number_list[pivot_index]:\n",
    "                number_list[i], number_list[swap_index] = number_list[swap_index], number_list[i]\n",
    "                swap_index += 1\n",
    "        number[swap_index], number_list[right_index] = number_list[right_index], number_list[swap_index]\n",
    "        quick_sort(number_list, left_index, swap_index - 1)\n",
    "        quick_sort(number_list, swap_index + 1, right_index)\n",
    "    return number_list   \n",
    "        \n",
    "    \n",
    "    \n"
   ]
  },
  {
   "cell_type": "code",
   "execution_count": 24,
   "metadata": {
    "collapsed": false
   },
   "outputs": [
    {
     "name": "stdout",
     "output_type": "stream",
     "text": [
      "[9, 8, 7, 6, 5, 4, 3, 2, 1, 0]\n",
      "[9, 8, 7, 6, 5, 4, 3, 2, 1, 0]\n",
      "step: 0\n",
      "main(): 0:00:00.000966\n"
     ]
    }
   ],
   "source": [
    "def main():\n",
    "    number_list = [i for i in reversed(range(10))]\n",
    "    print(number_list)\n",
    "    print(quick_sort(number_list, number_list[0], number_list[len(number_list) - 1]))\n",
    "    print('step: %d' % step)\n",
    "t.count_function(main)"
   ]
  },
  {
   "cell_type": "code",
   "execution_count": null,
   "metadata": {
    "collapsed": true
   },
   "outputs": [],
   "source": []
  }
 ],
 "metadata": {
  "kernelspec": {
   "display_name": "Python 3",
   "language": "python",
   "name": "python3"
  },
  "language_info": {
   "codemirror_mode": {
    "name": "ipython",
    "version": 3
   },
   "file_extension": ".py",
   "mimetype": "text/x-python",
   "name": "python",
   "nbconvert_exporter": "python",
   "pygments_lexer": "ipython3",
   "version": "3.6.0"
  }
 },
 "nbformat": 4,
 "nbformat_minor": 2
}
