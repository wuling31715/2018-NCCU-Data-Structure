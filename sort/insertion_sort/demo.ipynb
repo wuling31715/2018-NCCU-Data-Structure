{
 "cells": [
  {
   "cell_type": "markdown",
   "metadata": {},
   "source": [
    "# Insertion Sort"
   ]
  },
  {
   "cell_type": "code",
   "execution_count": 1,
   "metadata": {
    "collapsed": false
   },
   "outputs": [],
   "source": [
    "def insertion_sort(list):\n",
    "    for i in range(1, len(list)):\n",
    "        insertion_value = list[i]\n",
    "        j = i - 1\n",
    "        # 如果左側沒有比 insertion_value 更小的值，insertion_value 就不斷向左比較，直到起點為止（j >= 0）\n",
    "        while j >= 0 and list[j] > insertion_value: \n",
    "            list[j + 1] = list[j]\n",
    "            j -= 1 # insertion_value 繼續向左移動\n",
    "        list[j + 1] = insertion_value        \n",
    "        print(i, list)"
   ]
  },
  {
   "cell_type": "code",
   "execution_count": 2,
   "metadata": {
    "collapsed": false
   },
   "outputs": [
    {
     "name": "stdout",
     "output_type": "stream",
     "text": [
      "0 [9, 8, 7, 6, 5, 4, 3, 2, 1, 0]\n",
      "1 [8, 9, 7, 6, 5, 4, 3, 2, 1, 0]\n",
      "2 [7, 8, 9, 6, 5, 4, 3, 2, 1, 0]\n",
      "3 [6, 7, 8, 9, 5, 4, 3, 2, 1, 0]\n",
      "4 [5, 6, 7, 8, 9, 4, 3, 2, 1, 0]\n",
      "5 [4, 5, 6, 7, 8, 9, 3, 2, 1, 0]\n",
      "6 [3, 4, 5, 6, 7, 8, 9, 2, 1, 0]\n",
      "7 [2, 3, 4, 5, 6, 7, 8, 9, 1, 0]\n",
      "8 [1, 2, 3, 4, 5, 6, 7, 8, 9, 0]\n",
      "9 [0, 1, 2, 3, 4, 5, 6, 7, 8, 9]\n",
      "None\n"
     ]
    }
   ],
   "source": [
    "order_list = [x for x in range(10)]\n",
    "order_list.reverse()\n",
    "print(0, order_list)\n",
    "print(insertion_sort(order_list))"
   ]
  },
  {
   "cell_type": "code",
   "execution_count": 3,
   "metadata": {
    "collapsed": false
   },
   "outputs": [
    {
     "name": "stdout",
     "output_type": "stream",
     "text": [
      "0 [1, 3, 9, 6, 0, 8, 4, 5, 2, 7]\n",
      "1 [1, 3, 9, 6, 0, 8, 4, 5, 2, 7]\n",
      "2 [1, 3, 9, 6, 0, 8, 4, 5, 2, 7]\n",
      "3 [1, 3, 6, 9, 0, 8, 4, 5, 2, 7]\n",
      "4 [0, 1, 3, 6, 9, 8, 4, 5, 2, 7]\n",
      "5 [0, 1, 3, 6, 8, 9, 4, 5, 2, 7]\n",
      "6 [0, 1, 3, 4, 6, 8, 9, 5, 2, 7]\n",
      "7 [0, 1, 3, 4, 5, 6, 8, 9, 2, 7]\n",
      "8 [0, 1, 2, 3, 4, 5, 6, 8, 9, 7]\n",
      "9 [0, 1, 2, 3, 4, 5, 6, 7, 8, 9]\n",
      "None\n"
     ]
    }
   ],
   "source": [
    "import random\n",
    "random_list =  random.sample(range(10), k=10)\n",
    "print(0, random_list)\n",
    "print(insertion_sort(random_list))"
   ]
  },
  {
   "cell_type": "code",
   "execution_count": null,
   "metadata": {
    "collapsed": true
   },
   "outputs": [],
   "source": []
  }
 ],
 "metadata": {
  "kernelspec": {
   "display_name": "Python 3",
   "language": "python",
   "name": "python3"
  },
  "language_info": {
   "codemirror_mode": {
    "name": "ipython",
    "version": 3
   },
   "file_extension": ".py",
   "mimetype": "text/x-python",
   "name": "python",
   "nbconvert_exporter": "python",
   "pygments_lexer": "ipython3",
   "version": "3.5.4"
  }
 },
 "nbformat": 4,
 "nbformat_minor": 2
}
