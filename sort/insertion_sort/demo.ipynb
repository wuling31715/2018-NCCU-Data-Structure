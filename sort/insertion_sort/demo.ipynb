{
 "cells": [
  {
   "cell_type": "markdown",
   "metadata": {},
   "source": [
    "# Insertion Sort"
   ]
  },
  {
   "cell_type": "code",
   "execution_count": 37,
   "metadata": {
    "collapsed": false
   },
   "outputs": [],
   "source": [
    "def insertion_sort(list):\n",
    "    for i in range(1, len(list)):\n",
    "        insertion_value = list[i]\n",
    "        j = i - 1\n",
    "        while j >= 0 and list[j] > insertion_value: # 如果左側沒有比 insertion_value 更小的值，insertion_value 就不斷向左比較，直到起點為止（j >= 0）\n",
    "            print(list[j], insertion_value, list[i])\n",
    "            list[j + 1] = list[j]\n",
    "            j -= 1 # insertion_value 繼續向左移動\n",
    "            print(list[-1], insertion_value, list[i])            \n",
    "        list[j + 1] = insertion_value        \n",
    "        print(i, list)\n",
    "        print()\n",
    "        \n"
   ]
  },
  {
   "cell_type": "code",
   "execution_count": 38,
   "metadata": {
    "collapsed": false
   },
   "outputs": [
    {
     "name": "stdout",
     "output_type": "stream",
     "text": [
      "0 [9, 8, 7, 6, 5, 4, 3, 2, 1, 0]\n",
      "9 8 8\n",
      "0 8 9\n",
      "1 [8, 9, 7, 6, 5, 4, 3, 2, 1, 0]\n",
      "\n",
      "9 7 7\n",
      "0 7 9\n",
      "8 7 9\n",
      "0 7 9\n",
      "2 [7, 8, 9, 6, 5, 4, 3, 2, 1, 0]\n",
      "\n",
      "9 6 6\n",
      "0 6 9\n",
      "8 6 9\n",
      "0 6 9\n",
      "7 6 9\n",
      "0 6 9\n",
      "3 [6, 7, 8, 9, 5, 4, 3, 2, 1, 0]\n",
      "\n",
      "9 5 5\n",
      "0 5 9\n",
      "8 5 9\n",
      "0 5 9\n",
      "7 5 9\n",
      "0 5 9\n",
      "6 5 9\n",
      "0 5 9\n",
      "4 [5, 6, 7, 8, 9, 4, 3, 2, 1, 0]\n",
      "\n",
      "9 4 4\n",
      "0 4 9\n",
      "8 4 9\n",
      "0 4 9\n",
      "7 4 9\n",
      "0 4 9\n",
      "6 4 9\n",
      "0 4 9\n",
      "5 4 9\n",
      "0 4 9\n",
      "5 [4, 5, 6, 7, 8, 9, 3, 2, 1, 0]\n",
      "\n",
      "9 3 3\n",
      "0 3 9\n",
      "8 3 9\n",
      "0 3 9\n",
      "7 3 9\n",
      "0 3 9\n",
      "6 3 9\n",
      "0 3 9\n",
      "5 3 9\n",
      "0 3 9\n",
      "4 3 9\n",
      "0 3 9\n",
      "6 [3, 4, 5, 6, 7, 8, 9, 2, 1, 0]\n",
      "\n",
      "9 2 2\n",
      "0 2 9\n",
      "8 2 9\n",
      "0 2 9\n",
      "7 2 9\n",
      "0 2 9\n",
      "6 2 9\n",
      "0 2 9\n",
      "5 2 9\n",
      "0 2 9\n",
      "4 2 9\n",
      "0 2 9\n",
      "3 2 9\n",
      "0 2 9\n",
      "7 [2, 3, 4, 5, 6, 7, 8, 9, 1, 0]\n",
      "\n",
      "9 1 1\n",
      "0 1 9\n",
      "8 1 9\n",
      "0 1 9\n",
      "7 1 9\n",
      "0 1 9\n",
      "6 1 9\n",
      "0 1 9\n",
      "5 1 9\n",
      "0 1 9\n",
      "4 1 9\n",
      "0 1 9\n",
      "3 1 9\n",
      "0 1 9\n",
      "2 1 9\n",
      "0 1 9\n",
      "8 [1, 2, 3, 4, 5, 6, 7, 8, 9, 0]\n",
      "\n",
      "9 0 0\n",
      "9 0 9\n",
      "8 0 9\n",
      "9 0 9\n",
      "7 0 9\n",
      "9 0 9\n",
      "6 0 9\n",
      "9 0 9\n",
      "5 0 9\n",
      "9 0 9\n",
      "4 0 9\n",
      "9 0 9\n",
      "3 0 9\n",
      "9 0 9\n",
      "2 0 9\n",
      "9 0 9\n",
      "1 0 9\n",
      "9 0 9\n",
      "9 [0, 1, 2, 3, 4, 5, 6, 7, 8, 9]\n",
      "\n",
      "None\n"
     ]
    }
   ],
   "source": [
    "order_list = [x for x in range(10)]\n",
    "order_list.reverse()\n",
    "print(0, order_list)\n",
    "print(insertion_sort(order_list))"
   ]
  },
  {
   "cell_type": "code",
   "execution_count": 32,
   "metadata": {
    "collapsed": false
   },
   "outputs": [
    {
     "name": "stdout",
     "output_type": "stream",
     "text": [
      "0 [0, 6, 2, 9, 7, 5, 1, 8, 4, 3]\n",
      "1 [0, 6, 2, 9, 7, 5, 1, 8, 4, 3]\n",
      "\n",
      "6 2 2\n",
      "2 [0, 2, 6, 9, 7, 5, 1, 8, 4, 3]\n",
      "\n",
      "3 [0, 2, 6, 9, 7, 5, 1, 8, 4, 3]\n",
      "\n",
      "9 7 7\n",
      "4 [0, 2, 6, 7, 9, 5, 1, 8, 4, 3]\n",
      "\n",
      "9 5 5\n",
      "7 5 9\n",
      "6 5 9\n",
      "5 [0, 2, 5, 6, 7, 9, 1, 8, 4, 3]\n",
      "\n",
      "9 1 1\n",
      "7 1 9\n",
      "6 1 9\n",
      "5 1 9\n",
      "2 1 9\n",
      "6 [0, 1, 2, 5, 6, 7, 9, 8, 4, 3]\n",
      "\n",
      "9 8 8\n",
      "7 [0, 1, 2, 5, 6, 7, 8, 9, 4, 3]\n",
      "\n",
      "9 4 4\n",
      "8 4 9\n",
      "7 4 9\n",
      "6 4 9\n",
      "5 4 9\n",
      "8 [0, 1, 2, 4, 5, 6, 7, 8, 9, 3]\n",
      "\n",
      "9 3 3\n",
      "8 3 9\n",
      "7 3 9\n",
      "6 3 9\n",
      "5 3 9\n",
      "4 3 9\n",
      "9 [0, 1, 2, 3, 4, 5, 6, 7, 8, 9]\n",
      "\n",
      "None\n"
     ]
    }
   ],
   "source": [
    "import random\n",
    "random_list =  random.sample(range(10), k=10)\n",
    "print(0, random_list)\n",
    "print(insertion_sort(random_list))"
   ]
  },
  {
   "cell_type": "code",
   "execution_count": null,
   "metadata": {
    "collapsed": true
   },
   "outputs": [],
   "source": []
  },
  {
   "cell_type": "code",
   "execution_count": null,
   "metadata": {
    "collapsed": true
   },
   "outputs": [],
   "source": []
  }
 ],
 "metadata": {
  "kernelspec": {
   "display_name": "Python 3",
   "language": "python",
   "name": "python3"
  },
  "language_info": {
   "codemirror_mode": {
    "name": "ipython",
    "version": 3
   },
   "file_extension": ".py",
   "mimetype": "text/x-python",
   "name": "python",
   "nbconvert_exporter": "python",
   "pygments_lexer": "ipython3",
   "version": "3.5.4"
  }
 },
 "nbformat": 4,
 "nbformat_minor": 2
}
