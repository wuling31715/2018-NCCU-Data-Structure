{
 "cells": [
  {
   "cell_type": "markdown",
   "metadata": {},
   "source": [
    "# Insertion Sort"
   ]
  },
  {
   "cell_type": "code",
   "execution_count": 6,
   "metadata": {
    "collapsed": false
   },
   "outputs": [],
   "source": [
    "def insertion_sort(list):\n",
    "    for i in range(1, len(list)):\n",
    "        insertion_value = list[i] # 先固定 list[i] 為基準\n",
    "        j = i - 1\n",
    "        while j >= 0 and list[j] > insertion_value: # insertion_value 不斷向左比較直到起點為止\n",
    "            list[j + 1] = list[j] # 比 insertion_value 大的值向右移動\n",
    "            j -= 1 # insertion_value 向左繼續比較\n",
    "#             print(list)\n",
    "        list[j + 1] = insertion_value \n",
    "#     print(list)"
   ]
  },
  {
   "cell_type": "code",
   "execution_count": 4,
   "metadata": {
    "collapsed": false
   },
   "outputs": [
    {
     "name": "stdout",
     "output_type": "stream",
     "text": [
      "[9, 8, 7, 6, 5, 4, 3, 2, 1, 0]\n",
      "[9, 9, 7, 6, 5, 4, 3, 2, 1, 0]\n",
      "[8, 9, 9, 6, 5, 4, 3, 2, 1, 0]\n",
      "[8, 8, 9, 6, 5, 4, 3, 2, 1, 0]\n",
      "[7, 8, 9, 9, 5, 4, 3, 2, 1, 0]\n",
      "[7, 8, 8, 9, 5, 4, 3, 2, 1, 0]\n",
      "[7, 7, 8, 9, 5, 4, 3, 2, 1, 0]\n",
      "[6, 7, 8, 9, 9, 4, 3, 2, 1, 0]\n",
      "[6, 7, 8, 8, 9, 4, 3, 2, 1, 0]\n",
      "[6, 7, 7, 8, 9, 4, 3, 2, 1, 0]\n",
      "[6, 6, 7, 8, 9, 4, 3, 2, 1, 0]\n",
      "[5, 6, 7, 8, 9, 9, 3, 2, 1, 0]\n",
      "[5, 6, 7, 8, 8, 9, 3, 2, 1, 0]\n",
      "[5, 6, 7, 7, 8, 9, 3, 2, 1, 0]\n",
      "[5, 6, 6, 7, 8, 9, 3, 2, 1, 0]\n",
      "[5, 5, 6, 7, 8, 9, 3, 2, 1, 0]\n",
      "[4, 5, 6, 7, 8, 9, 9, 2, 1, 0]\n",
      "[4, 5, 6, 7, 8, 8, 9, 2, 1, 0]\n",
      "[4, 5, 6, 7, 7, 8, 9, 2, 1, 0]\n",
      "[4, 5, 6, 6, 7, 8, 9, 2, 1, 0]\n",
      "[4, 5, 5, 6, 7, 8, 9, 2, 1, 0]\n",
      "[4, 4, 5, 6, 7, 8, 9, 2, 1, 0]\n",
      "[3, 4, 5, 6, 7, 8, 9, 9, 1, 0]\n",
      "[3, 4, 5, 6, 7, 8, 8, 9, 1, 0]\n",
      "[3, 4, 5, 6, 7, 7, 8, 9, 1, 0]\n",
      "[3, 4, 5, 6, 6, 7, 8, 9, 1, 0]\n",
      "[3, 4, 5, 5, 6, 7, 8, 9, 1, 0]\n",
      "[3, 4, 4, 5, 6, 7, 8, 9, 1, 0]\n",
      "[3, 3, 4, 5, 6, 7, 8, 9, 1, 0]\n",
      "[2, 3, 4, 5, 6, 7, 8, 9, 9, 0]\n",
      "[2, 3, 4, 5, 6, 7, 8, 8, 9, 0]\n",
      "[2, 3, 4, 5, 6, 7, 7, 8, 9, 0]\n",
      "[2, 3, 4, 5, 6, 6, 7, 8, 9, 0]\n",
      "[2, 3, 4, 5, 5, 6, 7, 8, 9, 0]\n",
      "[2, 3, 4, 4, 5, 6, 7, 8, 9, 0]\n",
      "[2, 3, 3, 4, 5, 6, 7, 8, 9, 0]\n",
      "[2, 2, 3, 4, 5, 6, 7, 8, 9, 0]\n",
      "[1, 2, 3, 4, 5, 6, 7, 8, 9, 9]\n",
      "[1, 2, 3, 4, 5, 6, 7, 8, 8, 9]\n",
      "[1, 2, 3, 4, 5, 6, 7, 7, 8, 9]\n",
      "[1, 2, 3, 4, 5, 6, 6, 7, 8, 9]\n",
      "[1, 2, 3, 4, 5, 5, 6, 7, 8, 9]\n",
      "[1, 2, 3, 4, 4, 5, 6, 7, 8, 9]\n",
      "[1, 2, 3, 3, 4, 5, 6, 7, 8, 9]\n",
      "[1, 2, 2, 3, 4, 5, 6, 7, 8, 9]\n",
      "[1, 1, 2, 3, 4, 5, 6, 7, 8, 9]\n",
      "[0, 1, 2, 3, 4, 5, 6, 7, 8, 9]\n"
     ]
    }
   ],
   "source": [
    "order_list = [x for x in range(10)]\n",
    "order_list.reverse()\n",
    "print(order_list)\n",
    "insertion_sort(order_list)"
   ]
  },
  {
   "cell_type": "code",
   "execution_count": 5,
   "metadata": {
    "collapsed": false
   },
   "outputs": [
    {
     "name": "stdout",
     "output_type": "stream",
     "text": [
      "[0, 6, 2, 3, 5, 8, 7, 4, 9, 1]\n",
      "[0, 6, 6, 3, 5, 8, 7, 4, 9, 1]\n",
      "[0, 2, 6, 6, 5, 8, 7, 4, 9, 1]\n",
      "[0, 2, 3, 6, 6, 8, 7, 4, 9, 1]\n",
      "[0, 2, 3, 5, 6, 8, 8, 4, 9, 1]\n",
      "[0, 2, 3, 5, 6, 7, 8, 8, 9, 1]\n",
      "[0, 2, 3, 5, 6, 7, 7, 8, 9, 1]\n",
      "[0, 2, 3, 5, 6, 6, 7, 8, 9, 1]\n",
      "[0, 2, 3, 5, 5, 6, 7, 8, 9, 1]\n",
      "[0, 2, 3, 4, 5, 6, 7, 8, 9, 9]\n",
      "[0, 2, 3, 4, 5, 6, 7, 8, 8, 9]\n",
      "[0, 2, 3, 4, 5, 6, 7, 7, 8, 9]\n",
      "[0, 2, 3, 4, 5, 6, 6, 7, 8, 9]\n",
      "[0, 2, 3, 4, 5, 5, 6, 7, 8, 9]\n",
      "[0, 2, 3, 4, 4, 5, 6, 7, 8, 9]\n",
      "[0, 2, 3, 3, 4, 5, 6, 7, 8, 9]\n",
      "[0, 2, 2, 3, 4, 5, 6, 7, 8, 9]\n",
      "[0, 1, 2, 3, 4, 5, 6, 7, 8, 9]\n"
     ]
    }
   ],
   "source": [
    "import random\n",
    "random_list =  random.sample(range(10), k=10)\n",
    "print(random_list)\n",
    "insertion_sort(random_list)"
   ]
  },
  {
   "cell_type": "code",
   "execution_count": 7,
   "metadata": {
    "collapsed": false
   },
   "outputs": [
    {
     "name": "stdout",
     "output_type": "stream",
     "text": [
      "141 ms ± 3.97 ms per loop (mean ± std. dev. of 7 runs, 10 loops each)\n"
     ]
    }
   ],
   "source": [
    "%%timeit\n",
    "big_list = [x for x in range(2 ** 10)]\n",
    "big_list.reverse()\n",
    "insertion_sort(big_list)"
   ]
  },
  {
   "cell_type": "code",
   "execution_count": null,
   "metadata": {
    "collapsed": true
   },
   "outputs": [],
   "source": []
  }
 ],
 "metadata": {
  "kernelspec": {
   "display_name": "Python 3",
   "language": "python",
   "name": "python3"
  },
  "language_info": {
   "codemirror_mode": {
    "name": "ipython",
    "version": 3
   },
   "file_extension": ".py",
   "mimetype": "text/x-python",
   "name": "python",
   "nbconvert_exporter": "python",
   "pygments_lexer": "ipython3",
   "version": "3.5.4"
  }
 },
 "nbformat": 4,
 "nbformat_minor": 2
}
