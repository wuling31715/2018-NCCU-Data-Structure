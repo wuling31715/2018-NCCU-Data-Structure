{
 "cells": [
  {
   "cell_type": "markdown",
   "metadata": {},
   "source": [
    "# Insertion Sort"
   ]
  },
  {
   "cell_type": "code",
   "execution_count": 15,
   "metadata": {
    "collapsed": false
   },
   "outputs": [],
   "source": [
    "def insertion_sort(list):\n",
    "    for i in range(1, len(list)):\n",
    "        insertion_value = list[i] # 先固定 list[i] 為基準\n",
    "        j = i - 1\n",
    "        while j >= 0 and list[j] > insertion_value: # insertion_value 不斷向左比較直到起點為止\n",
    "            list[j + 1] = list[j] # 比 insertion_value 大的值向右移動\n",
    "            j -= 1 # insertion_value 向左繼續比較\n",
    "#             print(i, j, list)\n",
    "        list[j + 1] = insertion_value \n",
    "#     print(i, j, list)"
   ]
  },
  {
   "cell_type": "code",
   "execution_count": 16,
   "metadata": {
    "collapsed": false
   },
   "outputs": [
    {
     "name": "stdout",
     "output_type": "stream",
     "text": [
      "0 0 [9, 8, 7, 6, 5, 4, 3, 2, 1, 0]\n",
      "1 -1 [9, 9, 7, 6, 5, 4, 3, 2, 1, 0]\n",
      "2 0 [8, 9, 9, 6, 5, 4, 3, 2, 1, 0]\n",
      "2 -1 [8, 8, 9, 6, 5, 4, 3, 2, 1, 0]\n",
      "3 1 [7, 8, 9, 9, 5, 4, 3, 2, 1, 0]\n",
      "3 0 [7, 8, 8, 9, 5, 4, 3, 2, 1, 0]\n",
      "3 -1 [7, 7, 8, 9, 5, 4, 3, 2, 1, 0]\n",
      "4 2 [6, 7, 8, 9, 9, 4, 3, 2, 1, 0]\n",
      "4 1 [6, 7, 8, 8, 9, 4, 3, 2, 1, 0]\n",
      "4 0 [6, 7, 7, 8, 9, 4, 3, 2, 1, 0]\n",
      "4 -1 [6, 6, 7, 8, 9, 4, 3, 2, 1, 0]\n",
      "5 3 [5, 6, 7, 8, 9, 9, 3, 2, 1, 0]\n",
      "5 2 [5, 6, 7, 8, 8, 9, 3, 2, 1, 0]\n",
      "5 1 [5, 6, 7, 7, 8, 9, 3, 2, 1, 0]\n",
      "5 0 [5, 6, 6, 7, 8, 9, 3, 2, 1, 0]\n",
      "5 -1 [5, 5, 6, 7, 8, 9, 3, 2, 1, 0]\n",
      "6 4 [4, 5, 6, 7, 8, 9, 9, 2, 1, 0]\n",
      "6 3 [4, 5, 6, 7, 8, 8, 9, 2, 1, 0]\n",
      "6 2 [4, 5, 6, 7, 7, 8, 9, 2, 1, 0]\n",
      "6 1 [4, 5, 6, 6, 7, 8, 9, 2, 1, 0]\n",
      "6 0 [4, 5, 5, 6, 7, 8, 9, 2, 1, 0]\n",
      "6 -1 [4, 4, 5, 6, 7, 8, 9, 2, 1, 0]\n",
      "7 5 [3, 4, 5, 6, 7, 8, 9, 9, 1, 0]\n",
      "7 4 [3, 4, 5, 6, 7, 8, 8, 9, 1, 0]\n",
      "7 3 [3, 4, 5, 6, 7, 7, 8, 9, 1, 0]\n",
      "7 2 [3, 4, 5, 6, 6, 7, 8, 9, 1, 0]\n",
      "7 1 [3, 4, 5, 5, 6, 7, 8, 9, 1, 0]\n",
      "7 0 [3, 4, 4, 5, 6, 7, 8, 9, 1, 0]\n",
      "7 -1 [3, 3, 4, 5, 6, 7, 8, 9, 1, 0]\n",
      "8 6 [2, 3, 4, 5, 6, 7, 8, 9, 9, 0]\n",
      "8 5 [2, 3, 4, 5, 6, 7, 8, 8, 9, 0]\n",
      "8 4 [2, 3, 4, 5, 6, 7, 7, 8, 9, 0]\n",
      "8 3 [2, 3, 4, 5, 6, 6, 7, 8, 9, 0]\n",
      "8 2 [2, 3, 4, 5, 5, 6, 7, 8, 9, 0]\n",
      "8 1 [2, 3, 4, 4, 5, 6, 7, 8, 9, 0]\n",
      "8 0 [2, 3, 3, 4, 5, 6, 7, 8, 9, 0]\n",
      "8 -1 [2, 2, 3, 4, 5, 6, 7, 8, 9, 0]\n",
      "9 7 [1, 2, 3, 4, 5, 6, 7, 8, 9, 9]\n",
      "9 6 [1, 2, 3, 4, 5, 6, 7, 8, 8, 9]\n",
      "9 5 [1, 2, 3, 4, 5, 6, 7, 7, 8, 9]\n",
      "9 4 [1, 2, 3, 4, 5, 6, 6, 7, 8, 9]\n",
      "9 3 [1, 2, 3, 4, 5, 5, 6, 7, 8, 9]\n",
      "9 2 [1, 2, 3, 4, 4, 5, 6, 7, 8, 9]\n",
      "9 1 [1, 2, 3, 3, 4, 5, 6, 7, 8, 9]\n",
      "9 0 [1, 2, 2, 3, 4, 5, 6, 7, 8, 9]\n",
      "9 -1 [1, 1, 2, 3, 4, 5, 6, 7, 8, 9]\n",
      "9 -1 [0, 1, 2, 3, 4, 5, 6, 7, 8, 9]\n",
      "None\n"
     ]
    }
   ],
   "source": [
    "order_list = [x for x in range(10)]\n",
    "order_list.reverse()\n",
    "print(0, 0, order_list)\n",
    "print(insertion_sort(order_list))"
   ]
  },
  {
   "cell_type": "code",
   "execution_count": 17,
   "metadata": {
    "collapsed": false
   },
   "outputs": [
    {
     "name": "stdout",
     "output_type": "stream",
     "text": [
      "0 0 [0, 7, 5, 2, 6, 8, 9, 3, 1, 4]\n",
      "2 0 [0, 7, 7, 2, 6, 8, 9, 3, 1, 4]\n",
      "3 1 [0, 5, 7, 7, 6, 8, 9, 3, 1, 4]\n",
      "3 0 [0, 5, 5, 7, 6, 8, 9, 3, 1, 4]\n",
      "4 2 [0, 2, 5, 7, 7, 8, 9, 3, 1, 4]\n",
      "7 5 [0, 2, 5, 6, 7, 8, 9, 9, 1, 4]\n",
      "7 4 [0, 2, 5, 6, 7, 8, 8, 9, 1, 4]\n",
      "7 3 [0, 2, 5, 6, 7, 7, 8, 9, 1, 4]\n",
      "7 2 [0, 2, 5, 6, 6, 7, 8, 9, 1, 4]\n",
      "7 1 [0, 2, 5, 5, 6, 7, 8, 9, 1, 4]\n",
      "8 6 [0, 2, 3, 5, 6, 7, 8, 9, 9, 4]\n",
      "8 5 [0, 2, 3, 5, 6, 7, 8, 8, 9, 4]\n",
      "8 4 [0, 2, 3, 5, 6, 7, 7, 8, 9, 4]\n",
      "8 3 [0, 2, 3, 5, 6, 6, 7, 8, 9, 4]\n",
      "8 2 [0, 2, 3, 5, 5, 6, 7, 8, 9, 4]\n",
      "8 1 [0, 2, 3, 3, 5, 6, 7, 8, 9, 4]\n",
      "8 0 [0, 2, 2, 3, 5, 6, 7, 8, 9, 4]\n",
      "9 7 [0, 1, 2, 3, 5, 6, 7, 8, 9, 9]\n",
      "9 6 [0, 1, 2, 3, 5, 6, 7, 8, 8, 9]\n",
      "9 5 [0, 1, 2, 3, 5, 6, 7, 7, 8, 9]\n",
      "9 4 [0, 1, 2, 3, 5, 6, 6, 7, 8, 9]\n",
      "9 3 [0, 1, 2, 3, 5, 5, 6, 7, 8, 9]\n",
      "9 3 [0, 1, 2, 3, 4, 5, 6, 7, 8, 9]\n",
      "None\n"
     ]
    }
   ],
   "source": [
    "import random\n",
    "random_list =  random.sample(range(10), k=10)\n",
    "print(0, 0, random_list)\n",
    "print(insertion_sort(random_list))"
   ]
  },
  {
   "cell_type": "code",
   "execution_count": 12,
   "metadata": {
    "collapsed": false
   },
   "outputs": [
    {
     "name": "stdout",
     "output_type": "stream",
     "text": [
      "149 ms ± 5.84 ms per loop (mean ± std. dev. of 7 runs, 10 loops each)\n"
     ]
    }
   ],
   "source": [
    "%%timeit\n",
    "big_list = [x for x in range(2 ** 10)]\n",
    "big_list.reverse()\n",
    "insertion_sort(big_list)"
   ]
  },
  {
   "cell_type": "code",
   "execution_count": null,
   "metadata": {
    "collapsed": true
   },
   "outputs": [],
   "source": []
  }
 ],
 "metadata": {
  "kernelspec": {
   "display_name": "Python 3",
   "language": "python",
   "name": "python3"
  },
  "language_info": {
   "codemirror_mode": {
    "name": "ipython",
    "version": 3
   },
   "file_extension": ".py",
   "mimetype": "text/x-python",
   "name": "python",
   "nbconvert_exporter": "python",
   "pygments_lexer": "ipython3",
   "version": "3.5.4"
  }
 },
 "nbformat": 4,
 "nbformat_minor": 2
}
