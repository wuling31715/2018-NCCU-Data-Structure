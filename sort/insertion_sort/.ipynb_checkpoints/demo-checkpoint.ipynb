{
 "cells": [
  {
   "cell_type": "code",
   "execution_count": 65,
   "metadata": {
    "collapsed": true
   },
   "outputs": [],
   "source": [
    "from timer import Timer as t"
   ]
  },
  {
   "cell_type": "code",
   "execution_count": 66,
   "metadata": {
    "collapsed": true
   },
   "outputs": [],
   "source": [
    "number_list = [i for i in reversed(range(10))]"
   ]
  },
  {
   "cell_type": "code",
   "execution_count": 67,
   "metadata": {
    "collapsed": false
   },
   "outputs": [],
   "source": [
    "def insertion_sort():\n",
    "    global number_list\n",
    "    print(number_list)\n",
    "    step = 0\n",
    "    for i in range(len(number_list) - 1):\n",
    "        for j in range(0, i + 1):\n",
    "            if number_list[i + 1] < number_list[j]:\n",
    "                number_list.insert(j, number_list[i + 1])\n",
    "                number_list.pop(i + 2)\n",
    "                step += 1\n",
    "                print(number_list)\n",
    "    print('step: %d' % step)                    "
   ]
  },
  {
   "cell_type": "code",
   "execution_count": 68,
   "metadata": {
    "collapsed": true
   },
   "outputs": [],
   "source": [
    "def main():\n",
    "    insertion_sort()"
   ]
  },
  {
   "cell_type": "code",
   "execution_count": 69,
   "metadata": {
    "collapsed": false
   },
   "outputs": [
    {
     "name": "stdout",
     "output_type": "stream",
     "text": [
      "[9, 8, 7, 6, 5, 4, 3, 2, 1, 0]\n",
      "[8, 9, 7, 6, 5, 4, 3, 2, 1, 0]\n",
      "[7, 8, 9, 6, 5, 4, 3, 2, 1, 0]\n",
      "[6, 7, 8, 9, 5, 4, 3, 2, 1, 0]\n",
      "[5, 6, 7, 8, 9, 4, 3, 2, 1, 0]\n",
      "[4, 5, 6, 7, 8, 9, 3, 2, 1, 0]\n",
      "[3, 4, 5, 6, 7, 8, 9, 2, 1, 0]\n",
      "[2, 3, 4, 5, 6, 7, 8, 9, 1, 0]\n",
      "[1, 2, 3, 4, 5, 6, 7, 8, 9, 0]\n",
      "[0, 1, 2, 3, 4, 5, 6, 7, 8, 9]\n",
      "step: 9\n",
      "main(): 0:00:00.003398\n"
     ]
    }
   ],
   "source": [
    "t.count_function(main)"
   ]
  }
 ],
 "metadata": {
  "kernelspec": {
   "display_name": "Python 3",
   "language": "python",
   "name": "python3"
  },
  "language_info": {
   "codemirror_mode": {
    "name": "ipython",
    "version": 3
   },
   "file_extension": ".py",
   "mimetype": "text/x-python",
   "name": "python",
   "nbconvert_exporter": "python",
   "pygments_lexer": "ipython3",
   "version": "3.6.0"
  }
 },
 "nbformat": 4,
 "nbformat_minor": 2
}
