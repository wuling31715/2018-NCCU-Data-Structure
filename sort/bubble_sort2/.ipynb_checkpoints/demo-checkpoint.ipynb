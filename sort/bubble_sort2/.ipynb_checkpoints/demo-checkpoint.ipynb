{
 "cells": [
  {
   "cell_type": "code",
   "execution_count": 5,
   "metadata": {
    "collapsed": true
   },
   "outputs": [],
   "source": [
    "from timer import Timer as t"
   ]
  },
  {
   "cell_type": "code",
   "execution_count": 6,
   "metadata": {
    "collapsed": false
   },
   "outputs": [],
   "source": [
    "number_list = [i for i in reversed(range(10))]"
   ]
  },
  {
   "cell_type": "code",
   "execution_count": 7,
   "metadata": {
    "collapsed": true
   },
   "outputs": [],
   "source": [
    "def bubble_sort():\n",
    "    global number_list\n",
    "    print(number_list)\n",
    "    number = number_list\n",
    "    step = 0\n",
    "    for j in range(len(number)):\n",
    "        for i in reversed(range(len(number) - 1 - j)):\n",
    "            if number[i] > number[i + 1]:\n",
    "                number[i], number[i + 1] = number[i + 1], number[i]\n",
    "                step += 1\n",
    "                print(number)\n",
    "    print(number)\n",
    "    print('step: %d' % step)"
   ]
  },
  {
   "cell_type": "code",
   "execution_count": 8,
   "metadata": {
    "collapsed": true
   },
   "outputs": [],
   "source": [
    "def main():\n",
    "    bubble_sort()"
   ]
  },
  {
   "cell_type": "code",
   "execution_count": 9,
   "metadata": {
    "collapsed": false
   },
   "outputs": [
    {
     "name": "stdout",
     "output_type": "stream",
     "text": [
      "[9, 8, 7, 6, 5, 4, 3, 2, 1, 0]\n",
      "[9, 8, 7, 6, 5, 4, 3, 2, 0, 1]\n",
      "[9, 8, 7, 6, 5, 4, 3, 0, 2, 1]\n",
      "[9, 8, 7, 6, 5, 4, 0, 3, 2, 1]\n",
      "[9, 8, 7, 6, 5, 0, 4, 3, 2, 1]\n",
      "[9, 8, 7, 6, 0, 5, 4, 3, 2, 1]\n",
      "[9, 8, 7, 0, 6, 5, 4, 3, 2, 1]\n",
      "[9, 8, 0, 7, 6, 5, 4, 3, 2, 1]\n",
      "[9, 0, 8, 7, 6, 5, 4, 3, 2, 1]\n",
      "[0, 9, 8, 7, 6, 5, 4, 3, 2, 1]\n",
      "[0, 9, 8, 7, 6, 5, 4, 2, 3, 1]\n",
      "[0, 9, 8, 7, 6, 5, 2, 4, 3, 1]\n",
      "[0, 9, 8, 7, 6, 2, 5, 4, 3, 1]\n",
      "[0, 9, 8, 7, 2, 6, 5, 4, 3, 1]\n",
      "[0, 9, 8, 2, 7, 6, 5, 4, 3, 1]\n",
      "[0, 9, 2, 8, 7, 6, 5, 4, 3, 1]\n",
      "[0, 2, 9, 8, 7, 6, 5, 4, 3, 1]\n",
      "[0, 2, 9, 8, 7, 6, 4, 5, 3, 1]\n",
      "[0, 2, 9, 8, 7, 4, 6, 5, 3, 1]\n",
      "[0, 2, 9, 8, 4, 7, 6, 5, 3, 1]\n",
      "[0, 2, 9, 4, 8, 7, 6, 5, 3, 1]\n",
      "[0, 2, 4, 9, 8, 7, 6, 5, 3, 1]\n",
      "[0, 2, 4, 9, 8, 6, 7, 5, 3, 1]\n",
      "[0, 2, 4, 9, 6, 8, 7, 5, 3, 1]\n",
      "[0, 2, 4, 6, 9, 8, 7, 5, 3, 1]\n",
      "[0, 2, 4, 6, 8, 9, 7, 5, 3, 1]\n",
      "[0, 2, 4, 6, 8, 9, 7, 5, 3, 1]\n",
      "step: 25\n",
      "main(): 0:00:00.003482\n"
     ]
    }
   ],
   "source": [
    "t.count_function(main)"
   ]
  }
 ],
 "metadata": {
  "kernelspec": {
   "display_name": "Python 3",
   "language": "python",
   "name": "python3"
  },
  "language_info": {
   "codemirror_mode": {
    "name": "ipython",
    "version": 3
   },
   "file_extension": ".py",
   "mimetype": "text/x-python",
   "name": "python",
   "nbconvert_exporter": "python",
   "pygments_lexer": "ipython3",
   "version": "3.6.0"
  }
 },
 "nbformat": 4,
 "nbformat_minor": 2
}
