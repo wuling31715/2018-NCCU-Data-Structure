{
 "cells": [
  {
   "cell_type": "code",
   "execution_count": 1,
   "metadata": {
    "collapsed": true
   },
   "outputs": [],
   "source": [
    "class CircularQueue():\n",
    "    \n",
    "    def __init__(self, MAX=10):\n",
    "        self.MAX = MAX\n",
    "        self.circular_queue = [''] * MAX\n",
    "        self.rear = MAX - 1\n",
    "        self.front = MAX - 1\n",
    "        print(self.circular_queue)        \n",
    "        \n",
    "    def enqueue(self, input):\n",
    "        self.rear = (self.rear + 1) % self.MAX # 避免空間閒置，加入循環的概念\n",
    "        if self.rear == self.front:\n",
    "            if self.rear == 0:\n",
    "                self.rear = self.MAX - 1\n",
    "            else:\n",
    "                self.rear -= 1\n",
    "            print('queue overflow')\n",
    "        else:\n",
    "            self.circular_queue[self.rear] = input\n",
    "            print(self.circular_queue)\n",
    "            \n",
    "    def dequeue(self):\n",
    "        if self.front == self.rear:\n",
    "            print('queue empty')\n",
    "        else:\n",
    "            self.front = (self.front + 1) % self.MAX # 避免空間閒置，加入循環的概念\n",
    "            self.circular_queue[self.front] = ''\n",
    "            print(self.circular_queue)"
   ]
  },
  {
   "cell_type": "code",
   "execution_count": 2,
   "metadata": {},
   "outputs": [
    {
     "name": "stdout",
     "output_type": "stream",
     "text": [
      "['', '', '', '', '', '', '', '', '', '']\n"
     ]
    }
   ],
   "source": [
    "circular_queue = CircularQueue()"
   ]
  },
  {
   "cell_type": "code",
   "execution_count": 3,
   "metadata": {},
   "outputs": [
    {
     "name": "stdout",
     "output_type": "stream",
     "text": [
      "[0, '', '', '', '', '', '', '', '', '']\n",
      "[0, 1, '', '', '', '', '', '', '', '']\n",
      "[0, 1, 2, '', '', '', '', '', '', '']\n",
      "[0, 1, 2, 3, '', '', '', '', '', '']\n",
      "[0, 1, 2, 3, 4, '', '', '', '', '']\n",
      "[0, 1, 2, 3, 4, 5, '', '', '', '']\n",
      "[0, 1, 2, 3, 4, 5, 6, '', '', '']\n",
      "[0, 1, 2, 3, 4, 5, 6, 7, '', '']\n",
      "[0, 1, 2, 3, 4, 5, 6, 7, 8, '']\n",
      "queue overflow\n"
     ]
    }
   ],
   "source": [
    "circular_queue.enqueue(0)\n",
    "circular_queue.enqueue(1)\n",
    "circular_queue.enqueue(2)\n",
    "circular_queue.enqueue(3)\n",
    "circular_queue.enqueue(4)\n",
    "circular_queue.enqueue(5)\n",
    "circular_queue.enqueue(6)\n",
    "circular_queue.enqueue(7)\n",
    "circular_queue.enqueue(8)\n",
    "circular_queue.enqueue(9)"
   ]
  },
  {
   "cell_type": "code",
   "execution_count": 4,
   "metadata": {},
   "outputs": [
    {
     "name": "stdout",
     "output_type": "stream",
     "text": [
      "['', 1, 2, 3, 4, 5, 6, 7, 8, '']\n",
      "['', '', 2, 3, 4, 5, 6, 7, 8, '']\n",
      "['', '', '', 3, 4, 5, 6, 7, 8, '']\n",
      "['', '', '', '', 4, 5, 6, 7, 8, '']\n",
      "['', '', '', '', '', 5, 6, 7, 8, '']\n",
      "['', '', '', '', '', '', 6, 7, 8, '']\n",
      "['', '', '', '', '', '', '', 7, 8, '']\n",
      "['', '', '', '', '', '', '', '', 8, '']\n",
      "['', '', '', '', '', '', '', '', '', '']\n",
      "queue empty\n"
     ]
    }
   ],
   "source": [
    "circular_queue.dequeue()\n",
    "circular_queue.dequeue()\n",
    "circular_queue.dequeue()\n",
    "circular_queue.dequeue()\n",
    "circular_queue.dequeue()\n",
    "circular_queue.dequeue()\n",
    "circular_queue.dequeue()\n",
    "circular_queue.dequeue()\n",
    "circular_queue.dequeue()\n",
    "circular_queue.dequeue()"
   ]
  },
  {
   "cell_type": "code",
   "execution_count": 5,
   "metadata": {},
   "outputs": [
    {
     "name": "stdout",
     "output_type": "stream",
     "text": [
      "['', '', '', '', '', '', '', '', '', 0]\n",
      "[1, '', '', '', '', '', '', '', '', 0]\n",
      "[1, 2, '', '', '', '', '', '', '', 0]\n",
      "[1, 2, 3, '', '', '', '', '', '', 0]\n",
      "[1, 2, 3, 4, '', '', '', '', '', 0]\n",
      "[1, 2, 3, 4, 5, '', '', '', '', 0]\n",
      "[1, 2, 3, 4, 5, 6, '', '', '', 0]\n",
      "[1, 2, 3, 4, 5, 6, 7, '', '', 0]\n",
      "[1, 2, 3, 4, 5, 6, 7, 8, '', 0]\n",
      "queue overflow\n"
     ]
    }
   ],
   "source": [
    "circular_queue.enqueue(0)\n",
    "circular_queue.enqueue(1)\n",
    "circular_queue.enqueue(2)\n",
    "circular_queue.enqueue(3)\n",
    "circular_queue.enqueue(4)\n",
    "circular_queue.enqueue(5)\n",
    "circular_queue.enqueue(6)\n",
    "circular_queue.enqueue(7)\n",
    "circular_queue.enqueue(8)\n",
    "circular_queue.enqueue(9)"
   ]
  },
  {
   "cell_type": "markdown",
   "metadata": {},
   "source": [
    "* 透過「餘數」可解決空件閒置的問題，不過如果要全部填滿的話，下一次「dequeue」會發生「front == rear，造成\"queue empty\"」。因此需留下一個空間，解決辦法：設置「tag」。"
   ]
  },
  {
   "cell_type": "code",
   "execution_count": null,
   "metadata": {
    "collapsed": true
   },
   "outputs": [],
   "source": []
  }
 ],
 "metadata": {
  "kernelspec": {
   "display_name": "py3.6",
   "language": "python",
   "name": "py3.6"
  },
  "language_info": {
   "codemirror_mode": {
    "name": "ipython",
    "version": 3
   },
   "file_extension": ".py",
   "mimetype": "text/x-python",
   "name": "python",
   "nbconvert_exporter": "python",
   "pygments_lexer": "ipython3",
   "version": "3.6.0"
  }
 },
 "nbformat": 4,
 "nbformat_minor": 2
}
