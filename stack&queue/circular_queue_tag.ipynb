{
 "cells": [
  {
   "cell_type": "code",
   "execution_count": 1,
   "metadata": {
    "collapsed": true
   },
   "outputs": [],
   "source": [
    "class CircularQueueTag():\n",
    "    \n",
    "    def __init__(self, MAX=10):\n",
    "        self.MAX = MAX\n",
    "        self.circular_queue = [''] * MAX\n",
    "        self.rear = MAX - 1\n",
    "        self.front = MAX - 1\n",
    "        self.tag = 0\n",
    "        print(self.circular_queue)        \n",
    "        \n",
    "    def enqueue(self, input):\n",
    "        if self.rear == self.front and self.tag == 1:\n",
    "            print('queue overflow')\n",
    "        else:\n",
    "            self.rear = (self.rear + 1) % self.MAX # 避免空間閒置，加入循環的概念\n",
    "            self.circular_queue[self.rear] = input\n",
    "            print(self.circular_queue)\n",
    "            if self.front == self.rear:\n",
    "                self.tag = 1\n",
    "            \n",
    "    def dequeue(self):\n",
    "        if self.front == self.rear and self.tag == 0:\n",
    "            print('queue empty')\n",
    "        else:\n",
    "            self.front = (self.front + 1) % self.MAX # 避免空間閒置，加入循環的概念\n",
    "            self.circular_queue[self.front] = ''\n",
    "            print(self.circular_queue)\n",
    "            if self.front == self.rear:\n",
    "                self.tag = 0"
   ]
  },
  {
   "cell_type": "code",
   "execution_count": 2,
   "metadata": {},
   "outputs": [
    {
     "name": "stdout",
     "output_type": "stream",
     "text": [
      "['', '', '', '', '', '', '', '', '', '']\n"
     ]
    }
   ],
   "source": [
    "circular_queue_tag = CircularQueueTag()"
   ]
  },
  {
   "cell_type": "code",
   "execution_count": 3,
   "metadata": {},
   "outputs": [
    {
     "name": "stdout",
     "output_type": "stream",
     "text": [
      "[0, '', '', '', '', '', '', '', '', '']\n",
      "[0, 1, '', '', '', '', '', '', '', '']\n",
      "[0, 1, 2, '', '', '', '', '', '', '']\n",
      "[0, 1, 2, 3, '', '', '', '', '', '']\n",
      "[0, 1, 2, 3, 4, '', '', '', '', '']\n",
      "[0, 1, 2, 3, 4, 5, '', '', '', '']\n",
      "[0, 1, 2, 3, 4, 5, 6, '', '', '']\n",
      "[0, 1, 2, 3, 4, 5, 6, 7, '', '']\n",
      "[0, 1, 2, 3, 4, 5, 6, 7, 8, '']\n",
      "[0, 1, 2, 3, 4, 5, 6, 7, 8, 9]\n"
     ]
    }
   ],
   "source": [
    "circular_queue_tag.enqueue(0)\n",
    "circular_queue_tag.enqueue(1)\n",
    "circular_queue_tag.enqueue(2)\n",
    "circular_queue_tag.enqueue(3)\n",
    "circular_queue_tag.enqueue(4)\n",
    "circular_queue_tag.enqueue(5)\n",
    "circular_queue_tag.enqueue(6)\n",
    "circular_queue_tag.enqueue(7)\n",
    "circular_queue_tag.enqueue(8)\n",
    "circular_queue_tag.enqueue(9)"
   ]
  },
  {
   "cell_type": "code",
   "execution_count": 4,
   "metadata": {},
   "outputs": [
    {
     "name": "stdout",
     "output_type": "stream",
     "text": [
      "['', 1, 2, 3, 4, 5, 6, 7, 8, 9]\n",
      "['', '', 2, 3, 4, 5, 6, 7, 8, 9]\n",
      "['', '', '', 3, 4, 5, 6, 7, 8, 9]\n",
      "['', '', '', '', 4, 5, 6, 7, 8, 9]\n",
      "['', '', '', '', '', 5, 6, 7, 8, 9]\n",
      "['', '', '', '', '', '', 6, 7, 8, 9]\n",
      "['', '', '', '', '', '', '', 7, 8, 9]\n",
      "['', '', '', '', '', '', '', '', 8, 9]\n",
      "['', '', '', '', '', '', '', '', '', 9]\n",
      "['', '', '', '', '', '', '', '', '', '']\n"
     ]
    }
   ],
   "source": [
    "circular_queue_tag.dequeue()\n",
    "circular_queue_tag.dequeue()\n",
    "circular_queue_tag.dequeue()\n",
    "circular_queue_tag.dequeue()\n",
    "circular_queue_tag.dequeue()\n",
    "circular_queue_tag.dequeue()\n",
    "circular_queue_tag.dequeue()\n",
    "circular_queue_tag.dequeue()\n",
    "circular_queue_tag.dequeue()\n",
    "circular_queue_tag.dequeue()"
   ]
  },
  {
   "cell_type": "code",
   "execution_count": 5,
   "metadata": {},
   "outputs": [
    {
     "name": "stdout",
     "output_type": "stream",
     "text": [
      "[0, '', '', '', '', '', '', '', '', '']\n",
      "[0, 1, '', '', '', '', '', '', '', '']\n",
      "[0, 1, 2, '', '', '', '', '', '', '']\n",
      "[0, 1, 2, 3, '', '', '', '', '', '']\n",
      "[0, 1, 2, 3, 4, '', '', '', '', '']\n",
      "[0, 1, 2, 3, 4, 5, '', '', '', '']\n",
      "[0, 1, 2, 3, 4, 5, 6, '', '', '']\n",
      "[0, 1, 2, 3, 4, 5, 6, 7, '', '']\n",
      "[0, 1, 2, 3, 4, 5, 6, 7, 8, '']\n",
      "[0, 1, 2, 3, 4, 5, 6, 7, 8, 9]\n"
     ]
    }
   ],
   "source": [
    "circular_queue_tag.enqueue(0)\n",
    "circular_queue_tag.enqueue(1)\n",
    "circular_queue_tag.enqueue(2)\n",
    "circular_queue_tag.enqueue(3)\n",
    "circular_queue_tag.enqueue(4)\n",
    "circular_queue_tag.enqueue(5)\n",
    "circular_queue_tag.enqueue(6)\n",
    "circular_queue_tag.enqueue(7)\n",
    "circular_queue_tag.enqueue(8)\n",
    "circular_queue_tag.enqueue(9)"
   ]
  },
  {
   "cell_type": "markdown",
   "metadata": {
    "collapsed": true
   },
   "source": [
    "* Whether to add a tag or not is the \"Trade Off\" between time and space."
   ]
  },
  {
   "cell_type": "code",
   "execution_count": null,
   "metadata": {
    "collapsed": true
   },
   "outputs": [],
   "source": []
  }
 ],
 "metadata": {
  "kernelspec": {
   "display_name": "py3.6",
   "language": "python",
   "name": "py3.6"
  },
  "language_info": {
   "codemirror_mode": {
    "name": "ipython",
    "version": 3
   },
   "file_extension": ".py",
   "mimetype": "text/x-python",
   "name": "python",
   "nbconvert_exporter": "python",
   "pygments_lexer": "ipython3",
   "version": "3.6.0"
  }
 },
 "nbformat": 4,
 "nbformat_minor": 2
}
