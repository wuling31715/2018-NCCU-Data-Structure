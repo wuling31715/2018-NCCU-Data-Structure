{
 "cells": [
  {
   "cell_type": "code",
   "execution_count": 1,
   "metadata": {},
   "outputs": [],
   "source": [
    "class Stack():\n",
    "    \n",
    "    def __init__(self, MAX=10):\n",
    "        self.MAX = MAX\n",
    "        self.stack = [''] * MAX\n",
    "        self.top = -1\n",
    "        print(self.stack)\n",
    "        \n",
    "    def push(self, data):\n",
    "        if self.top >= self.MAX - 1:\n",
    "            print('stack overflow')\n",
    "        else:            \n",
    "            self.top += 1\n",
    "            self.stack[self.top] = data\n",
    "            print(self.stack)\n",
    "            \n",
    "    def pop(self):\n",
    "        if self.top < 0:\n",
    "            print('stack empty')\n",
    "        else:\n",
    "            self.stack[self.top] = ''\n",
    "            self.top -= 1\n",
    "            print(self.stack)            "
   ]
  },
  {
   "cell_type": "code",
   "execution_count": 2,
   "metadata": {},
   "outputs": [],
   "source": [
    "stack = Stack()"
   ]
  },
  {
   "cell_type": "code",
   "execution_count": 3,
   "metadata": {},
   "outputs": [
    {
     "name": "stdout",
     "output_type": "stream",
     "text": [
      "[0, '', '', '', '', '', '', '', '', '']\n",
      "[0, 1, '', '', '', '', '', '', '', '']\n",
      "[0, 1, 2, '', '', '', '', '', '', '']\n",
      "[0, 1, 2, 3, '', '', '', '', '', '']\n",
      "[0, 1, 2, 3, 4, '', '', '', '', '']\n",
      "[0, 1, 2, 3, 4, 5, '', '', '', '']\n",
      "[0, 1, 2, 3, 4, 5, 6, '', '', '']\n",
      "[0, 1, 2, 3, 4, 5, 6, 7, '', '']\n",
      "[0, 1, 2, 3, 4, 5, 6, 7, 8, '']\n",
      "[0, 1, 2, 3, 4, 5, 6, 7, 8, 9]\n",
      "stack overflow\n"
     ]
    }
   ],
   "source": [
    "for i in range(11):\n",
    "    stack.push(i)"
   ]
  },
  {
   "cell_type": "code",
   "execution_count": 4,
   "metadata": {},
   "outputs": [
    {
     "name": "stdout",
     "output_type": "stream",
     "text": [
      "[0, 1, 2, 3, 4, 5, 6, 7, 8, '']\n",
      "[0, 1, 2, 3, 4, 5, 6, 7, '', '']\n",
      "[0, 1, 2, 3, 4, 5, 6, '', '', '']\n",
      "[0, 1, 2, 3, 4, 5, '', '', '', '']\n",
      "[0, 1, 2, 3, 4, '', '', '', '', '']\n",
      "[0, 1, 2, 3, '', '', '', '', '', '']\n",
      "[0, 1, 2, '', '', '', '', '', '', '']\n",
      "[0, 1, '', '', '', '', '', '', '', '']\n",
      "[0, '', '', '', '', '', '', '', '', '']\n",
      "['', '', '', '', '', '', '', '', '', '']\n",
      "stack empty\n"
     ]
    }
   ],
   "source": [
    "for i in range(11):\n",
    "    stack.pop()"
   ]
  },
  {
   "cell_type": "code",
   "execution_count": null,
   "metadata": {},
   "outputs": [],
   "source": []
  }
 ],
 "metadata": {
  "kernelspec": {
   "display_name": "py3.6",
   "language": "python",
   "name": "py3.6"
  },
  "language_info": {
   "codemirror_mode": {
    "name": "ipython",
    "version": 3
   },
   "file_extension": ".py",
   "mimetype": "text/x-python",
   "name": "python",
   "nbconvert_exporter": "python",
   "pygments_lexer": "ipython3",
   "version": "3.6.0"
  }
 },
 "nbformat": 4,
 "nbformat_minor": 2
}
