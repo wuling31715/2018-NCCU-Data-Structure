{
 "cells": [
  {
   "cell_type": "code",
   "execution_count": 1,
   "metadata": {},
   "outputs": [],
   "source": [
    "class Array:\n",
    "    \n",
    "    def __init__(self, array):\n",
    "        self.array = sorted(array)\n",
    "        self.max_index = len(self.array) - 1\n",
    "        self.min_index = 0\n",
    "        self.middle_index = (self.max_index + self.min_index) // 2\n",
    "        \n",
    "    def search(self, max_index, min_index, key):     \n",
    "        middle_index = (max_index + min_index) // 2\n",
    "        print(middle_index)\n",
    "        if key == self.array[middle_index]:\n",
    "            return True\n",
    "        elif key > self.array[middle_index]:\n",
    "            min_index = middle_index + 1\n",
    "            if max_index >= min_index:\n",
    "                return self.search(max_index, min_index, key)\n",
    "            else:\n",
    "                return False\n",
    "        elif key < self.array[middle_index]:\n",
    "            max_index = middle_index - 1\n",
    "            if max_index >= min_index:                \n",
    "                return self.search(max_index, min_index, key)\n",
    "            else:\n",
    "                return False"
   ]
  },
  {
   "cell_type": "code",
   "execution_count": 2,
   "metadata": {},
   "outputs": [
    {
     "name": "stdout",
     "output_type": "stream",
     "text": [
      "[0, 1, 2, 3, 4, 5, 6, 7, 8, 9]\n"
     ]
    }
   ],
   "source": [
    "array = Array([i for i in range(10)])\n",
    "print(array.array)"
   ]
  },
  {
   "cell_type": "code",
   "execution_count": 3,
   "metadata": {},
   "outputs": [
    {
     "name": "stdout",
     "output_type": "stream",
     "text": [
      "4\n",
      "True\n"
     ]
    }
   ],
   "source": [
    "print(array.search(array.max_index, array.min_index, 4))"
   ]
  },
  {
   "cell_type": "code",
   "execution_count": 4,
   "metadata": {},
   "outputs": [
    {
     "name": "stdout",
     "output_type": "stream",
     "text": [
      "4\n",
      "1\n",
      "2\n",
      "3\n",
      "True\n"
     ]
    }
   ],
   "source": [
    "print(array.search(array.max_index, array.min_index, 3))"
   ]
  },
  {
   "cell_type": "code",
   "execution_count": 5,
   "metadata": {},
   "outputs": [
    {
     "name": "stdout",
     "output_type": "stream",
     "text": [
      "4\n",
      "1\n",
      "2\n",
      "True\n"
     ]
    }
   ],
   "source": [
    "print(array.search(array.max_index, array.min_index, 2))"
   ]
  },
  {
   "cell_type": "code",
   "execution_count": 6,
   "metadata": {},
   "outputs": [
    {
     "name": "stdout",
     "output_type": "stream",
     "text": [
      "4\n",
      "1\n",
      "True\n"
     ]
    }
   ],
   "source": [
    "print(array.search(array.max_index, array.min_index, 1))"
   ]
  },
  {
   "cell_type": "code",
   "execution_count": 7,
   "metadata": {},
   "outputs": [
    {
     "name": "stdout",
     "output_type": "stream",
     "text": [
      "4\n",
      "1\n",
      "0\n",
      "True\n"
     ]
    }
   ],
   "source": [
    "print(array.search(array.max_index, array.min_index, 0))"
   ]
  },
  {
   "cell_type": "code",
   "execution_count": 8,
   "metadata": {},
   "outputs": [
    {
     "name": "stdout",
     "output_type": "stream",
     "text": [
      "4\n",
      "1\n",
      "0\n",
      "False\n"
     ]
    }
   ],
   "source": [
    "print(array.search(array.max_index, array.min_index, -1))"
   ]
  },
  {
   "cell_type": "raw",
   "metadata": {
    "collapsed": true
   },
   "source": []
  }
 ],
 "metadata": {
  "kernelspec": {
   "display_name": "py3.6",
   "language": "python",
   "name": "py3.6"
  },
  "language_info": {
   "codemirror_mode": {
    "name": "ipython",
    "version": 3
   },
   "file_extension": ".py",
   "mimetype": "text/x-python",
   "name": "python",
   "nbconvert_exporter": "python",
   "pygments_lexer": "ipython3",
   "version": "3.6.0"
  }
 },
 "nbformat": 4,
 "nbformat_minor": 2
}
