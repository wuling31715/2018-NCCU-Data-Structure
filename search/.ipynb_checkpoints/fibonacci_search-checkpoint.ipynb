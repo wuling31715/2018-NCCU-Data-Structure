{
 "cells": [
  {
   "cell_type": "code",
   "execution_count": 1,
   "metadata": {},
   "outputs": [],
   "source": [
    "class Array:\n",
    "    \n",
    "    def __init__(self, array):\n",
    "        self.array = sorted(array)\n",
    "        self.n = len(array)\n",
    "        self.fibonacci_array = list()\n",
    "        for i in range(self.n+2): # make fibonacci number >= size of array\n",
    "            self.fibonacci_array.append(self.fibonacci(i))        \n",
    "        \n",
    "    def fibonacci(self, n):\n",
    "        if n == 0:\n",
    "            return 0\n",
    "        elif n == 1:\n",
    "            return 1\n",
    "        else:\n",
    "            return self.fibonacci(n - 1) + self.fibonacci(n - 2)\n",
    "        \n",
    "    def search(self, array, key):\n",
    "        print(array)\n",
    "        n = len(array)\n",
    "        for i, j in enumerate(self.fibonacci_array):\n",
    "            if self.fibonacci_array[i-1] < n and self.fibonacci_array[i] >= n:\n",
    "                indekey = self.fibonacci_array[i-1]\n",
    "        if array[indekey] == key:\n",
    "            return True\n",
    "        elif array[indekey] < key:\n",
    "            if indekey == 0:\n",
    "                return False\n",
    "            else:\n",
    "                return self.search(self.array[indekey+1:], key)\n",
    "        elif array[indekey] > key:\n",
    "            if indekey == 0:\n",
    "                return False\n",
    "            else:\n",
    "                return self.search(self.array[:indekey], key)\n",
    "        else:\n",
    "            return False"
   ]
  },
  {
   "cell_type": "code",
   "execution_count": 2,
   "metadata": {},
   "outputs": [
    {
     "name": "stdout",
     "output_type": "stream",
     "text": [
      "[0, 1, 2, 3, 4]\n"
     ]
    }
   ],
   "source": [
    "array = Array([i for i in range(5)])\n",
    "print(array.array)"
   ]
  },
  {
   "cell_type": "code",
   "execution_count": 3,
   "metadata": {},
   "outputs": [
    {
     "name": "stdout",
     "output_type": "stream",
     "text": [
      "[0, 1, 2, 3, 4]\n",
      "True\n"
     ]
    }
   ],
   "source": [
    "print(array.search(array.array, 3))"
   ]
  },
  {
   "cell_type": "code",
   "execution_count": 4,
   "metadata": {},
   "outputs": [
    {
     "name": "stdout",
     "output_type": "stream",
     "text": [
      "[0, 1, 2, 3, 4]\n",
      "[4]\n",
      "True\n"
     ]
    }
   ],
   "source": [
    "print(array.search(array.array, 4))"
   ]
  },
  {
   "cell_type": "code",
   "execution_count": 5,
   "metadata": {},
   "outputs": [
    {
     "name": "stdout",
     "output_type": "stream",
     "text": [
      "[0, 1, 2, 3, 4]\n",
      "[0, 1, 2]\n",
      "True\n"
     ]
    }
   ],
   "source": [
    "print(array.search(array.array, 2))"
   ]
  },
  {
   "cell_type": "code",
   "execution_count": 6,
   "metadata": {},
   "outputs": [
    {
     "name": "stdout",
     "output_type": "stream",
     "text": [
      "[0, 1, 2, 3, 4]\n",
      "[0, 1, 2]\n",
      "[0, 1]\n",
      "True\n"
     ]
    }
   ],
   "source": [
    "print(array.search(array.array, 1))"
   ]
  },
  {
   "cell_type": "code",
   "execution_count": 7,
   "metadata": {},
   "outputs": [
    {
     "name": "stdout",
     "output_type": "stream",
     "text": [
      "[0, 1, 2, 3, 4]\n",
      "[0, 1, 2]\n",
      "[0, 1]\n",
      "[0]\n",
      "True\n"
     ]
    }
   ],
   "source": [
    "print(array.search(array.array, 0))"
   ]
  },
  {
   "cell_type": "code",
   "execution_count": 8,
   "metadata": {},
   "outputs": [
    {
     "name": "stdout",
     "output_type": "stream",
     "text": [
      "[0, 1, 2, 3, 4]\n",
      "[0, 1, 2]\n",
      "[0, 1]\n",
      "[0]\n",
      "False\n"
     ]
    }
   ],
   "source": [
    "print(array.search(array.array, -1))"
   ]
  },
  {
   "cell_type": "code",
   "execution_count": null,
   "metadata": {},
   "outputs": [],
   "source": []
  }
 ],
 "metadata": {
  "kernelspec": {
   "display_name": "py3.6",
   "language": "python",
   "name": "py3.6"
  },
  "language_info": {
   "codemirror_mode": {
    "name": "ipython",
    "version": 3
   },
   "file_extension": ".py",
   "mimetype": "text/x-python",
   "name": "python",
   "nbconvert_exporter": "python",
   "pygments_lexer": "ipython3",
   "version": "3.6.0"
  }
 },
 "nbformat": 4,
 "nbformat_minor": 2
}
