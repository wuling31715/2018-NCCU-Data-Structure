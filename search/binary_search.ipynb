{
 "cells": [
  {
   "cell_type": "code",
   "execution_count": 1,
   "metadata": {
    "collapsed": true
   },
   "outputs": [],
   "source": [
    "class Array:\n",
    "    \n",
    "    def __init__(self, array):\n",
    "        self.array = sorted(array)\n",
    "        self.max_index = len(self.array) - 1\n",
    "        self.min_index = 0\n",
    "        self.middle_index = (self.max_index + self.min_index) // 2\n",
    "        \n",
    "    def search(self, middle_index, x):         \n",
    "        if (x > self.array[middle_index]) and (middle_index != self.max_index):\n",
    "            middle_index = (middle_index + self.max_index) // 2 + 1\n",
    "            return self.search(middle_index, x)\n",
    "        elif (x < self.array[middle_index]) and (middle_index != self.min_index):\n",
    "            middle_index = (middle_index + self.min_index) // 2 \n",
    "            return self.search(middle_index, x)     \n",
    "        elif x == self.array[middle_index]:\n",
    "            return True\n",
    "        else:            \n",
    "            return False"
   ]
  },
  {
   "cell_type": "code",
   "execution_count": 2,
   "metadata": {},
   "outputs": [],
   "source": [
    "array = Array([0, 1, 2])"
   ]
  },
  {
   "cell_type": "code",
   "execution_count": 3,
   "metadata": {},
   "outputs": [
    {
     "data": {
      "text/plain": [
       "True"
      ]
     },
     "execution_count": 3,
     "metadata": {},
     "output_type": "execute_result"
    }
   ],
   "source": [
    "array.search(array.middle_index, 2)"
   ]
  },
  {
   "cell_type": "code",
   "execution_count": 4,
   "metadata": {},
   "outputs": [
    {
     "data": {
      "text/plain": [
       "False"
      ]
     },
     "execution_count": 4,
     "metadata": {},
     "output_type": "execute_result"
    }
   ],
   "source": [
    "array.search(array.middle_index, 3)"
   ]
  },
  {
   "cell_type": "code",
   "execution_count": null,
   "metadata": {
    "collapsed": true
   },
   "outputs": [],
   "source": []
  }
 ],
 "metadata": {
  "kernelspec": {
   "display_name": "py3.6",
   "language": "python",
   "name": "py3.6"
  },
  "language_info": {
   "codemirror_mode": {
    "name": "ipython",
    "version": 3
   },
   "file_extension": ".py",
   "mimetype": "text/x-python",
   "name": "python",
   "nbconvert_exporter": "python",
   "pygments_lexer": "ipython3",
   "version": "3.6.0"
  }
 },
 "nbformat": 4,
 "nbformat_minor": 2
}
