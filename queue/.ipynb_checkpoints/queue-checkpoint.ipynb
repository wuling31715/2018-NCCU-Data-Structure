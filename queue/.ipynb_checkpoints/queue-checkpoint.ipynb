{
 "cells": [
  {
   "cell_type": "code",
   "execution_count": 1,
   "metadata": {
    "collapsed": true
   },
   "outputs": [],
   "source": [
    "class Queue():\n",
    "    \n",
    "    def __init__(self, MAX=10):\n",
    "        self.MAX = MAX\n",
    "        self.queue = [''] * MAX\n",
    "        self.rear = -1\n",
    "        self.front = 0\n",
    "        print(self.queue)\n",
    "        \n",
    "    def enqueue(self, input):\n",
    "        if self.rear >= self.MAX - 1:\n",
    "            print('queue overflow')\n",
    "        else:\n",
    "            self.rear += 1\n",
    "            self.queue[self.rear] = input\n",
    "            print(self.queue)\n",
    "            \n",
    "    def dequeue(self):\n",
    "        if self.front > self.rear:\n",
    "            print('queue empty')\n",
    "        else:\n",
    "            self.queue[self.front] = ''\n",
    "            self.front += 1\n",
    "            print(self.queue)"
   ]
  },
  {
   "cell_type": "code",
   "execution_count": 2,
   "metadata": {},
   "outputs": [
    {
     "name": "stdout",
     "output_type": "stream",
     "text": [
      "['', '', '', '', '', '', '', '', '', '']\n"
     ]
    }
   ],
   "source": [
    "queue = Queue()"
   ]
  },
  {
   "cell_type": "code",
   "execution_count": 3,
   "metadata": {},
   "outputs": [
    {
     "name": "stdout",
     "output_type": "stream",
     "text": [
      "[0, '', '', '', '', '', '', '', '', '']\n",
      "[0, 1, '', '', '', '', '', '', '', '']\n",
      "[0, 1, 2, '', '', '', '', '', '', '']\n",
      "[0, 1, 2, 3, '', '', '', '', '', '']\n",
      "[0, 1, 2, 3, 4, '', '', '', '', '']\n",
      "[0, 1, 2, 3, 4, 5, '', '', '', '']\n",
      "[0, 1, 2, 3, 4, 5, 6, '', '', '']\n",
      "[0, 1, 2, 3, 4, 5, 6, 7, '', '']\n",
      "[0, 1, 2, 3, 4, 5, 6, 7, 8, '']\n",
      "[0, 1, 2, 3, 4, 5, 6, 7, 8, 9]\n",
      "queue overflow\n"
     ]
    }
   ],
   "source": [
    "queue.enqueue(0)\n",
    "queue.enqueue(1)\n",
    "queue.enqueue(2)\n",
    "queue.enqueue(3)\n",
    "queue.enqueue(4)\n",
    "queue.enqueue(5)\n",
    "queue.enqueue(6)\n",
    "queue.enqueue(7)\n",
    "queue.enqueue(8)\n",
    "queue.enqueue(9)\n",
    "queue.enqueue(10)"
   ]
  },
  {
   "cell_type": "code",
   "execution_count": 4,
   "metadata": {},
   "outputs": [
    {
     "name": "stdout",
     "output_type": "stream",
     "text": [
      "['', 1, 2, 3, 4, 5, 6, 7, 8, 9]\n",
      "['', '', 2, 3, 4, 5, 6, 7, 8, 9]\n",
      "['', '', '', 3, 4, 5, 6, 7, 8, 9]\n",
      "['', '', '', '', 4, 5, 6, 7, 8, 9]\n",
      "['', '', '', '', '', 5, 6, 7, 8, 9]\n",
      "['', '', '', '', '', '', 6, 7, 8, 9]\n",
      "['', '', '', '', '', '', '', 7, 8, 9]\n",
      "['', '', '', '', '', '', '', '', 8, 9]\n",
      "['', '', '', '', '', '', '', '', '', 9]\n",
      "['', '', '', '', '', '', '', '', '', '']\n",
      "queue empty\n"
     ]
    }
   ],
   "source": [
    "queue.dequeue()\n",
    "queue.dequeue()\n",
    "queue.dequeue()\n",
    "queue.dequeue()\n",
    "queue.dequeue()\n",
    "queue.dequeue()\n",
    "queue.dequeue()\n",
    "queue.dequeue()\n",
    "queue.dequeue()\n",
    "queue.dequeue()\n",
    "queue.dequeue()"
   ]
  },
  {
   "cell_type": "code",
   "execution_count": 5,
   "metadata": {},
   "outputs": [
    {
     "name": "stdout",
     "output_type": "stream",
     "text": [
      "queue overflow\n"
     ]
    }
   ],
   "source": [
    "queue.enqueue(0)"
   ]
  },
  {
   "cell_type": "markdown",
   "metadata": {},
   "source": [
    "* 有多餘的閒置空間卻無法被重複使用，解決辦法：「Circular Queue」。"
   ]
  },
  {
   "cell_type": "code",
   "execution_count": null,
   "metadata": {
    "collapsed": true
   },
   "outputs": [],
   "source": []
  }
 ],
 "metadata": {
  "kernelspec": {
   "display_name": "py3.6",
   "language": "python",
   "name": "py3.6"
  },
  "language_info": {
   "codemirror_mode": {
    "name": "ipython",
    "version": 3
   },
   "file_extension": ".py",
   "mimetype": "text/x-python",
   "name": "python",
   "nbconvert_exporter": "python",
   "pygments_lexer": "ipython3",
   "version": "3.6.0"
  }
 },
 "nbformat": 4,
 "nbformat_minor": 2
}
