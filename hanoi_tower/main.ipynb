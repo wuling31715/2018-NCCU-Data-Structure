{
 "cells": [
  {
   "cell_type": "code",
   "execution_count": 16,
   "metadata": {
    "collapsed": false
   },
   "outputs": [
    {
     "name": "stdout",
     "output_type": "stream",
     "text": [
      "N: 3\n",
      "\n",
      "n: 3 (tracking)\n",
      "n: 2 (tracking)\n",
      "n: 1 (tracking)\n",
      "('A', [3, 2, 1])\n",
      "('B', [])\n",
      "('C', [])\n",
      "\n",
      "1 from A to C\n",
      "('A', [3, 2])\n",
      "('B', [])\n",
      "('C', [1])\n",
      "\n",
      "2 from A to B\n",
      "n: 1 (tracking)\n",
      "('A', [3])\n",
      "('B', [2])\n",
      "('C', [1])\n",
      "\n",
      "1 from C to B\n",
      "('A', [3])\n",
      "('B', [2, 1])\n",
      "('C', [])\n",
      "\n",
      "3 from A to C\n",
      "n: 2 (tracking)\n",
      "n: 1 (tracking)\n",
      "('A', [])\n",
      "('B', [2, 1])\n",
      "('C', [3])\n",
      "\n",
      "1 from B to A\n",
      "('A', [1])\n",
      "('B', [2])\n",
      "('C', [3])\n",
      "\n",
      "2 from B to C\n",
      "n: 1 (tracking)\n",
      "('A', [1])\n",
      "('B', [])\n",
      "('C', [3, 2])\n",
      "\n",
      "1 from A to C\n",
      "('A', [])\n",
      "('B', [])\n",
      "('C', [3, 2, 1])\n",
      "\n",
      "total steps: 7\n"
     ]
    }
   ],
   "source": [
    "global step\n",
    "step = 0\n",
    "\n",
    "def hanoi(n, A, B, C):\n",
    "    if n > 0:\n",
    "        print('n: %d (tracking)' % n)\n",
    "        hanoi(n - 1, A, C, B) # A to B\n",
    "        sort_disk(A, B, C)\n",
    "        if A[1]:\n",
    "            disk = A[1].pop() # [0] = letter, [1] = list\n",
    "            print(str(disk) + \" is moving from \" + A[0] + \" to \" + C[0])\n",
    "            C[1].append(disk) # A to C\n",
    "            global step\n",
    "            step += 1\n",
    "        hanoi(n - 1, B, A, C) # B to C\n",
    "\n",
    "def sort_disk(A, B, C):\n",
    "    a = str(A)\n",
    "    b = str(B)\n",
    "    c = str(C)\n",
    "    if A[0] == 'A' and B[0] == 'B':\n",
    "        print('%s\\n%s\\n%s' % (a, b, c))\n",
    "    elif A[0] == 'A' and B[0] =='C':\n",
    "        print('%s\\n%s\\n%s' % (a, c, b))\n",
    "    elif A[0] == 'C' and B[0] =='B':\n",
    "        print('%s\\n%s\\n%s' % (c, b, a))\n",
    "    elif A[0] == 'B' and B[0] =='A':\n",
    "        print('%s\\n%s\\n%s' % (b, a, c))\n",
    "    elif A[0] == 'C' and B[0] =='A':\n",
    "        print('%s\\n%s\\n%s' % (b, c, a))\n",
    "    elif A[0] == 'B' and B[0] =='C':\n",
    "        print('%s\\n%s\\n%s' % (c, a, b))\n",
    "    print()    \n",
    "        \n",
    "def main():\n",
    "    N = int(input('N: '))\n",
    "    print()\n",
    "    A = ([i for i in range(1, N + 1)])\n",
    "    A = (\"A\", A[: : -1])\n",
    "    B = (\"B\", [])\n",
    "    C = (\"C\", [])\n",
    "    hanoi(N, A, B, C)\n",
    "    sort_disk(A, B, C)\n",
    "    print('total steps: %d' % step)    \n",
    "\n",
    "main()"
   ]
  },
  {
   "cell_type": "code",
   "execution_count": null,
   "metadata": {
    "collapsed": true
   },
   "outputs": [],
   "source": []
  }
 ],
 "metadata": {
  "kernelspec": {
   "display_name": "Python 3",
   "language": "python",
   "name": "python3"
  },
  "language_info": {
   "codemirror_mode": {
    "name": "ipython",
    "version": 3
   },
   "file_extension": ".py",
   "mimetype": "text/x-python",
   "name": "python",
   "nbconvert_exporter": "python",
   "pygments_lexer": "ipython3",
   "version": "3.6.0"
  }
 },
 "nbformat": 4,
 "nbformat_minor": 2
}
