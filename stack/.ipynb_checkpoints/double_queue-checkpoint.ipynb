{
 "cells": [
  {
   "cell_type": "code",
   "execution_count": 1,
   "metadata": {},
   "outputs": [],
   "source": [
    "class DoubleQueue:\n",
    "    \n",
    "    def __init__(self, n=10):\n",
    "        self.n = n\n",
    "        self.queue = [''] * n\n",
    "        self.rear1 = -1\n",
    "        self.front1 = -1\n",
    "        self.rear2 = n\n",
    "        self.front2 = n\n",
    "        print(self.queue)\n",
    "        \n",
    "    def enqueue(self, data, left_in):\n",
    "        if left_in:\n",
    "            self.rear1 += 1\n",
    "            if self.rear1 == self.rear2:\n",
    "                print('queue overflow')\n",
    "            else:\n",
    "                self.queue[self.rear1] = data\n",
    "                print(self.queue)\n",
    "        else: # right_in\n",
    "            self.rear2 -= 1\n",
    "            if self.rear2 == self.rear1:\n",
    "                print('queue overflow')\n",
    "            else:\n",
    "                self.queue[self.rear2] = data\n",
    "                print(self.queue)\n",
    "        \n",
    "    def dequeue(self, left_out):\n",
    "        if left_out:\n",
    "            self.front1 += 1\n",
    "            if self.front1 == self.rear1:\n",
    "                print('queue empty')\n",
    "            else:\n",
    "                self.queue[self.front1] = ''\n",
    "                print(self.queue)\n",
    "        else: # right out\n",
    "            self.front2 -= 1\n",
    "            if self.front2 == self.rear2:\n",
    "                print('queue empty')\n",
    "            else:\n",
    "                self.queue[self.front2] = ''        \n",
    "                print(self.queue)"
   ]
  },
  {
   "cell_type": "code",
   "execution_count": 2,
   "metadata": {},
   "outputs": [
    {
     "name": "stdout",
     "output_type": "stream",
     "text": [
      "['', '', '', '', '', '', '', '', '', '']\n"
     ]
    }
   ],
   "source": [
    "double_queue = DoubleQueue()"
   ]
  },
  {
   "cell_type": "code",
   "execution_count": 3,
   "metadata": {},
   "outputs": [
    {
     "name": "stdout",
     "output_type": "stream",
     "text": [
      "[0, '', '', '', '', '', '', '', '', '']\n",
      "[0, '', '', '', '', '', '', '', '', 1]\n",
      "[0, 2, '', '', '', '', '', '', '', 1]\n",
      "[0, 2, '', '', '', '', '', '', 3, 1]\n",
      "[0, 2, 4, '', '', '', '', '', 3, 1]\n",
      "[0, 2, 4, '', '', '', '', 5, 3, 1]\n",
      "[0, 2, 4, 6, '', '', '', 5, 3, 1]\n",
      "[0, 2, 4, 6, '', '', 7, 5, 3, 1]\n",
      "[0, 2, 4, 6, 8, '', 7, 5, 3, 1]\n",
      "[0, 2, 4, 6, 8, 9, 7, 5, 3, 1]\n",
      "queue overflow\n"
     ]
    }
   ],
   "source": [
    "for i in range(11):\n",
    "    if i % 2 == 0:\n",
    "        left_in = True\n",
    "        double_queue.enqueue(i, left_in)\n",
    "    else:\n",
    "        left_in = False\n",
    "        double_queue.enqueue(i, left_in)"
   ]
  },
  {
   "cell_type": "code",
   "execution_count": 4,
   "metadata": {},
   "outputs": [
    {
     "name": "stdout",
     "output_type": "stream",
     "text": [
      "['', 2, 4, 6, 8, 9, 7, 5, 3, 1]\n",
      "['', 2, 4, 6, 8, 9, 7, 5, 3, '']\n",
      "['', '', 4, 6, 8, 9, 7, 5, 3, '']\n",
      "['', '', 4, 6, 8, 9, 7, 5, '', '']\n",
      "['', '', '', 6, 8, 9, 7, 5, '', '']\n",
      "['', '', '', 6, 8, 9, 7, '', '', '']\n",
      "['', '', '', '', 8, 9, 7, '', '', '']\n",
      "['', '', '', '', 8, 9, '', '', '', '']\n",
      "['', '', '', '', '', 9, '', '', '', '']\n",
      "queue empty\n",
      "queue empty\n"
     ]
    }
   ],
   "source": [
    "for i in range(11):\n",
    "    if i % 2 == 0:\n",
    "        left_in = True\n",
    "        double_queue.dequeue(left_in)\n",
    "    else:\n",
    "        left_in = False\n",
    "        double_queue.dequeue(left_in)"
   ]
  },
  {
   "cell_type": "code",
   "execution_count": null,
   "metadata": {},
   "outputs": [],
   "source": []
  }
 ],
 "metadata": {
  "kernelspec": {
   "display_name": "py3.6",
   "language": "python",
   "name": "py3.6"
  },
  "language_info": {
   "codemirror_mode": {
    "name": "ipython",
    "version": 3
   },
   "file_extension": ".py",
   "mimetype": "text/x-python",
   "name": "python",
   "nbconvert_exporter": "python",
   "pygments_lexer": "ipython3",
   "version": "3.6.0"
  }
 },
 "nbformat": 4,
 "nbformat_minor": 2
}
