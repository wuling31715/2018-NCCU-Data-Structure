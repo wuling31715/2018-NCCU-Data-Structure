{
 "cells": [
  {
   "cell_type": "code",
   "execution_count": 7,
   "metadata": {
    "collapsed": true
   },
   "outputs": [],
   "source": [
    "def main(N):\n",
    "    triangle = [[0] * (i + 1) for i in range(N)]\n",
    "    for i, row in zip (range(len(triangle)), triangle):\n",
    "        for j in range(len(row)):\n",
    "            if j == 0 or j == (len(row) - 1):\n",
    "                triangle[i][j] = 1\n",
    "            else:\n",
    "                triangle[i][j] = triangle[i - 1][j - 1] + triangle[i - 1][j]\n",
    "    for i, row in zip (range(len(triangle) + 1), triangle):\n",
    "        print(' ' * int((len(triangle) - i)), end = '')\n",
    "        for j in row:\n",
    "            print(j, end = ' ')\n",
    "        print()"
   ]
  },
  {
   "cell_type": "code",
   "execution_count": 8,
   "metadata": {
    "collapsed": false
   },
   "outputs": [
    {
     "name": "stdout",
     "output_type": "stream",
     "text": [
      "Please input the degree: 20\n",
      "                    1 \n",
      "                   1 1 \n",
      "                  1 2 1 \n",
      "                 1 3 3 1 \n",
      "                1 4 6 4 1 \n",
      "               1 5 10 10 5 1 \n",
      "              1 6 15 20 15 6 1 \n",
      "             1 7 21 35 35 21 7 1 \n",
      "            1 8 28 56 70 56 28 8 1 \n",
      "           1 9 36 84 126 126 84 36 9 1 \n",
      "          1 10 45 120 210 252 210 120 45 10 1 \n",
      "         1 11 55 165 330 462 462 330 165 55 11 1 \n",
      "        1 12 66 220 495 792 924 792 495 220 66 12 1 \n",
      "       1 13 78 286 715 1287 1716 1716 1287 715 286 78 13 1 \n",
      "      1 14 91 364 1001 2002 3003 3432 3003 2002 1001 364 91 14 1 \n",
      "     1 15 105 455 1365 3003 5005 6435 6435 5005 3003 1365 455 105 15 1 \n",
      "    1 16 120 560 1820 4368 8008 11440 12870 11440 8008 4368 1820 560 120 16 1 \n",
      "   1 17 136 680 2380 6188 12376 19448 24310 24310 19448 12376 6188 2380 680 136 17 1 \n",
      "  1 18 153 816 3060 8568 18564 31824 43758 48620 43758 31824 18564 8568 3060 816 153 18 1 \n",
      " 1 19 171 969 3876 11628 27132 50388 75582 92378 92378 75582 50388 27132 11628 3876 969 171 19 1 \n"
     ]
    }
   ],
   "source": [
    "N = int(input('Please input the degree: ')) \n",
    "main(N)"
   ]
  }
 ],
 "metadata": {
  "kernelspec": {
   "display_name": "Python 3",
   "language": "python",
   "name": "python3"
  },
  "language_info": {
   "codemirror_mode": {
    "name": "ipython",
    "version": 3
   },
   "file_extension": ".py",
   "mimetype": "text/x-python",
   "name": "python",
   "nbconvert_exporter": "python",
   "pygments_lexer": "ipython3",
   "version": "3.6.0"
  }
 },
 "nbformat": 4,
 "nbformat_minor": 2
}
